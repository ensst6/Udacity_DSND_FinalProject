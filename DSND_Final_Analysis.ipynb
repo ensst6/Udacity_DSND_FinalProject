{
 "cells": [
  {
   "cell_type": "markdown",
   "metadata": {},
   "source": [
    "# Patient Access to and Use of Electronic Medical Records -- Data Analysis\n",
    "In this notebook, we'll take the cleaned and condensed datasets and run a machine learning analysis to predict access to and use of electronic medical records (EMRs).\n",
    "\n",
    "## Table of Contents\n",
    "<ul>\n",
    "  <li><a href=\"#MLanalysis\">Machine Learning Analysis</a></li>\n",
    "  <ul>\n",
    "      <li><a href=\"#finmanip\">Final Data Manipulations</a></li>\n",
    "      <li><a href=\"#modeloae\">Model for `offeredaccesseither` Outcome</a></li>\n",
    "      <ul>\n",
    "          <li><a href=\"#prelimmodeloae\">Preliminary Model</a></li>\n",
    "          <li><a href=\"#tunemodeloae\">Model Tuning</a></li>\n",
    "          <li><a href=\"#binmodeloae\">Binarizing the Outcome</a></li>\n",
    "          <li><a href=\"#tunebinmodeloae\">Tuning the Binary Model</a></li>\n",
    "          <li><a href=\"#manfeatreductoae\">Manual Feature Reduction</a></li>\n",
    "          <li><a href=\"#sumfinvarsoae\">Summary of Final Variables</a></li>\n",
    "      </ul>\n",
    "      <li><a href=\"#modelaor\">Model for `accessonlinerecord` Outcome</a></li>\n",
    "      <ul>\n",
    "          <li><a href=\"#prelimmodelaor\">Preliminary Model</a></li>\n",
    "          <li><a href=\"#tunemodelaor\">Model Tuning</a></li>\n",
    "          <li><a href=\"#binmodelaor\">Binarizing the Outcome</a></li>\n",
    "          <li><a href=\"#tunebinmodelaor\">Tuning the Binary Model</a></li>\n",
    "          <li><a href=\"#manfeatreductaor\">Manual Feature Reduction</a></li>\n",
    "          <li><a href=\"#sumfinvarsaor\">Summary of Final Variables</a></li>\n",
    "      </ul> \n",
    "  </ul>      \n",
    "<li><a href=\"#overallsum\">Overall Summary</a></li> \n",
    "<li><a href=\"#conclusions\">Conclusions</a></li> \n",
    "  <ul>\n",
    "      <li><a href=\"#limitations\">Limitations</a></li>\n",
    "      <li><a href=\"#improve\">Areas for Improvement and Future Study</a></li>\n",
    "</ul>"
   ]
  },
  {
   "cell_type": "code",
   "execution_count": 1,
   "metadata": {},
   "outputs": [],
   "source": [
    "# import libraries\n",
    "import numpy as np\n",
    "import pandas as pd\n",
    "import matplotlib.pyplot as plt\n",
    "%matplotlib inline\n",
    "import seaborn as sb\n",
    "import statsmodels.api as sm\n",
    "from sklearn.feature_selection import RFE, RFECV\n",
    "from sklearn.linear_model import LogisticRegression\n",
    "from sklearn.model_selection import GridSearchCV\n",
    "from sklearn.metrics import accuracy_score, confusion_matrix, recall_score, precision_score"
   ]
  },
  {
   "cell_type": "markdown",
   "metadata": {},
   "source": [
    "<a id=\"MLanalysis\"></a>\n",
    "## Machine Learning Analysis\n",
    "<a id=\"finmanip\"></a>\n",
    "### Final Data Manipulations"
   ]
  },
  {
   "cell_type": "code",
   "execution_count": 2,
   "metadata": {},
   "outputs": [],
   "source": [
    "# read in the data; these variables were pre-screened in the exploratory notebook\n",
    "df_train = pd.read_csv('data/HINTS_train.csv.gz', compression='gzip')\n",
    "df_test = pd.read_csv('data/HINTS_test.csv.gz', compression='gzip')"
   ]
  },
  {
   "cell_type": "code",
   "execution_count": 3,
   "metadata": {},
   "outputs": [
    {
     "data": {
      "text/html": [
       "<div>\n",
       "<style scoped>\n",
       "    .dataframe tbody tr th:only-of-type {\n",
       "        vertical-align: middle;\n",
       "    }\n",
       "\n",
       "    .dataframe tbody tr th {\n",
       "        vertical-align: top;\n",
       "    }\n",
       "\n",
       "    .dataframe thead th {\n",
       "        text-align: right;\n",
       "    }\n",
       "</style>\n",
       "<table border=\"1\" class=\"dataframe\">\n",
       "  <thead>\n",
       "    <tr style=\"text-align: right;\">\n",
       "      <th></th>\n",
       "      <th>Unnamed: 0</th>\n",
       "      <th>stratum</th>\n",
       "      <th>highspanli</th>\n",
       "      <th>nchsurcode2013</th>\n",
       "      <th>censdiv</th>\n",
       "      <th>useinternet</th>\n",
       "      <th>internet_broadbnd</th>\n",
       "      <th>electronic_selfhealthinfo</th>\n",
       "      <th>havedevice_cat</th>\n",
       "      <th>tablethealthwellnessapps</th>\n",
       "      <th>...</th>\n",
       "      <th>hhinc</th>\n",
       "      <th>smokestat</th>\n",
       "      <th>survey_cycle</th>\n",
       "      <th>offeredaccesseither</th>\n",
       "      <th>phq4_cat</th>\n",
       "      <th>bmi_cat</th>\n",
       "      <th>wkminmodex_cat</th>\n",
       "      <th>avgdrinks_cat</th>\n",
       "      <th>whruseinet_pubvother</th>\n",
       "      <th>healthins_pubpriv</th>\n",
       "    </tr>\n",
       "  </thead>\n",
       "  <tbody>\n",
       "    <tr>\n",
       "      <th>0</th>\n",
       "      <td>653</td>\n",
       "      <td>LM</td>\n",
       "      <td>2</td>\n",
       "      <td>1</td>\n",
       "      <td>3</td>\n",
       "      <td>1</td>\n",
       "      <td>2</td>\n",
       "      <td>1</td>\n",
       "      <td>2</td>\n",
       "      <td>1</td>\n",
       "      <td>...</td>\n",
       "      <td>5</td>\n",
       "      <td>3</td>\n",
       "      <td>2</td>\n",
       "      <td>1</td>\n",
       "      <td>1</td>\n",
       "      <td>1</td>\n",
       "      <td>1</td>\n",
       "      <td>1</td>\n",
       "      <td>2</td>\n",
       "      <td>1</td>\n",
       "    </tr>\n",
       "    <tr>\n",
       "      <th>1</th>\n",
       "      <td>10528</td>\n",
       "      <td>HM</td>\n",
       "      <td>2</td>\n",
       "      <td>3</td>\n",
       "      <td>1</td>\n",
       "      <td>1</td>\n",
       "      <td>1</td>\n",
       "      <td>1</td>\n",
       "      <td>5</td>\n",
       "      <td>2</td>\n",
       "      <td>...</td>\n",
       "      <td>3</td>\n",
       "      <td>1</td>\n",
       "      <td>5</td>\n",
       "      <td>1</td>\n",
       "      <td>1</td>\n",
       "      <td>2</td>\n",
       "      <td>1</td>\n",
       "      <td>1</td>\n",
       "      <td>2</td>\n",
       "      <td>2</td>\n",
       "    </tr>\n",
       "    <tr>\n",
       "      <th>2</th>\n",
       "      <td>2269</td>\n",
       "      <td>HM</td>\n",
       "      <td>2</td>\n",
       "      <td>1</td>\n",
       "      <td>2</td>\n",
       "      <td>1</td>\n",
       "      <td>1</td>\n",
       "      <td>1</td>\n",
       "      <td>5</td>\n",
       "      <td>1</td>\n",
       "      <td>...</td>\n",
       "      <td>5</td>\n",
       "      <td>1</td>\n",
       "      <td>2</td>\n",
       "      <td>1</td>\n",
       "      <td>2</td>\n",
       "      <td>4</td>\n",
       "      <td>1</td>\n",
       "      <td>4</td>\n",
       "      <td>2</td>\n",
       "      <td>1</td>\n",
       "    </tr>\n",
       "    <tr>\n",
       "      <th>3</th>\n",
       "      <td>9279</td>\n",
       "      <td>LM</td>\n",
       "      <td>2</td>\n",
       "      <td>1</td>\n",
       "      <td>8</td>\n",
       "      <td>1</td>\n",
       "      <td>2</td>\n",
       "      <td>1</td>\n",
       "      <td>5</td>\n",
       "      <td>1</td>\n",
       "      <td>...</td>\n",
       "      <td>5</td>\n",
       "      <td>3</td>\n",
       "      <td>5</td>\n",
       "      <td>1</td>\n",
       "      <td>1</td>\n",
       "      <td>2</td>\n",
       "      <td>3</td>\n",
       "      <td>2</td>\n",
       "      <td>2</td>\n",
       "      <td>3</td>\n",
       "    </tr>\n",
       "    <tr>\n",
       "      <th>4</th>\n",
       "      <td>7695</td>\n",
       "      <td>HM</td>\n",
       "      <td>2</td>\n",
       "      <td>2</td>\n",
       "      <td>5</td>\n",
       "      <td>2</td>\n",
       "      <td>-1</td>\n",
       "      <td>1</td>\n",
       "      <td>5</td>\n",
       "      <td>3</td>\n",
       "      <td>...</td>\n",
       "      <td>1</td>\n",
       "      <td>2</td>\n",
       "      <td>3</td>\n",
       "      <td>1</td>\n",
       "      <td>1</td>\n",
       "      <td>3</td>\n",
       "      <td>2</td>\n",
       "      <td>2</td>\n",
       "      <td>-1</td>\n",
       "      <td>3</td>\n",
       "    </tr>\n",
       "  </tbody>\n",
       "</table>\n",
       "<p>5 rows × 44 columns</p>\n",
       "</div>"
      ],
      "text/plain": [
       "   Unnamed: 0 stratum  highspanli  nchsurcode2013  censdiv  useinternet  \\\n",
       "0         653      LM           2               1        3            1   \n",
       "1       10528      HM           2               3        1            1   \n",
       "2        2269      HM           2               1        2            1   \n",
       "3        9279      LM           2               1        8            1   \n",
       "4        7695      HM           2               2        5            2   \n",
       "\n",
       "   internet_broadbnd  electronic_selfhealthinfo  havedevice_cat  \\\n",
       "0                  2                          1               2   \n",
       "1                  1                          1               5   \n",
       "2                  1                          1               5   \n",
       "3                  2                          1               5   \n",
       "4                 -1                          1               5   \n",
       "\n",
       "   tablethealthwellnessapps  ...  hhinc  smokestat  survey_cycle  \\\n",
       "0                         1  ...      5          3             2   \n",
       "1                         2  ...      3          1             5   \n",
       "2                         1  ...      5          1             2   \n",
       "3                         1  ...      5          3             5   \n",
       "4                         3  ...      1          2             3   \n",
       "\n",
       "   offeredaccesseither  phq4_cat  bmi_cat  wkminmodex_cat  avgdrinks_cat  \\\n",
       "0                    1         1        1               1              1   \n",
       "1                    1         1        2               1              1   \n",
       "2                    1         2        4               1              4   \n",
       "3                    1         1        2               3              2   \n",
       "4                    1         1        3               2              2   \n",
       "\n",
       "   whruseinet_pubvother  healthins_pubpriv  \n",
       "0                     2                  1  \n",
       "1                     2                  2  \n",
       "2                     2                  1  \n",
       "3                     2                  3  \n",
       "4                    -1                  3  \n",
       "\n",
       "[5 rows x 44 columns]"
      ]
     },
     "metadata": {},
     "output_type": "display_data"
    },
    {
     "data": {
      "text/html": [
       "<div>\n",
       "<style scoped>\n",
       "    .dataframe tbody tr th:only-of-type {\n",
       "        vertical-align: middle;\n",
       "    }\n",
       "\n",
       "    .dataframe tbody tr th {\n",
       "        vertical-align: top;\n",
       "    }\n",
       "\n",
       "    .dataframe thead th {\n",
       "        text-align: right;\n",
       "    }\n",
       "</style>\n",
       "<table border=\"1\" class=\"dataframe\">\n",
       "  <thead>\n",
       "    <tr style=\"text-align: right;\">\n",
       "      <th></th>\n",
       "      <th>Unnamed: 0</th>\n",
       "      <th>stratum</th>\n",
       "      <th>highspanli</th>\n",
       "      <th>nchsurcode2013</th>\n",
       "      <th>censdiv</th>\n",
       "      <th>useinternet</th>\n",
       "      <th>internet_broadbnd</th>\n",
       "      <th>electronic_selfhealthinfo</th>\n",
       "      <th>havedevice_cat</th>\n",
       "      <th>tablethealthwellnessapps</th>\n",
       "      <th>...</th>\n",
       "      <th>hhinc</th>\n",
       "      <th>smokestat</th>\n",
       "      <th>survey_cycle</th>\n",
       "      <th>offeredaccesseither</th>\n",
       "      <th>phq4_cat</th>\n",
       "      <th>bmi_cat</th>\n",
       "      <th>wkminmodex_cat</th>\n",
       "      <th>avgdrinks_cat</th>\n",
       "      <th>whruseinet_pubvother</th>\n",
       "      <th>healthins_pubpriv</th>\n",
       "    </tr>\n",
       "  </thead>\n",
       "  <tbody>\n",
       "    <tr>\n",
       "      <th>0</th>\n",
       "      <td>3959</td>\n",
       "      <td>HM</td>\n",
       "      <td>2</td>\n",
       "      <td>3</td>\n",
       "      <td>9</td>\n",
       "      <td>1</td>\n",
       "      <td>2</td>\n",
       "      <td>1</td>\n",
       "      <td>5</td>\n",
       "      <td>2</td>\n",
       "      <td>...</td>\n",
       "      <td>3</td>\n",
       "      <td>2</td>\n",
       "      <td>3</td>\n",
       "      <td>2</td>\n",
       "      <td>1</td>\n",
       "      <td>4</td>\n",
       "      <td>4</td>\n",
       "      <td>4</td>\n",
       "      <td>2</td>\n",
       "      <td>2</td>\n",
       "    </tr>\n",
       "    <tr>\n",
       "      <th>1</th>\n",
       "      <td>8595</td>\n",
       "      <td>LM</td>\n",
       "      <td>2</td>\n",
       "      <td>5</td>\n",
       "      <td>1</td>\n",
       "      <td>1</td>\n",
       "      <td>2</td>\n",
       "      <td>1</td>\n",
       "      <td>2</td>\n",
       "      <td>2</td>\n",
       "      <td>...</td>\n",
       "      <td>5</td>\n",
       "      <td>3</td>\n",
       "      <td>4</td>\n",
       "      <td>1</td>\n",
       "      <td>1</td>\n",
       "      <td>1</td>\n",
       "      <td>2</td>\n",
       "      <td>3</td>\n",
       "      <td>2</td>\n",
       "      <td>3</td>\n",
       "    </tr>\n",
       "    <tr>\n",
       "      <th>2</th>\n",
       "      <td>3742</td>\n",
       "      <td>HM</td>\n",
       "      <td>2</td>\n",
       "      <td>1</td>\n",
       "      <td>9</td>\n",
       "      <td>2</td>\n",
       "      <td>-1</td>\n",
       "      <td>2</td>\n",
       "      <td>2</td>\n",
       "      <td>3</td>\n",
       "      <td>...</td>\n",
       "      <td>4</td>\n",
       "      <td>1</td>\n",
       "      <td>3</td>\n",
       "      <td>3</td>\n",
       "      <td>1</td>\n",
       "      <td>2</td>\n",
       "      <td>1</td>\n",
       "      <td>2</td>\n",
       "      <td>-1</td>\n",
       "      <td>1</td>\n",
       "    </tr>\n",
       "    <tr>\n",
       "      <th>3</th>\n",
       "      <td>2820</td>\n",
       "      <td>HM</td>\n",
       "      <td>2</td>\n",
       "      <td>4</td>\n",
       "      <td>7</td>\n",
       "      <td>1</td>\n",
       "      <td>1</td>\n",
       "      <td>1</td>\n",
       "      <td>5</td>\n",
       "      <td>1</td>\n",
       "      <td>...</td>\n",
       "      <td>2</td>\n",
       "      <td>2</td>\n",
       "      <td>2</td>\n",
       "      <td>2</td>\n",
       "      <td>1</td>\n",
       "      <td>4</td>\n",
       "      <td>1</td>\n",
       "      <td>1</td>\n",
       "      <td>2</td>\n",
       "      <td>1</td>\n",
       "    </tr>\n",
       "    <tr>\n",
       "      <th>4</th>\n",
       "      <td>10671</td>\n",
       "      <td>HM</td>\n",
       "      <td>2</td>\n",
       "      <td>1</td>\n",
       "      <td>7</td>\n",
       "      <td>1</td>\n",
       "      <td>2</td>\n",
       "      <td>1</td>\n",
       "      <td>2</td>\n",
       "      <td>1</td>\n",
       "      <td>...</td>\n",
       "      <td>5</td>\n",
       "      <td>3</td>\n",
       "      <td>5</td>\n",
       "      <td>1</td>\n",
       "      <td>1</td>\n",
       "      <td>1</td>\n",
       "      <td>5</td>\n",
       "      <td>2</td>\n",
       "      <td>2</td>\n",
       "      <td>1</td>\n",
       "    </tr>\n",
       "  </tbody>\n",
       "</table>\n",
       "<p>5 rows × 44 columns</p>\n",
       "</div>"
      ],
      "text/plain": [
       "   Unnamed: 0 stratum  highspanli  nchsurcode2013  censdiv  useinternet  \\\n",
       "0        3959      HM           2               3        9            1   \n",
       "1        8595      LM           2               5        1            1   \n",
       "2        3742      HM           2               1        9            2   \n",
       "3        2820      HM           2               4        7            1   \n",
       "4       10671      HM           2               1        7            1   \n",
       "\n",
       "   internet_broadbnd  electronic_selfhealthinfo  havedevice_cat  \\\n",
       "0                  2                          1               5   \n",
       "1                  2                          1               2   \n",
       "2                 -1                          2               2   \n",
       "3                  1                          1               5   \n",
       "4                  2                          1               2   \n",
       "\n",
       "   tablethealthwellnessapps  ...  hhinc  smokestat  survey_cycle  \\\n",
       "0                         2  ...      3          2             3   \n",
       "1                         2  ...      5          3             4   \n",
       "2                         3  ...      4          1             3   \n",
       "3                         1  ...      2          2             2   \n",
       "4                         1  ...      5          3             5   \n",
       "\n",
       "   offeredaccesseither  phq4_cat  bmi_cat  wkminmodex_cat  avgdrinks_cat  \\\n",
       "0                    2         1        4               4              4   \n",
       "1                    1         1        1               2              3   \n",
       "2                    3         1        2               1              2   \n",
       "3                    2         1        4               1              1   \n",
       "4                    1         1        1               5              2   \n",
       "\n",
       "   whruseinet_pubvother  healthins_pubpriv  \n",
       "0                     2                  2  \n",
       "1                     2                  3  \n",
       "2                    -1                  1  \n",
       "3                     2                  1  \n",
       "4                     2                  1  \n",
       "\n",
       "[5 rows x 44 columns]"
      ]
     },
     "metadata": {},
     "output_type": "display_data"
    }
   ],
   "source": [
    "# check that data loaded\n",
    "display(df_train.head())\n",
    "display(df_test.head())"
   ]
  },
  {
   "cell_type": "code",
   "execution_count": 4,
   "metadata": {},
   "outputs": [],
   "source": [
    "# remove the index columns\n",
    "df_train.drop(columns = ['Unnamed: 0'], inplace = True)\n",
    "df_test.drop(columns = ['Unnamed: 0'], inplace = True)"
   ]
  },
  {
   "cell_type": "code",
   "execution_count": 5,
   "metadata": {},
   "outputs": [
    {
     "data": {
      "text/plain": [
       "Index(['stratum', 'highspanli', 'nchsurcode2013', 'censdiv', 'useinternet',\n",
       "       'internet_broadbnd', 'electronic_selfhealthinfo', 'havedevice_cat',\n",
       "       'tablethealthwellnessapps', 'tablet_achievegoal', 'tablet_makedecision',\n",
       "       'tablet_discussionshcp', 'intrsn_visitedsocnet', 'intrsn_sharedsocnet',\n",
       "       'intrsn_supportgroup', 'intrsn_youtube', 'regularprovider',\n",
       "       'freqgoprovider', 'qualitycare', 'healthinsurance',\n",
       "       'accessonlinerecord', 'generalhealth', 'ownabilitytakecarehealth',\n",
       "       'medconditions_diabetes', 'medconditions_highbp',\n",
       "       'medconditions_heartcondition', 'medconditions_depression',\n",
       "       'everhadcancer', 'maritalstatus', 'selfgender', 'agegrpb', 'educa',\n",
       "       'raceethn5', 'hhinc', 'smokestat', 'survey_cycle',\n",
       "       'offeredaccesseither', 'phq4_cat', 'bmi_cat', 'wkminmodex_cat',\n",
       "       'avgdrinks_cat', 'whruseinet_pubvother', 'healthins_pubpriv'],\n",
       "      dtype='object')"
      ]
     },
     "execution_count": 5,
     "metadata": {},
     "output_type": "execute_result"
    }
   ],
   "source": [
    "df_train.columns"
   ]
  },
  {
   "cell_type": "markdown",
   "metadata": {},
   "source": [
    "We will use logistic regression as our model, since it gives interpretable coefficients that will allow us to identify groups who are more and less likely to be offered use of an EMR and who are more and less likely to use the EMR. Since the outcome variables have > 2 categories, we'll use a multinomial model.  \n",
    "To set up the model we'll need to create dummy variables for any categorical variable with > 2 categories. It will also be helpful to recode the predictor and outcome variables as N=0, Y=1 (where applicable) to simplify model interpretation and to make \"No\" the reference category. The predictor variables currently are coded Y=1, N=2. To refresh our memory, let's look at the values for each column again."
   ]
  },
  {
   "cell_type": "code",
   "execution_count": 6,
   "metadata": {},
   "outputs": [
    {
     "name": "stdout",
     "output_type": "stream",
     "text": [
      "stratum \n",
      " HM    3185\n",
      "LM    2305\n",
      "Name: stratum, dtype: int64\n",
      "highspanli \n",
      " 2    5031\n",
      "1     459\n",
      "Name: highspanli, dtype: int64\n",
      "nchsurcode2013 \n",
      " 1    1952\n",
      "2    1291\n",
      "3    1134\n",
      "4     456\n",
      "5     389\n",
      "6     268\n",
      "Name: nchsurcode2013, dtype: int64\n",
      "censdiv \n",
      " 5    1309\n",
      "9     883\n",
      "7     770\n",
      "3     708\n",
      "2     579\n",
      "8     446\n",
      "4     297\n",
      "6     281\n",
      "1     217\n",
      "Name: censdiv, dtype: int64\n",
      "useinternet \n",
      " 1    4615\n",
      "2     875\n",
      "Name: useinternet, dtype: int64\n",
      "internet_broadbnd \n",
      "  2    2320\n",
      " 1    2295\n",
      "-1     875\n",
      "Name: internet_broadbnd, dtype: int64\n",
      "electronic_selfhealthinfo \n",
      " 1    3999\n",
      "2    1491\n",
      "Name: electronic_selfhealthinfo, dtype: int64\n",
      "havedevice_cat \n",
      " 5    2995\n",
      "2    1527\n",
      "3     497\n",
      "1     258\n",
      "4     213\n",
      "Name: havedevice_cat, dtype: int64\n",
      "tablethealthwellnessapps \n",
      "  1    2561\n",
      " 2    2044\n",
      "-1     710\n",
      " 3     175\n",
      "Name: tablethealthwellnessapps, dtype: int64\n",
      "tablet_achievegoal \n",
      "  2    2614\n",
      " 1    2166\n",
      "-1     710\n",
      "Name: tablet_achievegoal, dtype: int64\n",
      "tablet_makedecision \n",
      "  2    2856\n",
      " 1    1924\n",
      "-1     710\n",
      "Name: tablet_makedecision, dtype: int64\n",
      "tablet_discussionshcp \n",
      "  2    2865\n",
      " 1    1915\n",
      "-1     710\n",
      "Name: tablet_discussionshcp, dtype: int64\n",
      "intrsn_visitedsocnet \n",
      " 1    3799\n",
      "2    1691\n",
      "Name: intrsn_visitedsocnet, dtype: int64\n",
      "intrsn_sharedsocnet \n",
      " 2    4725\n",
      "1     765\n",
      "Name: intrsn_sharedsocnet, dtype: int64\n",
      "intrsn_supportgroup \n",
      " 2    5077\n",
      "1     413\n",
      "Name: intrsn_supportgroup, dtype: int64\n",
      "intrsn_youtube \n",
      " 2    3558\n",
      "1    1932\n",
      "Name: intrsn_youtube, dtype: int64\n",
      "regularprovider \n",
      " 1    3963\n",
      "2    1527\n",
      "Name: regularprovider, dtype: int64\n",
      "freqgoprovider \n",
      " 2    1088\n",
      "5     900\n",
      "3     818\n",
      "1     804\n",
      "4     750\n",
      "0     618\n",
      "6     512\n",
      "Name: freqgoprovider, dtype: int64\n",
      "qualitycare \n",
      "  2    1992\n",
      " 1    1704\n",
      " 3     905\n",
      "-1     618\n",
      " 4     231\n",
      " 5      40\n",
      "Name: qualitycare, dtype: int64\n",
      "healthinsurance \n",
      " 1    5233\n",
      "2     257\n",
      "Name: healthinsurance, dtype: int64\n",
      "accessonlinerecord \n",
      " 0    3196\n",
      "1     965\n",
      "2     763\n",
      "3     296\n",
      "4     270\n",
      "Name: accessonlinerecord, dtype: int64\n",
      "generalhealth \n",
      " 2    2077\n",
      "3    1936\n",
      "1     687\n",
      "4     668\n",
      "5     122\n",
      "Name: generalhealth, dtype: int64\n",
      "ownabilitytakecarehealth \n",
      " 2    2652\n",
      "1    1338\n",
      "3    1287\n",
      "4     165\n",
      "5      48\n",
      "Name: ownabilitytakecarehealth, dtype: int64\n",
      "medconditions_diabetes \n",
      " 2    4377\n",
      "1    1113\n",
      "Name: medconditions_diabetes, dtype: int64\n",
      "medconditions_highbp \n",
      " 2    3086\n",
      "1    2404\n",
      "Name: medconditions_highbp, dtype: int64\n",
      "medconditions_heartcondition \n",
      " 2    4986\n",
      "1     504\n",
      "Name: medconditions_heartcondition, dtype: int64\n",
      "medconditions_depression \n",
      " 2    4220\n",
      "1    1270\n",
      "Name: medconditions_depression, dtype: int64\n",
      "everhadcancer \n",
      " 2    4619\n",
      "1     871\n",
      "Name: everhadcancer, dtype: int64\n",
      "maritalstatus \n",
      " 1    2835\n",
      "6     928\n",
      "3     849\n",
      "4     524\n",
      "2     245\n",
      "5     109\n",
      "Name: maritalstatus, dtype: int64\n",
      "selfgender \n",
      " 2    3014\n",
      "1    2233\n",
      "3     243\n",
      "Name: selfgender, dtype: int64\n",
      "agegrpb \n",
      " 3    1787\n",
      "4    1163\n",
      "2    1151\n",
      "1     748\n",
      "5     641\n",
      "Name: agegrpb, dtype: int64\n",
      "educa \n",
      " 4    2700\n",
      "3    1641\n",
      "2     853\n",
      "1     296\n",
      "Name: educa, dtype: int64\n",
      "raceethn5 \n",
      "  1    3479\n",
      " 3     742\n",
      " 2     624\n",
      "-9     241\n",
      " 4     219\n",
      " 5     185\n",
      "Name: raceethn5, dtype: int64\n",
      "hhinc \n",
      "  5    2121\n",
      " 4     983\n",
      " 1     767\n",
      " 2     631\n",
      " 3     619\n",
      "-9     369\n",
      "Name: hhinc, dtype: int64\n",
      "smokestat \n",
      " 3    3430\n",
      "2    1402\n",
      "1     658\n",
      "Name: smokestat, dtype: int64\n",
      "survey_cycle \n",
      " 3    2032\n",
      "2    1640\n",
      "5    1112\n",
      "4     706\n",
      "Name: survey_cycle, dtype: int64\n",
      "offeredaccesseither \n",
      " 1    3418\n",
      "2    1512\n",
      "3     560\n",
      "Name: offeredaccesseither, dtype: int64\n",
      "phq4_cat \n",
      " 1    4037\n",
      "2     896\n",
      "3     321\n",
      "4     236\n",
      "Name: phq4_cat, dtype: int64\n",
      "bmi_cat \n",
      " 3    1405\n",
      "1    1385\n",
      "4    1357\n",
      "2    1343\n",
      "Name: bmi_cat, dtype: int64\n",
      "wkminmodex_cat \n",
      " 1    1495\n",
      "5    1236\n",
      "3    1094\n",
      "2     918\n",
      "4     747\n",
      "Name: wkminmodex_cat, dtype: int64\n",
      "avgdrinks_cat \n",
      " 1    2841\n",
      "2    1429\n",
      "3     649\n",
      "4     308\n",
      "5     263\n",
      "Name: avgdrinks_cat, dtype: int64\n",
      "whruseinet_pubvother \n",
      "  2    3781\n",
      "-1     875\n",
      " 1     834\n",
      "Name: whruseinet_pubvother, dtype: int64\n",
      "healthins_pubpriv \n",
      " 1    2961\n",
      "2    1761\n",
      "3     768\n",
      "Name: healthins_pubpriv, dtype: int64\n"
     ]
    }
   ],
   "source": [
    "for col in df_train.columns:\n",
    "    print(col, '\\n', df_train[col].value_counts())"
   ]
  },
  {
   "cell_type": "markdown",
   "metadata": {},
   "source": [
    "The following are of type Y/N. They'll be recoded from Y=1, N=2, to Y=1, N=0."
   ]
  },
  {
   "cell_type": "code",
   "execution_count": 7,
   "metadata": {},
   "outputs": [],
   "source": [
    "# make list of Y/N vars to recode\n",
    "vars_yn = ['highspanli', 'useinternet', 'electronic_selfhealthinfo', 'intrsn_visitedsocnet', 'intrsn_sharedsocnet',\\\n",
    "          'intrsn_supportgroup', 'intrsn_youtube', 'regularprovider', 'healthinsurance', 'medconditions_diabetes', \\\n",
    "          'medconditions_highbp', 'medconditions_heartcondition', 'medconditions_depression', 'everhadcancer']"
   ]
  },
  {
   "cell_type": "code",
   "execution_count": 8,
   "metadata": {},
   "outputs": [],
   "source": [
    "# make df to hold recoded vars\n",
    "df_train_recode = df_train.copy()\n",
    "df_test_recode = df_test.copy()"
   ]
  },
  {
   "cell_type": "code",
   "execution_count": 9,
   "metadata": {},
   "outputs": [],
   "source": [
    "# recode the Y/N vars; all  we have to do is change \"N\" from 2 to 0\n",
    "for var in vars_yn:\n",
    "    df_train_recode.loc[df_train[var] == 2, var] = 0"
   ]
  },
  {
   "cell_type": "code",
   "execution_count": 10,
   "metadata": {},
   "outputs": [
    {
     "name": "stdout",
     "output_type": "stream",
     "text": [
      "stratum \n",
      " HM    3185\n",
      "LM    2305\n",
      "Name: stratum, dtype: int64\n",
      "highspanli \n",
      " 0    5031\n",
      "1     459\n",
      "Name: highspanli, dtype: int64\n",
      "nchsurcode2013 \n",
      " 1    1952\n",
      "2    1291\n",
      "3    1134\n",
      "4     456\n",
      "5     389\n",
      "6     268\n",
      "Name: nchsurcode2013, dtype: int64\n",
      "censdiv \n",
      " 5    1309\n",
      "9     883\n",
      "7     770\n",
      "3     708\n",
      "2     579\n",
      "8     446\n",
      "4     297\n",
      "6     281\n",
      "1     217\n",
      "Name: censdiv, dtype: int64\n",
      "useinternet \n",
      " 1    4615\n",
      "0     875\n",
      "Name: useinternet, dtype: int64\n",
      "internet_broadbnd \n",
      "  2    2320\n",
      " 1    2295\n",
      "-1     875\n",
      "Name: internet_broadbnd, dtype: int64\n",
      "electronic_selfhealthinfo \n",
      " 1    3999\n",
      "0    1491\n",
      "Name: electronic_selfhealthinfo, dtype: int64\n",
      "havedevice_cat \n",
      " 5    2995\n",
      "2    1527\n",
      "3     497\n",
      "1     258\n",
      "4     213\n",
      "Name: havedevice_cat, dtype: int64\n",
      "tablethealthwellnessapps \n",
      "  1    2561\n",
      " 2    2044\n",
      "-1     710\n",
      " 3     175\n",
      "Name: tablethealthwellnessapps, dtype: int64\n",
      "tablet_achievegoal \n",
      "  2    2614\n",
      " 1    2166\n",
      "-1     710\n",
      "Name: tablet_achievegoal, dtype: int64\n",
      "tablet_makedecision \n",
      "  2    2856\n",
      " 1    1924\n",
      "-1     710\n",
      "Name: tablet_makedecision, dtype: int64\n",
      "tablet_discussionshcp \n",
      "  2    2865\n",
      " 1    1915\n",
      "-1     710\n",
      "Name: tablet_discussionshcp, dtype: int64\n",
      "intrsn_visitedsocnet \n",
      " 1    3799\n",
      "0    1691\n",
      "Name: intrsn_visitedsocnet, dtype: int64\n",
      "intrsn_sharedsocnet \n",
      " 0    4725\n",
      "1     765\n",
      "Name: intrsn_sharedsocnet, dtype: int64\n",
      "intrsn_supportgroup \n",
      " 0    5077\n",
      "1     413\n",
      "Name: intrsn_supportgroup, dtype: int64\n",
      "intrsn_youtube \n",
      " 0    3558\n",
      "1    1932\n",
      "Name: intrsn_youtube, dtype: int64\n",
      "regularprovider \n",
      " 1    3963\n",
      "0    1527\n",
      "Name: regularprovider, dtype: int64\n",
      "freqgoprovider \n",
      " 2    1088\n",
      "5     900\n",
      "3     818\n",
      "1     804\n",
      "4     750\n",
      "0     618\n",
      "6     512\n",
      "Name: freqgoprovider, dtype: int64\n",
      "qualitycare \n",
      "  2    1992\n",
      " 1    1704\n",
      " 3     905\n",
      "-1     618\n",
      " 4     231\n",
      " 5      40\n",
      "Name: qualitycare, dtype: int64\n",
      "healthinsurance \n",
      " 1    5233\n",
      "0     257\n",
      "Name: healthinsurance, dtype: int64\n",
      "accessonlinerecord \n",
      " 0    3196\n",
      "1     965\n",
      "2     763\n",
      "3     296\n",
      "4     270\n",
      "Name: accessonlinerecord, dtype: int64\n",
      "generalhealth \n",
      " 2    2077\n",
      "3    1936\n",
      "1     687\n",
      "4     668\n",
      "5     122\n",
      "Name: generalhealth, dtype: int64\n",
      "ownabilitytakecarehealth \n",
      " 2    2652\n",
      "1    1338\n",
      "3    1287\n",
      "4     165\n",
      "5      48\n",
      "Name: ownabilitytakecarehealth, dtype: int64\n",
      "medconditions_diabetes \n",
      " 0    4377\n",
      "1    1113\n",
      "Name: medconditions_diabetes, dtype: int64\n",
      "medconditions_highbp \n",
      " 0    3086\n",
      "1    2404\n",
      "Name: medconditions_highbp, dtype: int64\n",
      "medconditions_heartcondition \n",
      " 0    4986\n",
      "1     504\n",
      "Name: medconditions_heartcondition, dtype: int64\n",
      "medconditions_depression \n",
      " 0    4220\n",
      "1    1270\n",
      "Name: medconditions_depression, dtype: int64\n",
      "everhadcancer \n",
      " 0    4619\n",
      "1     871\n",
      "Name: everhadcancer, dtype: int64\n",
      "maritalstatus \n",
      " 1    2835\n",
      "6     928\n",
      "3     849\n",
      "4     524\n",
      "2     245\n",
      "5     109\n",
      "Name: maritalstatus, dtype: int64\n",
      "selfgender \n",
      " 2    3014\n",
      "1    2233\n",
      "3     243\n",
      "Name: selfgender, dtype: int64\n",
      "agegrpb \n",
      " 3    1787\n",
      "4    1163\n",
      "2    1151\n",
      "1     748\n",
      "5     641\n",
      "Name: agegrpb, dtype: int64\n",
      "educa \n",
      " 4    2700\n",
      "3    1641\n",
      "2     853\n",
      "1     296\n",
      "Name: educa, dtype: int64\n",
      "raceethn5 \n",
      "  1    3479\n",
      " 3     742\n",
      " 2     624\n",
      "-9     241\n",
      " 4     219\n",
      " 5     185\n",
      "Name: raceethn5, dtype: int64\n",
      "hhinc \n",
      "  5    2121\n",
      " 4     983\n",
      " 1     767\n",
      " 2     631\n",
      " 3     619\n",
      "-9     369\n",
      "Name: hhinc, dtype: int64\n",
      "smokestat \n",
      " 3    3430\n",
      "2    1402\n",
      "1     658\n",
      "Name: smokestat, dtype: int64\n",
      "survey_cycle \n",
      " 3    2032\n",
      "2    1640\n",
      "5    1112\n",
      "4     706\n",
      "Name: survey_cycle, dtype: int64\n",
      "offeredaccesseither \n",
      " 1    3418\n",
      "2    1512\n",
      "3     560\n",
      "Name: offeredaccesseither, dtype: int64\n",
      "phq4_cat \n",
      " 1    4037\n",
      "2     896\n",
      "3     321\n",
      "4     236\n",
      "Name: phq4_cat, dtype: int64\n",
      "bmi_cat \n",
      " 3    1405\n",
      "1    1385\n",
      "4    1357\n",
      "2    1343\n",
      "Name: bmi_cat, dtype: int64\n",
      "wkminmodex_cat \n",
      " 1    1495\n",
      "5    1236\n",
      "3    1094\n",
      "2     918\n",
      "4     747\n",
      "Name: wkminmodex_cat, dtype: int64\n",
      "avgdrinks_cat \n",
      " 1    2841\n",
      "2    1429\n",
      "3     649\n",
      "4     308\n",
      "5     263\n",
      "Name: avgdrinks_cat, dtype: int64\n",
      "whruseinet_pubvother \n",
      "  2    3781\n",
      "-1     875\n",
      " 1     834\n",
      "Name: whruseinet_pubvother, dtype: int64\n",
      "healthins_pubpriv \n",
      " 1    2961\n",
      "2    1761\n",
      "3     768\n",
      "Name: healthins_pubpriv, dtype: int64\n"
     ]
    }
   ],
   "source": [
    "# check that it worked\n",
    "for col in df_train_recode.columns:\n",
    "    print(col, '\\n', df_train_recode[col].value_counts())"
   ]
  },
  {
   "cell_type": "code",
   "execution_count": 11,
   "metadata": {},
   "outputs": [],
   "source": [
    "# repeat for test set\n",
    "for var in vars_yn:\n",
    "    df_test_recode.loc[df_test[var] == 2, var] = 0"
   ]
  },
  {
   "cell_type": "markdown",
   "metadata": {},
   "source": [
    "All of the rest of the variables except `stratum` (which is coded as a categorical) have >= 3 categories, so we'll need to make dummy variables for them."
   ]
  },
  {
   "cell_type": "code",
   "execution_count": 12,
   "metadata": {},
   "outputs": [],
   "source": [
    "# list of variables that don't need to be dummied\n",
    "vars_nodum = vars_yn\n",
    "vars_nodum.append('stratum')\n",
    "vars_nodum.append('accessonlinerecord')\n",
    "vars_nodum.append('offeredaccesseither')"
   ]
  },
  {
   "cell_type": "code",
   "execution_count": 13,
   "metadata": {},
   "outputs": [],
   "source": [
    "# list of variables that need dummies made\n",
    "vars_dum = list(set(df_train.columns) - set(vars_nodum))"
   ]
  },
  {
   "cell_type": "code",
   "execution_count": 14,
   "metadata": {},
   "outputs": [
    {
     "data": {
      "text/plain": [
       "['bmi_cat',\n",
       " 'freqgoprovider',\n",
       " 'agegrpb',\n",
       " 'avgdrinks_cat',\n",
       " 'tablet_makedecision',\n",
       " 'whruseinet_pubvother',\n",
       " 'educa',\n",
       " 'internet_broadbnd',\n",
       " 'tablet_achievegoal',\n",
       " 'nchsurcode2013',\n",
       " 'healthins_pubpriv',\n",
       " 'survey_cycle',\n",
       " 'selfgender',\n",
       " 'qualitycare',\n",
       " 'havedevice_cat',\n",
       " 'maritalstatus',\n",
       " 'smokestat',\n",
       " 'generalhealth',\n",
       " 'raceethn5',\n",
       " 'tablethealthwellnessapps',\n",
       " 'hhinc',\n",
       " 'wkminmodex_cat',\n",
       " 'censdiv',\n",
       " 'ownabilitytakecarehealth',\n",
       " 'phq4_cat',\n",
       " 'tablet_discussionshcp']"
      ]
     },
     "execution_count": 14,
     "metadata": {},
     "output_type": "execute_result"
    }
   ],
   "source": [
    "vars_dum"
   ]
  },
  {
   "cell_type": "markdown",
   "metadata": {},
   "source": [
    "We'll generate dummy variables, dropping the first category (it will be the reference group) of each."
   ]
  },
  {
   "cell_type": "code",
   "execution_count": 15,
   "metadata": {},
   "outputs": [],
   "source": [
    "# create dummy variables -- training set\n",
    "df_train_dums = pd.get_dummies(df_train_recode, prefix = vars_dum, columns = vars_dum, drop_first = True)"
   ]
  },
  {
   "cell_type": "code",
   "execution_count": 16,
   "metadata": {},
   "outputs": [
    {
     "data": {
      "text/html": [
       "<div>\n",
       "<style scoped>\n",
       "    .dataframe tbody tr th:only-of-type {\n",
       "        vertical-align: middle;\n",
       "    }\n",
       "\n",
       "    .dataframe tbody tr th {\n",
       "        vertical-align: top;\n",
       "    }\n",
       "\n",
       "    .dataframe thead th {\n",
       "        text-align: right;\n",
       "    }\n",
       "</style>\n",
       "<table border=\"1\" class=\"dataframe\">\n",
       "  <thead>\n",
       "    <tr style=\"text-align: right;\">\n",
       "      <th></th>\n",
       "      <th>stratum</th>\n",
       "      <th>highspanli</th>\n",
       "      <th>useinternet</th>\n",
       "      <th>electronic_selfhealthinfo</th>\n",
       "      <th>intrsn_visitedsocnet</th>\n",
       "      <th>intrsn_sharedsocnet</th>\n",
       "      <th>intrsn_supportgroup</th>\n",
       "      <th>intrsn_youtube</th>\n",
       "      <th>regularprovider</th>\n",
       "      <th>healthinsurance</th>\n",
       "      <th>...</th>\n",
       "      <th>censdiv_9</th>\n",
       "      <th>ownabilitytakecarehealth_2</th>\n",
       "      <th>ownabilitytakecarehealth_3</th>\n",
       "      <th>ownabilitytakecarehealth_4</th>\n",
       "      <th>ownabilitytakecarehealth_5</th>\n",
       "      <th>phq4_cat_2</th>\n",
       "      <th>phq4_cat_3</th>\n",
       "      <th>phq4_cat_4</th>\n",
       "      <th>tablet_discussionshcp_1</th>\n",
       "      <th>tablet_discussionshcp_2</th>\n",
       "    </tr>\n",
       "  </thead>\n",
       "  <tbody>\n",
       "    <tr>\n",
       "      <th>0</th>\n",
       "      <td>LM</td>\n",
       "      <td>0</td>\n",
       "      <td>1</td>\n",
       "      <td>1</td>\n",
       "      <td>1</td>\n",
       "      <td>0</td>\n",
       "      <td>0</td>\n",
       "      <td>0</td>\n",
       "      <td>1</td>\n",
       "      <td>1</td>\n",
       "      <td>...</td>\n",
       "      <td>0</td>\n",
       "      <td>0</td>\n",
       "      <td>0</td>\n",
       "      <td>0</td>\n",
       "      <td>0</td>\n",
       "      <td>0</td>\n",
       "      <td>0</td>\n",
       "      <td>0</td>\n",
       "      <td>1</td>\n",
       "      <td>0</td>\n",
       "    </tr>\n",
       "    <tr>\n",
       "      <th>1</th>\n",
       "      <td>HM</td>\n",
       "      <td>0</td>\n",
       "      <td>1</td>\n",
       "      <td>1</td>\n",
       "      <td>0</td>\n",
       "      <td>0</td>\n",
       "      <td>0</td>\n",
       "      <td>0</td>\n",
       "      <td>1</td>\n",
       "      <td>1</td>\n",
       "      <td>...</td>\n",
       "      <td>0</td>\n",
       "      <td>0</td>\n",
       "      <td>0</td>\n",
       "      <td>0</td>\n",
       "      <td>0</td>\n",
       "      <td>0</td>\n",
       "      <td>0</td>\n",
       "      <td>0</td>\n",
       "      <td>1</td>\n",
       "      <td>0</td>\n",
       "    </tr>\n",
       "    <tr>\n",
       "      <th>2</th>\n",
       "      <td>HM</td>\n",
       "      <td>0</td>\n",
       "      <td>1</td>\n",
       "      <td>1</td>\n",
       "      <td>1</td>\n",
       "      <td>0</td>\n",
       "      <td>1</td>\n",
       "      <td>1</td>\n",
       "      <td>1</td>\n",
       "      <td>1</td>\n",
       "      <td>...</td>\n",
       "      <td>0</td>\n",
       "      <td>0</td>\n",
       "      <td>0</td>\n",
       "      <td>1</td>\n",
       "      <td>0</td>\n",
       "      <td>1</td>\n",
       "      <td>0</td>\n",
       "      <td>0</td>\n",
       "      <td>1</td>\n",
       "      <td>0</td>\n",
       "    </tr>\n",
       "    <tr>\n",
       "      <th>3</th>\n",
       "      <td>LM</td>\n",
       "      <td>0</td>\n",
       "      <td>1</td>\n",
       "      <td>1</td>\n",
       "      <td>1</td>\n",
       "      <td>0</td>\n",
       "      <td>0</td>\n",
       "      <td>1</td>\n",
       "      <td>1</td>\n",
       "      <td>1</td>\n",
       "      <td>...</td>\n",
       "      <td>0</td>\n",
       "      <td>1</td>\n",
       "      <td>0</td>\n",
       "      <td>0</td>\n",
       "      <td>0</td>\n",
       "      <td>0</td>\n",
       "      <td>0</td>\n",
       "      <td>0</td>\n",
       "      <td>1</td>\n",
       "      <td>0</td>\n",
       "    </tr>\n",
       "    <tr>\n",
       "      <th>4</th>\n",
       "      <td>HM</td>\n",
       "      <td>0</td>\n",
       "      <td>0</td>\n",
       "      <td>1</td>\n",
       "      <td>0</td>\n",
       "      <td>0</td>\n",
       "      <td>0</td>\n",
       "      <td>0</td>\n",
       "      <td>1</td>\n",
       "      <td>1</td>\n",
       "      <td>...</td>\n",
       "      <td>0</td>\n",
       "      <td>1</td>\n",
       "      <td>0</td>\n",
       "      <td>0</td>\n",
       "      <td>0</td>\n",
       "      <td>0</td>\n",
       "      <td>0</td>\n",
       "      <td>0</td>\n",
       "      <td>0</td>\n",
       "      <td>1</td>\n",
       "    </tr>\n",
       "  </tbody>\n",
       "</table>\n",
       "<p>5 rows × 111 columns</p>\n",
       "</div>"
      ],
      "text/plain": [
       "  stratum  highspanli  useinternet  electronic_selfhealthinfo  \\\n",
       "0      LM           0            1                          1   \n",
       "1      HM           0            1                          1   \n",
       "2      HM           0            1                          1   \n",
       "3      LM           0            1                          1   \n",
       "4      HM           0            0                          1   \n",
       "\n",
       "   intrsn_visitedsocnet  intrsn_sharedsocnet  intrsn_supportgroup  \\\n",
       "0                     1                    0                    0   \n",
       "1                     0                    0                    0   \n",
       "2                     1                    0                    1   \n",
       "3                     1                    0                    0   \n",
       "4                     0                    0                    0   \n",
       "\n",
       "   intrsn_youtube  regularprovider  healthinsurance  ...  censdiv_9  \\\n",
       "0               0                1                1  ...          0   \n",
       "1               0                1                1  ...          0   \n",
       "2               1                1                1  ...          0   \n",
       "3               1                1                1  ...          0   \n",
       "4               0                1                1  ...          0   \n",
       "\n",
       "   ownabilitytakecarehealth_2  ownabilitytakecarehealth_3  \\\n",
       "0                           0                           0   \n",
       "1                           0                           0   \n",
       "2                           0                           0   \n",
       "3                           1                           0   \n",
       "4                           1                           0   \n",
       "\n",
       "   ownabilitytakecarehealth_4  ownabilitytakecarehealth_5  phq4_cat_2  \\\n",
       "0                           0                           0           0   \n",
       "1                           0                           0           0   \n",
       "2                           1                           0           1   \n",
       "3                           0                           0           0   \n",
       "4                           0                           0           0   \n",
       "\n",
       "   phq4_cat_3  phq4_cat_4  tablet_discussionshcp_1  tablet_discussionshcp_2  \n",
       "0           0           0                        1                        0  \n",
       "1           0           0                        1                        0  \n",
       "2           0           0                        1                        0  \n",
       "3           0           0                        1                        0  \n",
       "4           0           0                        0                        1  \n",
       "\n",
       "[5 rows x 111 columns]"
      ]
     },
     "execution_count": 16,
     "metadata": {},
     "output_type": "execute_result"
    }
   ],
   "source": [
    "# check to see if it worked\n",
    "df_train_dums.head()"
   ]
  },
  {
   "cell_type": "code",
   "execution_count": 17,
   "metadata": {},
   "outputs": [
    {
     "name": "stdout",
     "output_type": "stream",
     "text": [
      "<class 'pandas.core.frame.DataFrame'>\n",
      "RangeIndex: 5490 entries, 0 to 5489\n",
      "Data columns (total 111 columns):\n",
      " #    Column                        Dtype \n",
      "---   ------                        ----- \n",
      " 0    stratum                       object\n",
      " 1    highspanli                    int64 \n",
      " 2    useinternet                   int64 \n",
      " 3    electronic_selfhealthinfo     int64 \n",
      " 4    intrsn_visitedsocnet          int64 \n",
      " 5    intrsn_sharedsocnet           int64 \n",
      " 6    intrsn_supportgroup           int64 \n",
      " 7    intrsn_youtube                int64 \n",
      " 8    regularprovider               int64 \n",
      " 9    healthinsurance               int64 \n",
      " 10   accessonlinerecord            int64 \n",
      " 11   medconditions_diabetes        int64 \n",
      " 12   medconditions_highbp          int64 \n",
      " 13   medconditions_heartcondition  int64 \n",
      " 14   medconditions_depression      int64 \n",
      " 15   everhadcancer                 int64 \n",
      " 16   offeredaccesseither           int64 \n",
      " 17   bmi_cat_2                     uint8 \n",
      " 18   bmi_cat_3                     uint8 \n",
      " 19   bmi_cat_4                     uint8 \n",
      " 20   freqgoprovider_1              uint8 \n",
      " 21   freqgoprovider_2              uint8 \n",
      " 22   freqgoprovider_3              uint8 \n",
      " 23   freqgoprovider_4              uint8 \n",
      " 24   freqgoprovider_5              uint8 \n",
      " 25   freqgoprovider_6              uint8 \n",
      " 26   agegrpb_2                     uint8 \n",
      " 27   agegrpb_3                     uint8 \n",
      " 28   agegrpb_4                     uint8 \n",
      " 29   agegrpb_5                     uint8 \n",
      " 30   avgdrinks_cat_2               uint8 \n",
      " 31   avgdrinks_cat_3               uint8 \n",
      " 32   avgdrinks_cat_4               uint8 \n",
      " 33   avgdrinks_cat_5               uint8 \n",
      " 34   tablet_makedecision_1         uint8 \n",
      " 35   tablet_makedecision_2         uint8 \n",
      " 36   whruseinet_pubvother_1        uint8 \n",
      " 37   whruseinet_pubvother_2        uint8 \n",
      " 38   educa_2                       uint8 \n",
      " 39   educa_3                       uint8 \n",
      " 40   educa_4                       uint8 \n",
      " 41   internet_broadbnd_1           uint8 \n",
      " 42   internet_broadbnd_2           uint8 \n",
      " 43   tablet_achievegoal_1          uint8 \n",
      " 44   tablet_achievegoal_2          uint8 \n",
      " 45   nchsurcode2013_2              uint8 \n",
      " 46   nchsurcode2013_3              uint8 \n",
      " 47   nchsurcode2013_4              uint8 \n",
      " 48   nchsurcode2013_5              uint8 \n",
      " 49   nchsurcode2013_6              uint8 \n",
      " 50   healthins_pubpriv_2           uint8 \n",
      " 51   healthins_pubpriv_3           uint8 \n",
      " 52   survey_cycle_3                uint8 \n",
      " 53   survey_cycle_4                uint8 \n",
      " 54   survey_cycle_5                uint8 \n",
      " 55   selfgender_2                  uint8 \n",
      " 56   selfgender_3                  uint8 \n",
      " 57   qualitycare_1                 uint8 \n",
      " 58   qualitycare_2                 uint8 \n",
      " 59   qualitycare_3                 uint8 \n",
      " 60   qualitycare_4                 uint8 \n",
      " 61   qualitycare_5                 uint8 \n",
      " 62   havedevice_cat_2              uint8 \n",
      " 63   havedevice_cat_3              uint8 \n",
      " 64   havedevice_cat_4              uint8 \n",
      " 65   havedevice_cat_5              uint8 \n",
      " 66   maritalstatus_2               uint8 \n",
      " 67   maritalstatus_3               uint8 \n",
      " 68   maritalstatus_4               uint8 \n",
      " 69   maritalstatus_5               uint8 \n",
      " 70   maritalstatus_6               uint8 \n",
      " 71   smokestat_2                   uint8 \n",
      " 72   smokestat_3                   uint8 \n",
      " 73   generalhealth_2               uint8 \n",
      " 74   generalhealth_3               uint8 \n",
      " 75   generalhealth_4               uint8 \n",
      " 76   generalhealth_5               uint8 \n",
      " 77   raceethn5_1                   uint8 \n",
      " 78   raceethn5_2                   uint8 \n",
      " 79   raceethn5_3                   uint8 \n",
      " 80   raceethn5_4                   uint8 \n",
      " 81   raceethn5_5                   uint8 \n",
      " 82   tablethealthwellnessapps_1    uint8 \n",
      " 83   tablethealthwellnessapps_2    uint8 \n",
      " 84   tablethealthwellnessapps_3    uint8 \n",
      " 85   hhinc_1                       uint8 \n",
      " 86   hhinc_2                       uint8 \n",
      " 87   hhinc_3                       uint8 \n",
      " 88   hhinc_4                       uint8 \n",
      " 89   hhinc_5                       uint8 \n",
      " 90   wkminmodex_cat_2              uint8 \n",
      " 91   wkminmodex_cat_3              uint8 \n",
      " 92   wkminmodex_cat_4              uint8 \n",
      " 93   wkminmodex_cat_5              uint8 \n",
      " 94   censdiv_2                     uint8 \n",
      " 95   censdiv_3                     uint8 \n",
      " 96   censdiv_4                     uint8 \n",
      " 97   censdiv_5                     uint8 \n",
      " 98   censdiv_6                     uint8 \n",
      " 99   censdiv_7                     uint8 \n",
      " 100  censdiv_8                     uint8 \n",
      " 101  censdiv_9                     uint8 \n",
      " 102  ownabilitytakecarehealth_2    uint8 \n",
      " 103  ownabilitytakecarehealth_3    uint8 \n",
      " 104  ownabilitytakecarehealth_4    uint8 \n",
      " 105  ownabilitytakecarehealth_5    uint8 \n",
      " 106  phq4_cat_2                    uint8 \n",
      " 107  phq4_cat_3                    uint8 \n",
      " 108  phq4_cat_4                    uint8 \n",
      " 109  tablet_discussionshcp_1       uint8 \n",
      " 110  tablet_discussionshcp_2       uint8 \n",
      "dtypes: int64(16), object(1), uint8(94)\n",
      "memory usage: 1.2+ MB\n"
     ]
    }
   ],
   "source": [
    "df_train_dums.info(verbose=True)"
   ]
  },
  {
   "cell_type": "code",
   "execution_count": 18,
   "metadata": {},
   "outputs": [],
   "source": [
    "# OK, it worked. Repeat for test set\n",
    "df_test_dums = pd.get_dummies(df_test_recode, prefix = vars_dum, columns = vars_dum, drop_first = True)"
   ]
  },
  {
   "cell_type": "markdown",
   "metadata": {},
   "source": [
    "`stratum` is supposed to be categorical but it seems to have been convert to an object again. For consistency, and to avoid having to worry about what type it is, let's just code it as 0 (LM) or 1 (HM).\n"
   ]
  },
  {
   "cell_type": "code",
   "execution_count": 19,
   "metadata": {},
   "outputs": [],
   "source": [
    "# make an integer code for stratum, since doesn't seem to stay as categorical\n",
    "df_train_dums['stratum_cd'] = 0\n",
    "df_train_dums.loc[df_train_recode['stratum'] == 'HM', 'stratum_cd'] = 1"
   ]
  },
  {
   "cell_type": "code",
   "execution_count": 20,
   "metadata": {},
   "outputs": [
    {
     "data": {
      "text/plain": [
       "HM    3185\n",
       "LM    2305\n",
       "Name: stratum, dtype: int64"
      ]
     },
     "metadata": {},
     "output_type": "display_data"
    },
    {
     "data": {
      "text/plain": [
       "1    3185\n",
       "0    2305\n",
       "Name: stratum_cd, dtype: int64"
      ]
     },
     "metadata": {},
     "output_type": "display_data"
    }
   ],
   "source": [
    "# check it\n",
    "display(df_train_dums['stratum'].value_counts())\n",
    "display(df_train_dums['stratum_cd'].value_counts())"
   ]
  },
  {
   "cell_type": "code",
   "execution_count": 21,
   "metadata": {},
   "outputs": [],
   "source": [
    "# OK, can drop stratum\n",
    "df_train_dums.drop(columns = ['stratum'], inplace = True)"
   ]
  },
  {
   "cell_type": "code",
   "execution_count": 22,
   "metadata": {},
   "outputs": [],
   "source": [
    "# repeat for test set\n",
    "df_test_dums['stratum_cd'] = 0\n",
    "df_test_dums.loc[df_test_recode['stratum'] == 'HM', 'stratum_cd'] = 1"
   ]
  },
  {
   "cell_type": "code",
   "execution_count": 23,
   "metadata": {},
   "outputs": [],
   "source": [
    "df_test_dums.drop(columns = ['stratum'], inplace = True)"
   ]
  },
  {
   "cell_type": "code",
   "execution_count": 24,
   "metadata": {},
   "outputs": [
    {
     "data": {
      "text/plain": [
       "109"
      ]
     },
     "execution_count": 24,
     "metadata": {},
     "output_type": "execute_result"
    }
   ],
   "source": [
    "# how many predictor variables? (-2 for the outcome variables)\n",
    "df_train_dums.shape[1] - 2"
   ]
  },
  {
   "cell_type": "markdown",
   "metadata": {},
   "source": [
    "Expanding the categoricals has more than doubled the number of predictors. We will want to winnow this down."
   ]
  },
  {
   "cell_type": "markdown",
   "metadata": {},
   "source": [
    "Let's also look at the coding of the outcome variables."
   ]
  },
  {
   "cell_type": "code",
   "execution_count": 25,
   "metadata": {},
   "outputs": [
    {
     "data": {
      "text/plain": [
       "1    3418\n",
       "2    1512\n",
       "3     560\n",
       "Name: offeredaccesseither, dtype: int64"
      ]
     },
     "execution_count": 25,
     "metadata": {},
     "output_type": "execute_result"
    }
   ],
   "source": [
    "df_train['offeredaccesseither'].value_counts()"
   ]
  },
  {
   "cell_type": "markdown",
   "metadata": {},
   "source": [
    "`offeredaccesseither` has the same Y=1/N=2 coding with \"don't know\" as 3. We previously decided to keep \"don't know\" as a separate category. This ordering makes sense, so we'll leave it alone."
   ]
  },
  {
   "cell_type": "code",
   "execution_count": 26,
   "metadata": {},
   "outputs": [
    {
     "data": {
      "text/plain": [
       "0    3196\n",
       "1     965\n",
       "2     763\n",
       "3     296\n",
       "4     270\n",
       "Name: accessonlinerecord, dtype: int64"
      ]
     },
     "execution_count": 26,
     "metadata": {},
     "output_type": "execute_result"
    }
   ],
   "source": [
    "df_train['accessonlinerecord'].value_counts()"
   ]
  },
  {
   "cell_type": "markdown",
   "metadata": {},
   "source": [
    "This variable is ordered by increasing frequency of use with none/never = 0. We left it as multicategorical to see if we can predict who uses the EMR less and more. This coding will be fine."
   ]
  },
  {
   "cell_type": "markdown",
   "metadata": {},
   "source": [
    "<a id=\"modeloae\"></a>\n",
    "### Model for `offeredaccesseither` Outcome"
   ]
  },
  {
   "cell_type": "markdown",
   "metadata": {},
   "source": [
    "This outcome variable denotes whether a respondent has been offered EMR access by either their healthcare provider (HCP) or their insurer. The categories, as above, are \"yes\", \"no\", and \"don't know\". Our preliminary decision was to maintain these three categories, since \"don't know\" may delineate a different group, perhaps less engaged. However, this category has few entries relative to the other two, and may be hard to accurately predict, so we may need to reassess this decision. "
   ]
  },
  {
   "cell_type": "markdown",
   "metadata": {},
   "source": [
    "Make the X and Y matrices for this outcome variable. In the univariate analysis, `medconditions_diabetes`, `medconditions_highBP`, and `medconditions_heartcondition` were non-significant predictors this outcome, so  they need to be removed from the X matrices. "
   ]
  },
  {
   "cell_type": "code",
   "execution_count": 27,
   "metadata": {},
   "outputs": [],
   "source": [
    "# make the X matrices for offeredaccesseither\n",
    "X_train_ofracceith = df_train_dums.drop(columns = ['offeredaccesseither', 'accessonlinerecord', 'medconditions_diabetes',\\\n",
    "                                                  'medconditions_highbp','medconditions_heartcondition'])\n",
    "X_test_ofracceith = df_test_dums.drop(columns = ['offeredaccesseither', 'accessonlinerecord', 'medconditions_diabetes',\\\n",
    "                                                  'medconditions_highbp','medconditions_heartcondition'])"
   ]
  },
  {
   "cell_type": "code",
   "execution_count": 28,
   "metadata": {},
   "outputs": [
    {
     "name": "stdout",
     "output_type": "stream",
     "text": [
      "<class 'pandas.core.frame.DataFrame'>\n",
      "RangeIndex: 5490 entries, 0 to 5489\n",
      "Data columns (total 106 columns):\n",
      " #    Column                      Dtype\n",
      "---   ------                      -----\n",
      " 0    highspanli                  int64\n",
      " 1    useinternet                 int64\n",
      " 2    electronic_selfhealthinfo   int64\n",
      " 3    intrsn_visitedsocnet        int64\n",
      " 4    intrsn_sharedsocnet         int64\n",
      " 5    intrsn_supportgroup         int64\n",
      " 6    intrsn_youtube              int64\n",
      " 7    regularprovider             int64\n",
      " 8    healthinsurance             int64\n",
      " 9    medconditions_depression    int64\n",
      " 10   everhadcancer               int64\n",
      " 11   bmi_cat_2                   uint8\n",
      " 12   bmi_cat_3                   uint8\n",
      " 13   bmi_cat_4                   uint8\n",
      " 14   freqgoprovider_1            uint8\n",
      " 15   freqgoprovider_2            uint8\n",
      " 16   freqgoprovider_3            uint8\n",
      " 17   freqgoprovider_4            uint8\n",
      " 18   freqgoprovider_5            uint8\n",
      " 19   freqgoprovider_6            uint8\n",
      " 20   agegrpb_2                   uint8\n",
      " 21   agegrpb_3                   uint8\n",
      " 22   agegrpb_4                   uint8\n",
      " 23   agegrpb_5                   uint8\n",
      " 24   avgdrinks_cat_2             uint8\n",
      " 25   avgdrinks_cat_3             uint8\n",
      " 26   avgdrinks_cat_4             uint8\n",
      " 27   avgdrinks_cat_5             uint8\n",
      " 28   tablet_makedecision_1       uint8\n",
      " 29   tablet_makedecision_2       uint8\n",
      " 30   whruseinet_pubvother_1      uint8\n",
      " 31   whruseinet_pubvother_2      uint8\n",
      " 32   educa_2                     uint8\n",
      " 33   educa_3                     uint8\n",
      " 34   educa_4                     uint8\n",
      " 35   internet_broadbnd_1         uint8\n",
      " 36   internet_broadbnd_2         uint8\n",
      " 37   tablet_achievegoal_1        uint8\n",
      " 38   tablet_achievegoal_2        uint8\n",
      " 39   nchsurcode2013_2            uint8\n",
      " 40   nchsurcode2013_3            uint8\n",
      " 41   nchsurcode2013_4            uint8\n",
      " 42   nchsurcode2013_5            uint8\n",
      " 43   nchsurcode2013_6            uint8\n",
      " 44   healthins_pubpriv_2         uint8\n",
      " 45   healthins_pubpriv_3         uint8\n",
      " 46   survey_cycle_3              uint8\n",
      " 47   survey_cycle_4              uint8\n",
      " 48   survey_cycle_5              uint8\n",
      " 49   selfgender_2                uint8\n",
      " 50   selfgender_3                uint8\n",
      " 51   qualitycare_1               uint8\n",
      " 52   qualitycare_2               uint8\n",
      " 53   qualitycare_3               uint8\n",
      " 54   qualitycare_4               uint8\n",
      " 55   qualitycare_5               uint8\n",
      " 56   havedevice_cat_2            uint8\n",
      " 57   havedevice_cat_3            uint8\n",
      " 58   havedevice_cat_4            uint8\n",
      " 59   havedevice_cat_5            uint8\n",
      " 60   maritalstatus_2             uint8\n",
      " 61   maritalstatus_3             uint8\n",
      " 62   maritalstatus_4             uint8\n",
      " 63   maritalstatus_5             uint8\n",
      " 64   maritalstatus_6             uint8\n",
      " 65   smokestat_2                 uint8\n",
      " 66   smokestat_3                 uint8\n",
      " 67   generalhealth_2             uint8\n",
      " 68   generalhealth_3             uint8\n",
      " 69   generalhealth_4             uint8\n",
      " 70   generalhealth_5             uint8\n",
      " 71   raceethn5_1                 uint8\n",
      " 72   raceethn5_2                 uint8\n",
      " 73   raceethn5_3                 uint8\n",
      " 74   raceethn5_4                 uint8\n",
      " 75   raceethn5_5                 uint8\n",
      " 76   tablethealthwellnessapps_1  uint8\n",
      " 77   tablethealthwellnessapps_2  uint8\n",
      " 78   tablethealthwellnessapps_3  uint8\n",
      " 79   hhinc_1                     uint8\n",
      " 80   hhinc_2                     uint8\n",
      " 81   hhinc_3                     uint8\n",
      " 82   hhinc_4                     uint8\n",
      " 83   hhinc_5                     uint8\n",
      " 84   wkminmodex_cat_2            uint8\n",
      " 85   wkminmodex_cat_3            uint8\n",
      " 86   wkminmodex_cat_4            uint8\n",
      " 87   wkminmodex_cat_5            uint8\n",
      " 88   censdiv_2                   uint8\n",
      " 89   censdiv_3                   uint8\n",
      " 90   censdiv_4                   uint8\n",
      " 91   censdiv_5                   uint8\n",
      " 92   censdiv_6                   uint8\n",
      " 93   censdiv_7                   uint8\n",
      " 94   censdiv_8                   uint8\n",
      " 95   censdiv_9                   uint8\n",
      " 96   ownabilitytakecarehealth_2  uint8\n",
      " 97   ownabilitytakecarehealth_3  uint8\n",
      " 98   ownabilitytakecarehealth_4  uint8\n",
      " 99   ownabilitytakecarehealth_5  uint8\n",
      " 100  phq4_cat_2                  uint8\n",
      " 101  phq4_cat_3                  uint8\n",
      " 102  phq4_cat_4                  uint8\n",
      " 103  tablet_discussionshcp_1     uint8\n",
      " 104  tablet_discussionshcp_2     uint8\n",
      " 105  stratum_cd                  int64\n",
      "dtypes: int64(12), uint8(94)\n",
      "memory usage: 1018.8 KB\n"
     ]
    }
   ],
   "source": [
    "# check the columns\n",
    "X_train_ofracceith.info(verbose=True)"
   ]
  },
  {
   "cell_type": "code",
   "execution_count": 29,
   "metadata": {},
   "outputs": [],
   "source": [
    "# make the Y matrices\n",
    "Y_train_ofracceith = df_train_dums['offeredaccesseither']\n",
    "Y_test_ofracceith = df_test_dums['offeredaccesseither']"
   ]
  },
  {
   "cell_type": "markdown",
   "metadata": {},
   "source": [
    "<a id=\"prelimmodeloae\"></a>\n",
    "#### Preliminary Model\n",
    "\n",
    "Since we have so many predictor variables (features), we are in danger of creating an overfit model. We'll use scikit-learn's Recursive Feature Elimination with Cross-Validation ([RFECV](https://scikit-learn.org/stable/modules/generated/sklearn.feature_selection.RFECV.html)) to search for an optimal set of variables.  \n",
    "Since the \"don't know\" outcome is somewhat rare (~10% of outcomes in the training set), we'll use balanced class weights to deal with the imbalance.  \n",
    "To minimize both false negatives & false positives, we'll use the F1 score as the scoring metric for RFECV."
   ]
  },
  {
   "cell_type": "code",
   "execution_count": 32,
   "metadata": {},
   "outputs": [
    {
     "name": "stdout",
     "output_type": "stream",
     "text": [
      "Fitting estimator with 106 features.\n",
      "Fitting estimator with 105 features.\n",
      "Fitting estimator with 104 features.\n",
      "Fitting estimator with 103 features.\n",
      "Fitting estimator with 102 features.\n",
      "Fitting estimator with 101 features.\n",
      "Fitting estimator with 100 features.\n",
      "Fitting estimator with 99 features.\n",
      "Fitting estimator with 98 features.\n",
      "Fitting estimator with 97 features.\n",
      "Fitting estimator with 96 features.\n",
      "Fitting estimator with 95 features.\n",
      "Fitting estimator with 94 features.\n",
      "Fitting estimator with 93 features.\n",
      "Fitting estimator with 92 features.\n",
      "Fitting estimator with 91 features.\n",
      "Fitting estimator with 90 features.\n",
      "Fitting estimator with 89 features.\n",
      "Fitting estimator with 88 features.\n",
      "Fitting estimator with 87 features.\n",
      "Fitting estimator with 86 features.\n",
      "Fitting estimator with 85 features.\n",
      "Fitting estimator with 84 features.\n",
      "Fitting estimator with 83 features.\n",
      "Fitting estimator with 82 features.\n",
      "Fitting estimator with 81 features.\n",
      "Fitting estimator with 80 features.\n",
      "Fitting estimator with 79 features.\n",
      "Fitting estimator with 78 features.\n",
      "Fitting estimator with 77 features.\n",
      "Fitting estimator with 76 features.\n",
      "Fitting estimator with 75 features.\n",
      "Fitting estimator with 74 features.\n",
      "Fitting estimator with 73 features.\n",
      "Fitting estimator with 72 features.\n",
      "Fitting estimator with 71 features.\n",
      "Fitting estimator with 70 features.\n",
      "Fitting estimator with 69 features.\n",
      "Fitting estimator with 68 features.\n",
      "Fitting estimator with 67 features.\n",
      "Fitting estimator with 66 features.\n",
      "Fitting estimator with 65 features.\n",
      "training set scores: \n",
      "confusion matrix:\n",
      " [[2316  554  548]\n",
      " [ 396  670  446]\n",
      " [ 132  133  295]]\n",
      "precision: 0.66633; recall: 0.59763, accuracy: 0.59763\n",
      "test set scores: \n",
      "confusion matrix:\n",
      " [[919 249 251]\n",
      " [198 261 203]\n",
      " [ 69  65 113]]\n",
      "precision: 0.62254; recall: 0.55541, accuracy: 0.55541\n"
     ]
    }
   ],
   "source": [
    "# fit the model using recursive feature elimination and logistic regression\n",
    "logreg1 = LogisticRegression(class_weight = 'balanced', multi_class = 'multinomial', C = 1, n_jobs = -1)\n",
    "model1 = RFECV(logreg1, scoring = 'f1_weighted', verbose = 2, n_jobs = -1)\n",
    "model1.fit(X_train_ofracceith, Y_train_ofracceith)\n",
    "Y_pred1 = model1.predict(X_train_ofracceith)\n",
    "# comparing training and test scores to assess for possible overfitting\n",
    "print('training set scores: ')\n",
    "prec, rec, acc = get_scores(Y_train_ofracceith, Y_pred1)\n",
    "Y_pred2 = model1.predict(X_test_ofracceith)\n",
    "print('test set scores: ')\n",
    "prec, rec, acc = get_scores(Y_test_ofracceith, Y_pred2)"
   ]
  },
  {
   "cell_type": "markdown",
   "metadata": {},
   "source": [
    "RFECV reduces the model from 106 to 64 features. However, precision and accuracy are relatively poor. There is not a big difference between the training and test set results that would obviously point to overfitting. "
   ]
  },
  {
   "cell_type": "markdown",
   "metadata": {},
   "source": [
    "<a id=\"tunemodeloae\"></a>\n",
    "#### Model Tuning\n",
    "Next, we'll attempt to tune this model to see if the fit improves.\n",
    "We can check the effect of using balanced class weights, explore different values for the logistic regression regularization parameter `C` and try different step sizes to remove more than one parameter at each iteration."
   ]
  },
  {
   "cell_type": "code",
   "execution_count": 33,
   "metadata": {},
   "outputs": [
    {
     "name": "stdout",
     "output_type": "stream",
     "text": [
      "Fitting 5 folds for each of 30 candidates, totalling 150 fits\n"
     ]
    },
    {
     "name": "stderr",
     "output_type": "stream",
     "text": [
      "/home/umahp/data_science/DSND/FinalProject/dsfinenv/lib/python3.8/site-packages/sklearn/model_selection/_search.py:922: UserWarning: One or more of the test scores are non-finite: [nan nan nan nan nan nan nan nan nan nan nan nan nan nan nan nan nan nan\n",
      " nan nan nan nan nan nan nan nan nan nan nan nan]\n",
      "  warnings.warn(\n"
     ]
    },
    {
     "name": "stdout",
     "output_type": "stream",
     "text": [
      "Fitting estimator with 106 features.\n",
      "Fitting estimator with 105 features.\n",
      "Fitting estimator with 104 features.\n",
      "Fitting estimator with 103 features.\n",
      "Fitting estimator with 102 features.\n",
      "Fitting estimator with 101 features.\n",
      "Fitting estimator with 100 features.\n",
      "Fitting estimator with 99 features.\n",
      "Fitting estimator with 98 features.\n",
      "Fitting estimator with 97 features.\n",
      "Fitting estimator with 96 features.\n",
      "Fitting estimator with 95 features.\n",
      "Fitting estimator with 94 features.\n",
      "Fitting estimator with 93 features.\n",
      "Fitting estimator with 92 features.\n",
      "Fitting estimator with 91 features.\n",
      "Fitting estimator with 90 features.\n",
      "Fitting estimator with 89 features.\n",
      "Fitting estimator with 88 features.\n",
      "Fitting estimator with 87 features.\n",
      "Fitting estimator with 86 features.\n",
      "Fitting estimator with 85 features.\n",
      "Fitting estimator with 84 features.\n",
      "Fitting estimator with 83 features.\n",
      "Fitting estimator with 82 features.\n",
      "training set scores: \n",
      "confusion matrix:\n",
      " [[2364  522  532]\n",
      " [ 408  645  459]\n",
      " [ 137  127  296]]\n",
      "precision: 0.66668; recall: 0.60200, accuracy: 0.60200\n",
      "test set scores: \n",
      "confusion matrix:\n",
      " [[949 224 246]\n",
      " [200 253 209]\n",
      " [ 68  62 117]]\n",
      "precision: 0.63049; recall: 0.56658, accuracy: 0.56658\n",
      "\n",
      "Best Parameters: {'estimator__C': 0.01, 'estimator__class_weight': 'balanced', 'step': 1}\n"
     ]
    }
   ],
   "source": [
    "# tune the multinomial LR model\n",
    "parameters = [\n",
    "    {                                \n",
    "                'estimator__class_weight': ['balanced', None],\n",
    "                'estimator__C':  [0.01, 0.1, 1, 10, 100], \n",
    "                'step': [1, 3, 5],\n",
    "    }]\n",
    "logreg2 = LogisticRegression(multi_class = 'multinomial', n_jobs = -1)\n",
    "rfecv = RFECV(logreg2, scoring = 'f1_weighted', verbose = 2, n_jobs = -1)\n",
    "clf = GridSearchCV(rfecv, parameters, n_jobs = -1, verbose = 2)\n",
    "clf.fit(X_train_ofracceith, Y_train_ofracceith)\n",
    "Y_pred3 = clf.predict(X_train_ofracceith)\n",
    "print('training set scores: ')\n",
    "prec, rec, acc = get_scores(Y_train_ofracceith, Y_pred3)\n",
    "Y_pred4 = clf.predict(X_test_ofracceith)\n",
    "print('test set scores: ')\n",
    "prec, rec, acc = get_scores(Y_test_ofracceith, Y_pred4)\n",
    "print(\"\\nBest Parameters:\", clf.best_params_)"
   ]
  },
  {
   "cell_type": "markdown",
   "metadata": {},
   "source": [
    "The tuned model selected more features (81 vs 64) using a lower `C` value (0.01 vs 1). Again, results for the training and test sets are similar, indicating overfitting is likely not an issue. However, precision and recall barely changed and are still poor.  "
   ]
  },
  {
   "cell_type": "markdown",
   "metadata": {},
   "source": [
    "<a id=\"binmodeloae\"></a>\n",
    "#### Binarizing the Outcome  \n",
    "It is possible that in trying to increase correct classification of the rare \"don't know\" category, the model is doing worse at classifying the \"yes\" and \"no\" categories. A workaround for this would be to merge \"don't know\" with \"no\", since respondents who answered either way don't have access to the EMR, and both would similarly be candidates for better education/outreach. Let's take this approach.  \n",
    "We'll recode \"no\" and \"don't know\" as 0, and leave \"yes\" as 1, keeping with logistic regression convention."
   ]
  },
  {
   "cell_type": "code",
   "execution_count": 34,
   "metadata": {},
   "outputs": [],
   "source": [
    "# try binary outcome; combine \"no\" and \"don't know\"\n",
    "Y_train_ofracceith_bin = Y_train_ofracceith.copy()\n",
    "Y_train_ofracceith_bin.loc[(Y_train_ofracceith == 2) | (Y_train_ofracceith == 3) ] = 0"
   ]
  },
  {
   "cell_type": "code",
   "execution_count": 35,
   "metadata": {},
   "outputs": [
    {
     "data": {
      "text/plain": [
       "1    3418\n",
       "0    2072\n",
       "Name: offeredaccesseither, dtype: int64"
      ]
     },
     "execution_count": 35,
     "metadata": {},
     "output_type": "execute_result"
    }
   ],
   "source": [
    "# check this came out right\n",
    "Y_train_ofracceith_bin.value_counts()"
   ]
  },
  {
   "cell_type": "code",
   "execution_count": 36,
   "metadata": {},
   "outputs": [],
   "source": [
    "# repeat for test set\n",
    "Y_test_ofracceith_bin = Y_test_ofracceith.copy()\n",
    "Y_test_ofracceith_bin.loc[(Y_test_ofracceith == 2) | (Y_test_ofracceith == 3) ] = 0"
   ]
  },
  {
   "cell_type": "code",
   "execution_count": 37,
   "metadata": {},
   "outputs": [
    {
     "name": "stdout",
     "output_type": "stream",
     "text": [
      "Fitting estimator with 106 features.\n",
      "Fitting estimator with 105 features.\n",
      "Fitting estimator with 104 features.\n",
      "Fitting estimator with 103 features.\n",
      "Fitting estimator with 102 features.\n",
      "Fitting estimator with 101 features.\n",
      "Fitting estimator with 100 features.\n",
      "Fitting estimator with 99 features.\n",
      "Fitting estimator with 98 features.\n",
      "Fitting estimator with 97 features.\n",
      "Fitting estimator with 96 features.\n",
      "Fitting estimator with 95 features.\n",
      "Fitting estimator with 94 features.\n",
      "Fitting estimator with 93 features.\n",
      "Fitting estimator with 92 features.\n",
      "Fitting estimator with 91 features.\n",
      "Fitting estimator with 90 features.\n",
      "Fitting estimator with 89 features.\n",
      "Fitting estimator with 88 features.\n",
      "Fitting estimator with 87 features.\n",
      "Fitting estimator with 86 features.\n",
      "Fitting estimator with 85 features.\n",
      "Fitting estimator with 84 features.\n",
      "Fitting estimator with 83 features.\n",
      "Fitting estimator with 82 features.\n",
      "Fitting estimator with 81 features.\n",
      "Fitting estimator with 80 features.\n",
      "Fitting estimator with 79 features.\n",
      "Fitting estimator with 78 features.\n",
      "Fitting estimator with 77 features.\n",
      "Fitting estimator with 76 features.\n",
      "Fitting estimator with 75 features.\n",
      "Fitting estimator with 74 features.\n",
      "Fitting estimator with 73 features.\n",
      "Fitting estimator with 72 features.\n",
      "Fitting estimator with 71 features.\n",
      "Fitting estimator with 70 features.\n",
      "Fitting estimator with 69 features.\n",
      "Fitting estimator with 68 features.\n",
      "Fitting estimator with 67 features.\n",
      "Fitting estimator with 66 features.\n",
      "Fitting estimator with 65 features.\n",
      "Fitting estimator with 64 features.\n",
      "Fitting estimator with 63 features.\n",
      "Fitting estimator with 62 features.\n",
      "Fitting estimator with 61 features.\n",
      "Fitting estimator with 60 features.\n",
      "Fitting estimator with 59 features.\n",
      "Fitting estimator with 58 features.\n",
      "Fitting estimator with 57 features.\n",
      "Fitting estimator with 56 features.\n",
      "Fitting estimator with 55 features.\n",
      "Fitting estimator with 54 features.\n",
      "Fitting estimator with 53 features.\n",
      "training set scores: \n",
      "confusion matrix:\n",
      " [[1426  646]\n",
      " [ 895 2523]]\n",
      "precision: 0.72755; recall: 0.71931, accuracy: 0.71931\n",
      "test set scores: \n",
      "confusion matrix:\n",
      " [[ 599  310]\n",
      " [ 397 1022]]\n",
      "precision: 0.70250; recall: 0.69631, accuracy: 0.69631\n"
     ]
    }
   ],
   "source": [
    "# fit a LR model to the binary outcome variable\n",
    "logreg3 = LogisticRegression(class_weight = 'balanced', C = 1, n_jobs = -1)\n",
    "model2 = RFECV(logreg3, scoring = 'f1_weighted', verbose = 2, n_jobs = -1)\n",
    "model2.fit(X_train_ofracceith, Y_train_ofracceith_bin)\n",
    "Y_pred5 = model2.predict(X_train_ofracceith)\n",
    "print('training set scores: ')\n",
    "prec, rec, acc = get_scores(Y_train_ofracceith_bin, Y_pred5)\n",
    "Y_pred6 = model2.predict(X_test_ofracceith)\n",
    "print('test set scores: ')\n",
    "prec, rec, acc = get_scores(Y_test_ofracceith_bin, Y_pred6)"
   ]
  },
  {
   "cell_type": "markdown",
   "metadata": {},
   "source": [
    "<a id=\"tunebinmodeloae\"></a>\n",
    "#### Tuning the Binary Model\n",
    "The preliminary binary model results in 52 features and ~10% improved precision and ~25% improved recall.  \n",
    "Now we'll try tuning this model. We'll use the same parameter grid as before."
   ]
  },
  {
   "cell_type": "code",
   "execution_count": 38,
   "metadata": {},
   "outputs": [
    {
     "name": "stdout",
     "output_type": "stream",
     "text": [
      "Fitting 5 folds for each of 30 candidates, totalling 150 fits\n"
     ]
    },
    {
     "name": "stderr",
     "output_type": "stream",
     "text": [
      "/home/umahp/data_science/DSND/FinalProject/dsfinenv/lib/python3.8/site-packages/sklearn/model_selection/_search.py:922: UserWarning: One or more of the test scores are non-finite: [nan nan nan nan nan nan nan nan nan nan nan nan nan nan nan nan nan nan\n",
      " nan nan nan nan nan nan nan nan nan nan nan nan]\n",
      "  warnings.warn(\n"
     ]
    },
    {
     "name": "stdout",
     "output_type": "stream",
     "text": [
      "Fitting estimator with 106 features.\n",
      "Fitting estimator with 105 features.\n",
      "Fitting estimator with 104 features.\n",
      "Fitting estimator with 103 features.\n",
      "Fitting estimator with 102 features.\n",
      "Fitting estimator with 101 features.\n",
      "Fitting estimator with 100 features.\n",
      "Fitting estimator with 99 features.\n",
      "Fitting estimator with 98 features.\n",
      "Fitting estimator with 97 features.\n",
      "Fitting estimator with 96 features.\n",
      "Fitting estimator with 95 features.\n",
      "Fitting estimator with 94 features.\n",
      "training set scores: \n",
      "confusion matrix:\n",
      " [[1428  644]\n",
      " [ 923 2495]]\n",
      "precision: 0.72410; recall: 0.71457, accuracy: 0.71457\n",
      "test set scores: \n",
      "confusion matrix:\n",
      " [[ 604  305]\n",
      " [ 394 1025]]\n",
      "precision: 0.70607; recall: 0.69974, accuracy: 0.69974\n",
      "\n",
      "Best Parameters: {'estimator__C': 0.01, 'estimator__class_weight': 'balanced', 'step': 1}\n"
     ]
    }
   ],
   "source": [
    "# tune the binary LR model. \n",
    "# use same parameter grid as above\n",
    "logreg4 = LogisticRegression(n_jobs = -1)\n",
    "rfecv2 = RFECV(logreg4, scoring = 'f1_weighted', verbose = 2, n_jobs = -1)\n",
    "clf2 = GridSearchCV(rfecv2, parameters, n_jobs = -1, verbose = 2)\n",
    "clf2.fit(X_train_ofracceith, Y_train_ofracceith_bin)\n",
    "Y_pred7 = clf2.predict(X_train_ofracceith)\n",
    "print('training set scores: ')\n",
    "prec, rec, acc = get_scores(Y_train_ofracceith_bin, Y_pred7)\n",
    "Y_pred8 = clf2.predict(X_test_ofracceith)\n",
    "print('test set scores: ')\n",
    "prec, rec, acc = get_scores(Y_test_ofracceith_bin, Y_pred8)\n",
    "print(\"\\nBest Parameters:\", clf2.best_params_)"
   ]
  },
  {
   "cell_type": "markdown",
   "metadata": {},
   "source": [
    "This model yields a very small improvement in precision and recall, but has 41 more features. Since the first model is more parsimonious, we'll keep it."
   ]
  },
  {
   "cell_type": "code",
   "execution_count": 39,
   "metadata": {},
   "outputs": [],
   "source": [
    "# make a dataframe containing only the columns identified by the initial binary model (52 features)\n",
    "X_train_ofracceith_rfe = X_train_ofracceith.loc[:, model2.support_]"
   ]
  },
  {
   "cell_type": "code",
   "execution_count": 40,
   "metadata": {},
   "outputs": [
    {
     "data": {
      "text/plain": [
       "Index(['highspanli', 'useinternet', 'electronic_selfhealthinfo',\n",
       "       'regularprovider', 'healthinsurance', 'everhadcancer',\n",
       "       'freqgoprovider_2', 'freqgoprovider_3', 'freqgoprovider_4',\n",
       "       'freqgoprovider_5', 'freqgoprovider_6', 'agegrpb_4', 'avgdrinks_cat_5',\n",
       "       'whruseinet_pubvother_1', 'whruseinet_pubvother_2', 'educa_3',\n",
       "       'educa_4', 'tablet_achievegoal_1', 'tablet_achievegoal_2',\n",
       "       'nchsurcode2013_6', 'healthins_pubpriv_2', 'survey_cycle_3',\n",
       "       'survey_cycle_4', 'survey_cycle_5', 'selfgender_2', 'qualitycare_1',\n",
       "       'qualitycare_2', 'qualitycare_3', 'qualitycare_4', 'havedevice_cat_2',\n",
       "       'maritalstatus_2', 'maritalstatus_3', 'maritalstatus_4',\n",
       "       'maritalstatus_5', 'maritalstatus_6', 'smokestat_2', 'smokestat_3',\n",
       "       'generalhealth_2', 'generalhealth_3', 'generalhealth_4', 'raceethn5_3',\n",
       "       'raceethn5_4', 'tablethealthwellnessapps_1', 'hhinc_1', 'hhinc_2',\n",
       "       'censdiv_2', 'censdiv_6', 'censdiv_7', 'censdiv_8',\n",
       "       'ownabilitytakecarehealth_5', 'phq4_cat_3', 'tablet_discussionshcp_1'],\n",
       "      dtype='object')"
      ]
     },
     "execution_count": 40,
     "metadata": {},
     "output_type": "execute_result"
    }
   ],
   "source": [
    "# see which columns are left\n",
    "X_train_ofracceith_rfe.columns"
   ]
  },
  {
   "cell_type": "code",
   "execution_count": 41,
   "metadata": {},
   "outputs": [],
   "source": [
    "# repeat for test set\n",
    "X_test_ofracceith_rfe = X_test_ofracceith.loc[:, model2.support_]"
   ]
  },
  {
   "cell_type": "markdown",
   "metadata": {},
   "source": [
    "<a id=\"manfeatreductoae\"></a>\n",
    "#### Manual Feature Reduction\n",
    "This model is reasonable, but despite using RFECV to reduce the features, it is still large. Let's see what effect manually limiting the number of parameters with RFE has on the accuracy and precision."
   ]
  },
  {
   "cell_type": "code",
   "execution_count": 42,
   "metadata": {},
   "outputs": [],
   "source": [
    "# make a datframe to hold the results.\n",
    "col_names = ['Features', 'Precision', 'Recall']\n",
    "df_ofracceith_rfe = pd.DataFrame(columns = col_names)"
   ]
  },
  {
   "cell_type": "code",
   "execution_count": 43,
   "metadata": {},
   "outputs": [],
   "source": [
    "# add the baseline model\n",
    "df_ofracceith_rfe.loc[0, 'Features'] = 52\n",
    "df_ofracceith_rfe.loc[0, 'Precision'] = 0.70250\n",
    "df_ofracceith_rfe.loc[0, 'Recall'] = 0.69631"
   ]
  },
  {
   "cell_type": "code",
   "execution_count": 44,
   "metadata": {},
   "outputs": [
    {
     "data": {
      "text/html": [
       "<div>\n",
       "<style scoped>\n",
       "    .dataframe tbody tr th:only-of-type {\n",
       "        vertical-align: middle;\n",
       "    }\n",
       "\n",
       "    .dataframe tbody tr th {\n",
       "        vertical-align: top;\n",
       "    }\n",
       "\n",
       "    .dataframe thead th {\n",
       "        text-align: right;\n",
       "    }\n",
       "</style>\n",
       "<table border=\"1\" class=\"dataframe\">\n",
       "  <thead>\n",
       "    <tr style=\"text-align: right;\">\n",
       "      <th></th>\n",
       "      <th>Features</th>\n",
       "      <th>Precision</th>\n",
       "      <th>Recall</th>\n",
       "    </tr>\n",
       "  </thead>\n",
       "  <tbody>\n",
       "    <tr>\n",
       "      <th>0</th>\n",
       "      <td>52</td>\n",
       "      <td>0.7025</td>\n",
       "      <td>0.69631</td>\n",
       "    </tr>\n",
       "  </tbody>\n",
       "</table>\n",
       "</div>"
      ],
      "text/plain": [
       "  Features Precision   Recall\n",
       "0       52    0.7025  0.69631"
      ]
     },
     "execution_count": 44,
     "metadata": {},
     "output_type": "execute_result"
    }
   ],
   "source": [
    "df_ofracceith_rfe.head()"
   ]
  },
  {
   "cell_type": "code",
   "execution_count": 45,
   "metadata": {},
   "outputs": [
    {
     "name": "stdout",
     "output_type": "stream",
     "text": [
      "Fitting estimator with 52 features.\n",
      "Fitting estimator with 51 features.\n",
      "Fitting estimator with 50 features.\n",
      "Fitting estimator with 49 features.\n",
      "Fitting estimator with 48 features.\n",
      "Fitting estimator with 47 features.\n",
      "Fitting estimator with 46 features.\n",
      "Fitting estimator with 45 features.\n",
      "Fitting estimator with 44 features.\n",
      "Fitting estimator with 43 features.\n",
      "Fitting estimator with 42 features.\n",
      "Fitting estimator with 41 features.\n",
      "Fitting estimator with 40 features.\n",
      "Fitting estimator with 39 features.\n",
      "Fitting estimator with 38 features.\n",
      "Fitting estimator with 37 features.\n",
      "Fitting estimator with 36 features.\n",
      "Fitting estimator with 35 features.\n",
      "Fitting estimator with 34 features.\n",
      "Fitting estimator with 33 features.\n",
      "Fitting estimator with 32 features.\n",
      "Fitting estimator with 31 features.\n",
      "Fitting estimator with 30 features.\n",
      "Fitting estimator with 29 features.\n",
      "Fitting estimator with 28 features.\n",
      "Fitting estimator with 27 features.\n",
      "Fitting estimator with 26 features.\n",
      "Fitting estimator with 25 features.\n",
      "Fitting estimator with 24 features.\n",
      "Fitting estimator with 23 features.\n",
      "Fitting estimator with 22 features.\n",
      "Fitting estimator with 21 features.\n",
      "Fitting estimator with 20 features.\n",
      "Fitting estimator with 19 features.\n",
      "Fitting estimator with 18 features.\n",
      "Fitting estimator with 17 features.\n",
      "Fitting estimator with 16 features.\n",
      "Fitting estimator with 15 features.\n",
      "Fitting estimator with 14 features.\n",
      "Fitting estimator with 13 features.\n",
      "Fitting estimator with 12 features.\n",
      "Fitting estimator with 11 features.\n",
      "Fitting estimator with 10 features.\n",
      "Fitting estimator with 9 features.\n",
      "Fitting estimator with 8 features.\n",
      "Fitting estimator with 7 features.\n",
      "Fitting estimator with 6 features.\n",
      "training set scores: \n",
      "confusion matrix:\n",
      " [[1207  865]\n",
      " [ 839 2579]]\n",
      "precision: 0.68886; recall: 0.68962, accuracy: 0.68962\n",
      "test set scores: \n",
      "confusion matrix:\n",
      " [[ 520  389]\n",
      " [ 372 1047]]\n",
      "precision: 0.67204; recall: 0.67311, accuracy: 0.67311\n",
      "Fitting estimator with 52 features.\n",
      "Fitting estimator with 51 features.\n",
      "Fitting estimator with 50 features.\n",
      "Fitting estimator with 49 features.\n",
      "Fitting estimator with 48 features.\n",
      "Fitting estimator with 47 features.\n",
      "Fitting estimator with 46 features.\n",
      "Fitting estimator with 45 features.\n",
      "Fitting estimator with 44 features.\n",
      "Fitting estimator with 43 features.\n",
      "Fitting estimator with 42 features.\n",
      "Fitting estimator with 41 features.\n",
      "Fitting estimator with 40 features.\n",
      "Fitting estimator with 39 features.\n",
      "Fitting estimator with 38 features.\n",
      "Fitting estimator with 37 features.\n",
      "Fitting estimator with 36 features.\n",
      "Fitting estimator with 35 features.\n",
      "Fitting estimator with 34 features.\n",
      "Fitting estimator with 33 features.\n",
      "Fitting estimator with 32 features.\n",
      "Fitting estimator with 31 features.\n",
      "Fitting estimator with 30 features.\n",
      "Fitting estimator with 29 features.\n",
      "Fitting estimator with 28 features.\n",
      "Fitting estimator with 27 features.\n",
      "Fitting estimator with 26 features.\n",
      "Fitting estimator with 25 features.\n",
      "Fitting estimator with 24 features.\n",
      "Fitting estimator with 23 features.\n",
      "Fitting estimator with 22 features.\n",
      "Fitting estimator with 21 features.\n",
      "Fitting estimator with 20 features.\n",
      "Fitting estimator with 19 features.\n",
      "Fitting estimator with 18 features.\n",
      "Fitting estimator with 17 features.\n",
      "Fitting estimator with 16 features.\n",
      "Fitting estimator with 15 features.\n",
      "Fitting estimator with 14 features.\n",
      "Fitting estimator with 13 features.\n",
      "Fitting estimator with 12 features.\n",
      "Fitting estimator with 11 features.\n",
      "training set scores: \n",
      "confusion matrix:\n",
      " [[1321  751]\n",
      " [ 866 2552]]\n",
      "precision: 0.70900; recall: 0.70546, accuracy: 0.70546\n",
      "test set scores: \n",
      "confusion matrix:\n",
      " [[ 554  355]\n",
      " [ 369 1050]]\n",
      "precision: 0.68989; recall: 0.68900, accuracy: 0.68900\n",
      "Fitting estimator with 52 features.\n",
      "Fitting estimator with 51 features.\n",
      "Fitting estimator with 50 features.\n",
      "Fitting estimator with 49 features.\n",
      "Fitting estimator with 48 features.\n",
      "Fitting estimator with 47 features.\n",
      "Fitting estimator with 46 features.\n",
      "Fitting estimator with 45 features.\n",
      "Fitting estimator with 44 features.\n",
      "Fitting estimator with 43 features.\n",
      "Fitting estimator with 42 features.\n",
      "Fitting estimator with 41 features.\n",
      "Fitting estimator with 40 features.\n",
      "Fitting estimator with 39 features.\n",
      "Fitting estimator with 38 features.\n",
      "Fitting estimator with 37 features.\n",
      "Fitting estimator with 36 features.\n",
      "Fitting estimator with 35 features.\n",
      "Fitting estimator with 34 features.\n",
      "Fitting estimator with 33 features.\n",
      "Fitting estimator with 32 features.\n",
      "Fitting estimator with 31 features.\n",
      "Fitting estimator with 30 features.\n",
      "Fitting estimator with 29 features.\n",
      "Fitting estimator with 28 features.\n",
      "Fitting estimator with 27 features.\n",
      "Fitting estimator with 26 features.\n",
      "Fitting estimator with 25 features.\n",
      "Fitting estimator with 24 features.\n",
      "Fitting estimator with 23 features.\n",
      "Fitting estimator with 22 features.\n",
      "Fitting estimator with 21 features.\n",
      "Fitting estimator with 20 features.\n",
      "Fitting estimator with 19 features.\n",
      "Fitting estimator with 18 features.\n",
      "Fitting estimator with 17 features.\n",
      "Fitting estimator with 16 features.\n",
      "training set scores: \n",
      "confusion matrix:\n",
      " [[1388  684]\n",
      " [ 918 2500]]\n",
      "precision: 0.71601; recall: 0.70820, accuracy: 0.70820\n",
      "test set scores: \n",
      "confusion matrix:\n",
      " [[ 595  314]\n",
      " [ 409 1010]]\n",
      "precision: 0.69638; recall: 0.68943, accuracy: 0.68943\n",
      "Fitting estimator with 52 features.\n",
      "Fitting estimator with 51 features.\n",
      "Fitting estimator with 50 features.\n",
      "Fitting estimator with 49 features.\n",
      "Fitting estimator with 48 features.\n",
      "Fitting estimator with 47 features.\n",
      "Fitting estimator with 46 features.\n",
      "Fitting estimator with 45 features.\n",
      "Fitting estimator with 44 features.\n",
      "Fitting estimator with 43 features.\n",
      "Fitting estimator with 42 features.\n",
      "Fitting estimator with 41 features.\n",
      "Fitting estimator with 40 features.\n",
      "Fitting estimator with 39 features.\n",
      "Fitting estimator with 38 features.\n",
      "Fitting estimator with 37 features.\n",
      "Fitting estimator with 36 features.\n",
      "Fitting estimator with 35 features.\n",
      "Fitting estimator with 34 features.\n",
      "Fitting estimator with 33 features.\n",
      "Fitting estimator with 32 features.\n",
      "Fitting estimator with 31 features.\n",
      "Fitting estimator with 30 features.\n",
      "Fitting estimator with 29 features.\n",
      "Fitting estimator with 28 features.\n",
      "Fitting estimator with 27 features.\n",
      "Fitting estimator with 26 features.\n",
      "Fitting estimator with 25 features.\n",
      "Fitting estimator with 24 features.\n",
      "Fitting estimator with 23 features.\n",
      "Fitting estimator with 22 features.\n",
      "Fitting estimator with 21 features.\n",
      "training set scores: \n",
      "confusion matrix:\n",
      " [[1409  663]\n",
      " [ 940 2478]]\n",
      "precision: 0.71756; recall: 0.70801, accuracy: 0.70801\n",
      "test set scores: \n",
      "confusion matrix:\n",
      " [[598 311]\n",
      " [422 997]]\n",
      "precision: 0.69353; recall: 0.68514, accuracy: 0.68514\n",
      "Fitting estimator with 52 features.\n",
      "Fitting estimator with 51 features.\n",
      "Fitting estimator with 50 features.\n",
      "Fitting estimator with 49 features.\n",
      "Fitting estimator with 48 features.\n",
      "Fitting estimator with 47 features.\n",
      "Fitting estimator with 46 features.\n",
      "Fitting estimator with 45 features.\n",
      "Fitting estimator with 44 features.\n",
      "Fitting estimator with 43 features.\n",
      "Fitting estimator with 42 features.\n",
      "Fitting estimator with 41 features.\n",
      "Fitting estimator with 40 features.\n",
      "Fitting estimator with 39 features.\n",
      "Fitting estimator with 38 features.\n",
      "Fitting estimator with 37 features.\n",
      "Fitting estimator with 36 features.\n",
      "Fitting estimator with 35 features.\n",
      "Fitting estimator with 34 features.\n",
      "Fitting estimator with 33 features.\n",
      "Fitting estimator with 32 features.\n",
      "Fitting estimator with 31 features.\n",
      "Fitting estimator with 30 features.\n",
      "Fitting estimator with 29 features.\n",
      "Fitting estimator with 28 features.\n",
      "Fitting estimator with 27 features.\n",
      "Fitting estimator with 26 features.\n",
      "training set scores: \n",
      "confusion matrix:\n",
      " [[1388  684]\n",
      " [ 912 2506]]\n",
      "precision: 0.71685; recall: 0.70929, accuracy: 0.70929\n",
      "test set scores: \n",
      "confusion matrix:\n",
      " [[ 598  311]\n",
      " [ 391 1028]]\n",
      "precision: 0.70406; recall: 0.69845, accuracy: 0.69845\n",
      "Fitting estimator with 52 features.\n",
      "Fitting estimator with 51 features.\n",
      "Fitting estimator with 50 features.\n",
      "Fitting estimator with 49 features.\n",
      "Fitting estimator with 48 features.\n",
      "Fitting estimator with 47 features.\n",
      "Fitting estimator with 46 features.\n",
      "Fitting estimator with 45 features.\n",
      "Fitting estimator with 44 features.\n",
      "Fitting estimator with 43 features.\n",
      "Fitting estimator with 42 features.\n"
     ]
    },
    {
     "name": "stdout",
     "output_type": "stream",
     "text": [
      "Fitting estimator with 41 features.\n",
      "Fitting estimator with 40 features.\n",
      "Fitting estimator with 39 features.\n",
      "Fitting estimator with 38 features.\n",
      "Fitting estimator with 37 features.\n",
      "Fitting estimator with 36 features.\n",
      "Fitting estimator with 35 features.\n",
      "Fitting estimator with 34 features.\n",
      "Fitting estimator with 33 features.\n",
      "Fitting estimator with 32 features.\n",
      "Fitting estimator with 31 features.\n",
      "training set scores: \n",
      "confusion matrix:\n",
      " [[1407  665]\n",
      " [ 898 2520]]\n",
      "precision: 0.72297; recall: 0.71530, accuracy: 0.71530\n",
      "test set scores: \n",
      "confusion matrix:\n",
      " [[ 601  308]\n",
      " [ 392 1027]]\n",
      "precision: 0.70523; recall: 0.69931, accuracy: 0.69931\n",
      "Fitting estimator with 52 features.\n",
      "Fitting estimator with 51 features.\n",
      "Fitting estimator with 50 features.\n",
      "Fitting estimator with 49 features.\n",
      "Fitting estimator with 48 features.\n",
      "Fitting estimator with 47 features.\n",
      "Fitting estimator with 46 features.\n",
      "Fitting estimator with 45 features.\n",
      "Fitting estimator with 44 features.\n",
      "Fitting estimator with 43 features.\n",
      "Fitting estimator with 42 features.\n",
      "Fitting estimator with 41 features.\n",
      "Fitting estimator with 40 features.\n",
      "Fitting estimator with 39 features.\n",
      "Fitting estimator with 38 features.\n",
      "Fitting estimator with 37 features.\n",
      "Fitting estimator with 36 features.\n",
      "training set scores: \n",
      "confusion matrix:\n",
      " [[1434  638]\n",
      " [ 905 2513]]\n",
      "precision: 0.72791; recall: 0.71894, accuracy: 0.71894\n",
      "test set scores: \n",
      "confusion matrix:\n",
      " [[ 594  315]\n",
      " [ 404 1015]]\n",
      "precision: 0.69757; recall: 0.69115, accuracy: 0.69115\n",
      "Fitting estimator with 52 features.\n",
      "Fitting estimator with 51 features.\n",
      "Fitting estimator with 50 features.\n",
      "Fitting estimator with 49 features.\n",
      "Fitting estimator with 48 features.\n",
      "Fitting estimator with 47 features.\n",
      "Fitting estimator with 46 features.\n",
      "Fitting estimator with 45 features.\n",
      "Fitting estimator with 44 features.\n",
      "Fitting estimator with 43 features.\n",
      "Fitting estimator with 42 features.\n",
      "Fitting estimator with 41 features.\n",
      "training set scores: \n",
      "confusion matrix:\n",
      " [[1428  644]\n",
      " [ 894 2524]]\n",
      "precision: 0.72813; recall: 0.71985, accuracy: 0.71985\n",
      "test set scores: \n",
      "confusion matrix:\n",
      " [[ 599  310]\n",
      " [ 403 1016]]\n",
      "precision: 0.70046; recall: 0.69373, accuracy: 0.69373\n",
      "Fitting estimator with 52 features.\n",
      "Fitting estimator with 51 features.\n",
      "Fitting estimator with 50 features.\n",
      "Fitting estimator with 49 features.\n",
      "Fitting estimator with 48 features.\n",
      "Fitting estimator with 47 features.\n",
      "Fitting estimator with 46 features.\n",
      "training set scores: \n",
      "confusion matrix:\n",
      " [[1427  645]\n",
      " [ 897 2521]]\n",
      "precision: 0.72749; recall: 0.71913, accuracy: 0.71913\n",
      "test set scores: \n",
      "confusion matrix:\n",
      " [[ 598  311]\n",
      " [ 401 1018]]\n",
      "precision: 0.70063; recall: 0.69416, accuracy: 0.69416\n",
      "Fitting estimator with 52 features.\n",
      "Fitting estimator with 51 features.\n",
      "training set scores: \n",
      "confusion matrix:\n",
      " [[1425  647]\n",
      " [ 893 2525]]\n",
      "precision: 0.72761; recall: 0.71949, accuracy: 0.71949\n",
      "test set scores: \n",
      "confusion matrix:\n",
      " [[ 602  307]\n",
      " [ 401 1018]]\n",
      "precision: 0.70266; recall: 0.69588, accuracy: 0.69588\n"
     ]
    }
   ],
   "source": [
    "# do RFE with manual thresholds for number of parameters to keep\n",
    "# C = 1 and balanced class weights worked well before, so keep them\n",
    "RFE_cuts = [5, 10, 15, 20, 25, 30, 35, 40, 45, 50]\n",
    "for i in range(len(RFE_cuts)):\n",
    "    # use RFE to fit the model\n",
    "    logregrfe = LogisticRegression(class_weight = 'balanced', C = 1, n_jobs = -1)\n",
    "    rfe = RFE(logregrfe, n_features_to_select = RFE_cuts[i], verbose = 2)\n",
    "    # this X matrix contains only the 53 parameters identified by RFECV above\n",
    "    rfe.fit(X_train_ofracceith_rfe, Y_train_ofracceith_bin)\n",
    "    Y_predrfe1 = rfe.predict(X_train_ofracceith_rfe)\n",
    "    print('training set scores: ')\n",
    "    prec, rec, acc = get_scores(Y_train_ofracceith_bin, Y_predrfe1)\n",
    "    Y_predrfe2 = rfe.predict(X_test_ofracceith_rfe)\n",
    "    print('test set scores: ')\n",
    "    prec, rec, acc = get_scores(Y_test_ofracceith_bin, Y_predrfe2)\n",
    "    # save the parameters to plot\n",
    "    df_ofracceith_rfe.loc[i+1, 'Features'] = RFE_cuts[i]\n",
    "    df_ofracceith_rfe.loc[i+1, 'Precision'] = prec\n",
    "    df_ofracceith_rfe.loc[i+1, 'Recall'] = rec\n",
    "    "
   ]
  },
  {
   "cell_type": "markdown",
   "metadata": {},
   "source": [
    "Plot the data to see where the optimal precision & recall cut-offs are"
   ]
  },
  {
   "cell_type": "code",
   "execution_count": 46,
   "metadata": {},
   "outputs": [
    {
     "data": {
      "image/png": "[encoded data removed]",
      "text/plain": [
       "<Figure size 432x288 with 1 Axes>"
      ]
     },
     "metadata": {
      "needs_background": "light"
     },
     "output_type": "display_data"
    }
   ],
   "source": [
    "plt.scatter(data=df_ofracceith_rfe, x = 'Features', y = 'Precision', color = 'red', label = 'Precision')\n",
    "plt.scatter(data=df_ofracceith_rfe, x = 'Features', y = 'Recall', color = 'green', label = 'Recall')\n",
    "plt.legend()\n",
    "plt.ylabel('Precision or Recall')\n",
    "plt.xlabel('Number of Features')\n",
    "plt.title('Precision and Recall by Number of Features via RFE\\n Model for EMR Access');"
   ]
  },
  {
   "cell_type": "markdown",
   "metadata": {},
   "source": [
    "It looks like with manual RFE we actually get better precision and recall at 30 features. This is also a more parsimonious model, so we'll use it."
   ]
  },
  {
   "cell_type": "markdown",
   "metadata": {},
   "source": [
    "Make new dataframes for the reduced set of variables. Also save the coefficients and predicted probabilities.\n",
    "First, we need to run that model again though."
   ]
  },
  {
   "cell_type": "code",
   "execution_count": 47,
   "metadata": {},
   "outputs": [
    {
     "name": "stdout",
     "output_type": "stream",
     "text": [
      "Fitting estimator with 52 features.\n",
      "Fitting estimator with 51 features.\n",
      "Fitting estimator with 50 features.\n",
      "Fitting estimator with 49 features.\n",
      "Fitting estimator with 48 features.\n",
      "Fitting estimator with 47 features.\n",
      "Fitting estimator with 46 features.\n",
      "Fitting estimator with 45 features.\n",
      "Fitting estimator with 44 features.\n",
      "Fitting estimator with 43 features.\n",
      "Fitting estimator with 42 features.\n",
      "Fitting estimator with 41 features.\n",
      "Fitting estimator with 40 features.\n",
      "Fitting estimator with 39 features.\n",
      "Fitting estimator with 38 features.\n",
      "Fitting estimator with 37 features.\n",
      "Fitting estimator with 36 features.\n",
      "Fitting estimator with 35 features.\n",
      "Fitting estimator with 34 features.\n",
      "Fitting estimator with 33 features.\n",
      "Fitting estimator with 32 features.\n",
      "Fitting estimator with 31 features.\n",
      "training set scores: \n",
      "confusion matrix:\n",
      " [[1407  665]\n",
      " [ 898 2520]]\n",
      "precision: 0.72297; recall: 0.71530, accuracy: 0.71530\n",
      "test set scores: \n",
      "confusion matrix:\n",
      " [[ 601  308]\n",
      " [ 392 1027]]\n",
      "precision: 0.70523; recall: 0.69931, accuracy: 0.69931\n"
     ]
    }
   ],
   "source": [
    "# run RFE with 30 features so we can get the model coefficients etc.\n",
    "logregrfe = LogisticRegression(class_weight = 'balanced', C = 1, n_jobs = -1)\n",
    "rfe = RFE(logregrfe, n_features_to_select = 30, verbose = 2)\n",
    "# this X matrix contains only the 53 parameters identified by RFECV above\n",
    "rfe.fit(X_train_ofracceith_rfe, Y_train_ofracceith_bin)\n",
    "Y_predrfe1 = rfe.predict(X_train_ofracceith_rfe)\n",
    "print('training set scores: ')\n",
    "prec, rec, acc = get_scores(Y_train_ofracceith_bin, Y_predrfe1)\n",
    "Y_predrfe2 = rfe.predict(X_test_ofracceith_rfe)\n",
    "print('test set scores: ')\n",
    "prec, rec, acc = get_scores(Y_test_ofracceith_bin, Y_predrfe2)"
   ]
  },
  {
   "cell_type": "code",
   "execution_count": 48,
   "metadata": {},
   "outputs": [],
   "source": [
    "# make a dataframe containing only the columns identified by the RFE model (30 features)\n",
    "X_train_ofracceith_rfe_final = X_train_ofracceith_rfe.loc[:, rfe.support_]"
   ]
  },
  {
   "cell_type": "code",
   "execution_count": 49,
   "metadata": {},
   "outputs": [
    {
     "data": {
      "text/plain": [
       "Index(['highspanli', 'useinternet', 'electronic_selfhealthinfo',\n",
       "       'regularprovider', 'healthinsurance', 'everhadcancer',\n",
       "       'freqgoprovider_2', 'freqgoprovider_3', 'freqgoprovider_4',\n",
       "       'freqgoprovider_5', 'freqgoprovider_6', 'agegrpb_4', 'avgdrinks_cat_5',\n",
       "       'whruseinet_pubvother_1', 'whruseinet_pubvother_2', 'educa_4',\n",
       "       'healthins_pubpriv_2', 'survey_cycle_3', 'survey_cycle_4',\n",
       "       'survey_cycle_5', 'selfgender_2', 'qualitycare_1', 'qualitycare_2',\n",
       "       'maritalstatus_6', 'raceethn5_4', 'tablethealthwellnessapps_1',\n",
       "       'hhinc_1', 'censdiv_6', 'ownabilitytakecarehealth_5',\n",
       "       'tablet_discussionshcp_1'],\n",
       "      dtype='object')"
      ]
     },
     "execution_count": 49,
     "metadata": {},
     "output_type": "execute_result"
    }
   ],
   "source": [
    "# see which columns are left\n",
    "X_train_ofracceith_rfe_final.columns"
   ]
  },
  {
   "cell_type": "code",
   "execution_count": 50,
   "metadata": {},
   "outputs": [],
   "source": [
    "# repeat for test set\n",
    "X_test_ofracceith_rfe_final = X_test_ofracceith_rfe.loc[:, rfe.support_]"
   ]
  },
  {
   "cell_type": "code",
   "execution_count": 51,
   "metadata": {},
   "outputs": [],
   "source": [
    "# save the model coefficients\n",
    "offeraccesseither_coefs = rfe.estimator_.coef_"
   ]
  },
  {
   "cell_type": "code",
   "execution_count": 52,
   "metadata": {},
   "outputs": [
    {
     "data": {
      "text/plain": [
       "(1, 30)"
      ]
     },
     "execution_count": 52,
     "metadata": {},
     "output_type": "execute_result"
    }
   ],
   "source": [
    "# check the size; should be 30\n",
    "offeraccesseither_coefs.shape"
   ]
  },
  {
   "cell_type": "code",
   "execution_count": 53,
   "metadata": {},
   "outputs": [],
   "source": [
    "# and the intercept\n",
    "offeraccesseither_inters = rfe.estimator_.intercept_"
   ]
  },
  {
   "cell_type": "code",
   "execution_count": 54,
   "metadata": {},
   "outputs": [
    {
     "data": {
      "text/plain": [
       "array([0, 1])"
      ]
     },
     "execution_count": 54,
     "metadata": {},
     "output_type": "execute_result"
    }
   ],
   "source": [
    "# check the class order\n",
    "rfe.estimator_.classes_"
   ]
  },
  {
   "cell_type": "code",
   "execution_count": 55,
   "metadata": {},
   "outputs": [],
   "source": [
    "# get the predicted probabilities for the test set (for class 1/Yes)\n",
    "offeraccesseither_probs = rfe.estimator_.predict_proba(X_test_ofracceith_rfe_final)[:, 1]"
   ]
  },
  {
   "cell_type": "code",
   "execution_count": 56,
   "metadata": {},
   "outputs": [
    {
     "data": {
      "text/plain": [
       "array([0.32166654, 0.70921354, 0.07766182, ..., 0.7077601 , 0.45450252,\n",
       "       0.54080091])"
      ]
     },
     "metadata": {},
     "output_type": "display_data"
    },
    {
     "data": {
      "text/plain": [
       "(2328,)"
      ]
     },
     "metadata": {},
     "output_type": "display_data"
    }
   ],
   "source": [
    "# check this; should be 1d array with 2328 entries\n",
    "display(offeraccesseither_probs)\n",
    "display(offeraccesseither_probs.shape)"
   ]
  },
  {
   "cell_type": "code",
   "execution_count": 57,
   "metadata": {},
   "outputs": [
    {
     "name": "stdout",
     "output_type": "stream",
     "text": [
      "max pred. probability: 0.9317538596179272\n"
     ]
    }
   ],
   "source": [
    "# check the spread of the predicted probabilities\n",
    "print('max pred. probability:', offeraccesseither_probs.max())"
   ]
  },
  {
   "cell_type": "code",
   "execution_count": 58,
   "metadata": {},
   "outputs": [
    {
     "name": "stdout",
     "output_type": "stream",
     "text": [
      "min pred. probability: 0.013339408148235022\n"
     ]
    }
   ],
   "source": [
    "print('min pred. probability:', offeraccesseither_probs.min())"
   ]
  },
  {
   "cell_type": "markdown",
   "metadata": {},
   "source": [
    "There is a wide range of predicted probabilities in the test set. This will be useful in differentiating which respondents are more and less likely to have been offered access to an EMR."
   ]
  },
  {
   "cell_type": "markdown",
   "metadata": {},
   "source": [
    "<a id=\"sumfinvarsoae\"></a>\n",
    "#### Summary of Final Variables\n",
    "Let's summarize the 30 variables left in the final model, and look at their coefficients. Since the outcome is coded as N = 0, Y =1 and all the features are positive integers, a positive coefficient implies that a respondent with the characteristic is more likely to be offered EMR access, and a negative coefficient, less likely."
   ]
  },
  {
   "cell_type": "code",
   "execution_count": 59,
   "metadata": {},
   "outputs": [
    {
     "name": "stdout",
     "output_type": "stream",
     "text": [
      "Column:  highspanli  Coefficient:  -0.35927242348285127\n",
      "Column:  useinternet  Coefficient:  0.5932368186550663\n",
      "Column:  electronic_selfhealthinfo  Coefficient:  0.28944742573848237\n",
      "Column:  regularprovider  Coefficient:  0.5084818065447673\n",
      "Column:  healthinsurance  Coefficient:  0.773727823991863\n",
      "Column:  everhadcancer  Coefficient:  0.29061587533810196\n",
      "Column:  freqgoprovider_2  Coefficient:  0.3343205903054712\n",
      "Column:  freqgoprovider_3  Coefficient:  0.4326797909830113\n",
      "Column:  freqgoprovider_4  Coefficient:  0.4144735850885778\n",
      "Column:  freqgoprovider_5  Coefficient:  0.6279983139224948\n",
      "Column:  freqgoprovider_6  Coefficient:  0.6462323099624266\n",
      "Column:  agegrpb_4  Coefficient:  0.27937738922704636\n",
      "Column:  avgdrinks_cat_5  Coefficient:  -0.26304463169100517\n",
      "Column:  whruseinet_pubvother_1  Coefficient:  0.2922562813807814\n",
      "Column:  whruseinet_pubvother_2  Coefficient:  0.30098053727427854\n",
      "Column:  educa_4  Coefficient:  0.3315758158819357\n",
      "Column:  healthins_pubpriv_2  Coefficient:  -0.35457786408371345\n",
      "Column:  survey_cycle_3  Coefficient:  0.32581404013240317\n",
      "Column:  survey_cycle_4  Coefficient:  0.5348607034860742\n",
      "Column:  survey_cycle_5  Coefficient:  0.4198055512910455\n",
      "Column:  selfgender_2  Coefficient:  0.3896667095945533\n",
      "Column:  qualitycare_1  Coefficient:  0.6728554164704014\n",
      "Column:  qualitycare_2  Coefficient:  0.4070981220745362\n",
      "Column:  maritalstatus_6  Coefficient:  -0.3072028829012911\n",
      "Column:  raceethn5_4  Coefficient:  -0.36144032927422887\n",
      "Column:  tablethealthwellnessapps_1  Coefficient:  0.44957715125605924\n",
      "Column:  hhinc_1  Coefficient:  -0.29062345977083914\n",
      "Column:  censdiv_6  Coefficient:  -0.23327631657195635\n",
      "Column:  ownabilitytakecarehealth_5  Coefficient:  -0.4239799479213866\n",
      "Column:  tablet_discussionshcp_1  Coefficient:  0.4111554624228518\n"
     ]
    }
   ],
   "source": [
    "# look at the list of variables with their logistic regression coefficients\n",
    "col_list = list(X_train_ofracceith_rfe_final.columns)\n",
    "for i in range(len(col_list)):\n",
    "    print('Column: ', col_list[i], ' Coefficient: ', offeraccesseither_coefs[0, i])"
   ]
  },
  {
   "cell_type": "markdown",
   "metadata": {},
   "source": [
    "**Variables associated with higher likelihood of being offered EMR access:**  \n",
    "\n",
    "_Demographic & Temporal:_\n",
    "- `educa_4` : College or higher education (vs all other levels)\n",
    "- `selfgender_2` : Female (vs male or no answer)\n",
    "- `survey_cycle_3` : 2019 (vs 2018, 2020 pre- & post-pandemic)\n",
    "- `survey_cycle_4` : 2020 pre-pandemic (vs 2018, 2019, 2020 post-pandemic)\n",
    "- `survey_cycle_5` : 2020 post-pandemic (vs 2018, 2019, 2020 pre-pandemic)\n",
    "- `agegrpb_4` : Age 65-74 (vs. all other age strata; highest is \\>= 75)\n",
    "\n",
    "_Health-Related:_\n",
    "- `regularprovider` : Have regular HCP (vs do not)\n",
    "- `healthinsurance` : Have some form of health insurance (vs do not)\n",
    "- `everhadcancer` : Ever diagnosed with cancer (vs never)\n",
    "- `qualitycare_1` : Rate quality of HCP's care \"excellent\" (vs. don't go, very good, good, fair, poor)\n",
    "- `qualitycare_2` : Rate quality of HCP's care \"very good\" (vs. don't go, excellent, good, fair, poor)\n",
    "- `freqgoprovider_2` : See HCP 2 times yearly (vs. 0, 1, 3, 4, 5-9, and >=10)\n",
    "- `freqgoprovider_3` : See HCP 3 times yearly (vs. 0, 1, 2, 4, 5-9, and >=10)\n",
    "- `freqgoprovider_4` : See HCP 4 times yearly (vs. 0, 1, 2, 3, 5-9, and >=10)\n",
    "- `freqgoprovider_5` : See HCP 5-9 times yearly (vs. 0, 1, 2, 3, 4, and >=10)\n",
    "- `freqgoprovider_6` : See HCP >= 10 times yearly (vs. 0, 1, 2, 3, 4, and 5-9)\n",
    "\n",
    "_Electronic Device & Internet-Related:_\n",
    "- `useinternet` : Use internet for web browsing/email (vs do not)\n",
    "- `electronic_selfhealthinfo` : Have used electronic means to search for health-related info in last 12 mos (vs haven't)\n",
    "- `whruseinet_pubvother_1` : Use internet in public place (eg library) \"often\" or \"sometimes\"(vs never or don't use internet)\n",
    "- `whruseinet_pubvother_2` : Do not use internet in public place (eg library) (vs often/sometimes or don't use internet)\n",
    "- `tablethealthwellnessapps_1` : Have health/wellness apps on a tablet (vs no  or don't own tablet)\n",
    "- `tablet_discussionshcp_1` : Use tablet as aid for discussion with HCP (vs no  or don't own tablet)"
   ]
  },
  {
   "cell_type": "markdown",
   "metadata": {},
   "source": [
    "**Variables associated with lower likelihood of being offered EMR access:**  \n",
    "\n",
    "_Demographic:_\n",
    "- `highspanli` : Linguistically isolated (high prevalence less proficient English speakers)\n",
    "- `raceethn5_4` : Non-Hispanic Asian (vs all other racial groupings)\n",
    "- `censdiv_6` : East South Central census division (KY, TN, MS, AL; vs all other divisions)\n",
    "- `hhinc_1` : Household income in lowest category (\\< \\$20k/yr; vs all higher categories & not reported)\n",
    "- `maritalstatus_6` : Single (vs all other categories)\n",
    "\n",
    "_Health-Related:_\n",
    "- `healthins_pubpriv_2` : Public insurance (Medicare/Medicaid) without employer-provided insurance (vs private/employer-provided or non)\n",
    "- `avgdrinks_cat_5` : \\>= 150\\% of number drinks CDC classifies as heavy drinking (M \\>= 23, F \\>= 13; other: \\>=18; this is highest category; vs all lower categories)\n",
    "- `ownabilitytakecarehealth_5` : \"Not at all\" confident in own ability to take care of health (vs completely, very, somewhat, or a little confident)"
   ]
  },
  {
   "cell_type": "markdown",
   "metadata": {},
   "source": [
    "We can also plot the odds ratios for each variable to get a graphical representation of the relative strength of each feature."
   ]
  },
  {
   "cell_type": "code",
   "execution_count": 60,
   "metadata": {},
   "outputs": [],
   "source": [
    "# calculate odds ratios\n",
    "offeraccesseither_ORs = np.exp(offeraccesseither_coefs).reshape(30)"
   ]
  },
  {
   "cell_type": "code",
   "execution_count": 61,
   "metadata": {},
   "outputs": [
    {
     "name": "stdout",
     "output_type": "stream",
     "text": [
      "min OR:  0.6544370045995532\n",
      "max OR:  2.167832507688833\n"
     ]
    }
   ],
   "source": [
    "# check range\n",
    "print('min OR: ', np.min(offeraccesseither_ORs))\n",
    "print('max OR: ', np.max(offeraccesseither_ORs))"
   ]
  },
  {
   "cell_type": "code",
   "execution_count": 62,
   "metadata": {},
   "outputs": [],
   "source": [
    "# put the ORs and column labels in a df so it can be sorted\n",
    "df_oae_OR = pd.DataFrame(columns = ['col', 'OR'])\n",
    "df_oae_OR['col'] = col_list\n",
    "df_oae_OR['OR'] = offeraccesseither_ORs"
   ]
  },
  {
   "cell_type": "code",
   "execution_count": 63,
   "metadata": {},
   "outputs": [
    {
     "data": {
      "text/html": [
       "<div>\n",
       "<style scoped>\n",
       "    .dataframe tbody tr th:only-of-type {\n",
       "        vertical-align: middle;\n",
       "    }\n",
       "\n",
       "    .dataframe tbody tr th {\n",
       "        vertical-align: top;\n",
       "    }\n",
       "\n",
       "    .dataframe thead th {\n",
       "        text-align: right;\n",
       "    }\n",
       "</style>\n",
       "<table border=\"1\" class=\"dataframe\">\n",
       "  <thead>\n",
       "    <tr style=\"text-align: right;\">\n",
       "      <th></th>\n",
       "      <th>col</th>\n",
       "      <th>OR</th>\n",
       "    </tr>\n",
       "  </thead>\n",
       "  <tbody>\n",
       "    <tr>\n",
       "      <th>28</th>\n",
       "      <td>ownabilitytakecarehealth_5</td>\n",
       "      <td>0.654437</td>\n",
       "    </tr>\n",
       "    <tr>\n",
       "      <th>24</th>\n",
       "      <td>raceethn5_4</td>\n",
       "      <td>0.696672</td>\n",
       "    </tr>\n",
       "    <tr>\n",
       "      <th>0</th>\n",
       "      <td>highspanli</td>\n",
       "      <td>0.698184</td>\n",
       "    </tr>\n",
       "    <tr>\n",
       "      <th>16</th>\n",
       "      <td>healthins_pubpriv_2</td>\n",
       "      <td>0.701469</td>\n",
       "    </tr>\n",
       "    <tr>\n",
       "      <th>23</th>\n",
       "      <td>maritalstatus_6</td>\n",
       "      <td>0.735501</td>\n",
       "    </tr>\n",
       "    <tr>\n",
       "      <th>26</th>\n",
       "      <td>hhinc_1</td>\n",
       "      <td>0.747797</td>\n",
       "    </tr>\n",
       "    <tr>\n",
       "      <th>12</th>\n",
       "      <td>avgdrinks_cat_5</td>\n",
       "      <td>0.768708</td>\n",
       "    </tr>\n",
       "    <tr>\n",
       "      <th>27</th>\n",
       "      <td>censdiv_6</td>\n",
       "      <td>0.791935</td>\n",
       "    </tr>\n",
       "    <tr>\n",
       "      <th>11</th>\n",
       "      <td>agegrpb_4</td>\n",
       "      <td>1.322306</td>\n",
       "    </tr>\n",
       "    <tr>\n",
       "      <th>2</th>\n",
       "      <td>electronic_selfhealthinfo</td>\n",
       "      <td>1.335689</td>\n",
       "    </tr>\n",
       "  </tbody>\n",
       "</table>\n",
       "</div>"
      ],
      "text/plain": [
       "                           col        OR\n",
       "28  ownabilitytakecarehealth_5  0.654437\n",
       "24                 raceethn5_4  0.696672\n",
       "0                   highspanli  0.698184\n",
       "16         healthins_pubpriv_2  0.701469\n",
       "23             maritalstatus_6  0.735501\n",
       "26                     hhinc_1  0.747797\n",
       "12             avgdrinks_cat_5  0.768708\n",
       "27                   censdiv_6  0.791935\n",
       "11                   agegrpb_4  1.322306\n",
       "2    electronic_selfhealthinfo  1.335689"
      ]
     },
     "execution_count": 63,
     "metadata": {},
     "output_type": "execute_result"
    }
   ],
   "source": [
    "#sort\n",
    "df_oae_OR.sort_values(by='OR', inplace = True)\n",
    "df_oae_OR.head(10)"
   ]
  },
  {
   "cell_type": "code",
   "execution_count": 64,
   "metadata": {},
   "outputs": [
    {
     "data": {
      "image/png": "[encoded data removed]",
      "text/plain": [
       "<Figure size 864x864 with 1 Axes>"
      ]
     },
     "metadata": {
      "needs_background": "light"
     },
     "output_type": "display_data"
    }
   ],
   "source": [
    "fig, bar1 = plt.subplots(figsize = (12,12)) \n",
    "y_labs = ['Self-care ability rated \"Not at all\"', 'Non-Hispanic Asian', 'Linguistic isolation', 'Medicare/Medicaid only',\\\n",
    "         'Single','Household income: < $20k/yr', '>= 150% CDC heavy drinker', 'East S Ctrl Census Div',\\\n",
    "         'Age: 65-74', 'Searches web for health info', 'History of cancer', 'Uses public internet',\\\n",
    "         \"Doesn't use public internet\", 'Cycle: 2019', 'Education: >= college degree', 'Sees HCP 2x/yr', 'Female',\\\n",
    "         'Care rated very good', 'Uses tablet for HCP discussion', 'Sees HCP 4x/yr', 'Cycle: 2020 post-pandemic',\\\n",
    "         'Sees HCP 3x/yr', 'Tablet has health apps', 'Has regular HCP', 'Cycle: 2020 pre-pandemic','Uses internet',\\\n",
    "         'Sees HCP 5-9x/yr', 'Sees HCP >= 10x/yr', 'Care rated excellent', 'Has health ins.']\n",
    "df_oae_OR['ORlt1'] = df_oae_OR['OR'] < 1.0\n",
    "bar1 = plt.barh(data=df_oae_OR, y=np.arange(30), width='OR', tick_label=y_labs,\\\n",
    "               color=df_oae_OR['ORlt1'].map({True:'r', False:'g'}))\n",
    "plt.title('Odds Ratios for Features Associated with EMR Access')\n",
    "plt.xlabel('Odds Ratio')\n",
    "plt.ylabel('Feature')\n",
    "plt.xticks(np.arange(0.1, 2.3, 0.1))\n",
    "plt.axvline(x=1.0, color='black', linestyle='--');"
   ]
  },
  {
   "cell_type": "markdown",
   "metadata": {},
   "source": [
    "In the figure, the dividing line at 1.0 demarcates features associated with EMR access (in green; odds ratio \\> 1.0) and those not associated with EMR use (in red; odds ratio \\< 1.0).  \n",
    "Having insurance of any type is most strongly associated with being offered EMR access, followed by care rated \"excellent\". Female gender, higher educational attainment,  and older age are also significant. The only chronic condition with a significant effect is a history of cancer, although more frequent visits to an HCP are associated with higher likelihood of being offered access. Using the internet, as well as using it and e-devices for health-related purposes are also predictors. Finally, the 2019-2020 (versus 2018) survey cycles are associated with increased EMR access, with the highest weight for 2020 pre-pandemic, followed by 2020 post-pandemic, then 2019, indicating there is a time effect although perhaps not a linear one. \n",
    "By contrast, being \"not at all confident\" in one's ability to take care of one's health is most associated with _not_ been offered EMR access, followed by by Non-Hispanic Asian racial indentity. Being in the lowest income stratum, being single, having only Medicare and/or Medicaid, and residing in the East South Central census division or in a linguistically isolated area also associated with reduced access. No chronic condition appears, but very heavy drinking also predicts reduced access."
   ]
  },
  {
   "cell_type": "markdown",
   "metadata": {},
   "source": [
    "Another way to look at this is to assess differences in characteristics of those predicted to be highly likely and highly unlikely to be offered EMR access. Let's see what the probability distribution looks like."
   ]
  },
  {
   "cell_type": "code",
   "execution_count": 79,
   "metadata": {},
   "outputs": [
    {
     "data": {
      "image/png": "[encoded data removed]",
      "text/plain": [
       "<Figure size 432x288 with 1 Axes>"
      ]
     },
     "metadata": {
      "needs_background": "light"
     },
     "output_type": "display_data"
    }
   ],
   "source": [
    "# plot the probability of being offered EMR access\n",
    "plt.hist(x=offeraccesseither_probs, bins=20)\n",
    "plt.xticks(np.arange(0.0, 1.1, step = 0.1))\n",
    "plt.xlabel('Probability')\n",
    "plt.ylabel('Count')\n",
    "plt.title('Predicted Probability of Being Offered EMR access');"
   ]
  },
  {
   "cell_type": "markdown",
   "metadata": {},
   "source": [
    "The distribution tends to increase slightly between 0.2 and about 0.75, then tails off at high and low values."
   ]
  },
  {
   "cell_type": "code",
   "execution_count": 80,
   "metadata": {},
   "outputs": [
    {
     "name": "stdout",
     "output_type": "stream",
     "text": [
      "N >= 90% probability: 18\n",
      "N <= 10% probability: 92\n"
     ]
    }
   ],
   "source": [
    "print('N >= 90% probability:', offeraccesseither_probs[offeraccesseither_probs >= 0.90].shape[0])\n",
    "print('N <= 10% probability:', offeraccesseither_probs[offeraccesseither_probs <= 0.10].shape[0])"
   ]
  },
  {
   "cell_type": "markdown",
   "metadata": {},
   "source": [
    "Relatively few predictions are at the high end (\\>= 90%). Let's widen the range."
   ]
  },
  {
   "cell_type": "code",
   "execution_count": 81,
   "metadata": {},
   "outputs": [
    {
     "name": "stdout",
     "output_type": "stream",
     "text": [
      "N >= 80% probability: 288\n",
      "N <= 20% probability: 302\n"
     ]
    }
   ],
   "source": [
    "print('N >= 80% probability:', offeraccesseither_probs[offeraccesseither_probs >= 0.80].shape[0])\n",
    "print('N <= 20% probability:', offeraccesseither_probs[offeraccesseither_probs <= 0.20].shape[0])"
   ]
  },
  {
   "cell_type": "markdown",
   "metadata": {},
   "source": [
    "This range gives better balance between those with higher and lower predicted probabilities."
   ]
  },
  {
   "cell_type": "markdown",
   "metadata": {},
   "source": [
    "We want to look at characteristics of respondents in the high and low probability groups. For this, it will be useful to have a dataframe with the probabilities added on to the X matrix."
   ]
  },
  {
   "cell_type": "code",
   "execution_count": 82,
   "metadata": {},
   "outputs": [],
   "source": [
    "# append probabilities to the final X matrix\n",
    "X_test_ofracceith_finprobs =  pd.concat([X_test_ofracceith_rfe_final, pd.Series(offeraccesseither_probs)], axis = 1)"
   ]
  },
  {
   "cell_type": "code",
   "execution_count": 83,
   "metadata": {},
   "outputs": [
    {
     "data": {
      "text/html": [
       "<div>\n",
       "<style scoped>\n",
       "    .dataframe tbody tr th:only-of-type {\n",
       "        vertical-align: middle;\n",
       "    }\n",
       "\n",
       "    .dataframe tbody tr th {\n",
       "        vertical-align: top;\n",
       "    }\n",
       "\n",
       "    .dataframe thead th {\n",
       "        text-align: right;\n",
       "    }\n",
       "</style>\n",
       "<table border=\"1\" class=\"dataframe\">\n",
       "  <thead>\n",
       "    <tr style=\"text-align: right;\">\n",
       "      <th></th>\n",
       "      <th>highspanli</th>\n",
       "      <th>useinternet</th>\n",
       "      <th>electronic_selfhealthinfo</th>\n",
       "      <th>regularprovider</th>\n",
       "      <th>healthinsurance</th>\n",
       "      <th>everhadcancer</th>\n",
       "      <th>freqgoprovider_2</th>\n",
       "      <th>freqgoprovider_3</th>\n",
       "      <th>freqgoprovider_4</th>\n",
       "      <th>freqgoprovider_5</th>\n",
       "      <th>...</th>\n",
       "      <th>qualitycare_1</th>\n",
       "      <th>qualitycare_2</th>\n",
       "      <th>maritalstatus_6</th>\n",
       "      <th>raceethn5_4</th>\n",
       "      <th>tablethealthwellnessapps_1</th>\n",
       "      <th>hhinc_1</th>\n",
       "      <th>censdiv_6</th>\n",
       "      <th>ownabilitytakecarehealth_5</th>\n",
       "      <th>tablet_discussionshcp_1</th>\n",
       "      <th>0</th>\n",
       "    </tr>\n",
       "  </thead>\n",
       "  <tbody>\n",
       "    <tr>\n",
       "      <th>0</th>\n",
       "      <td>0</td>\n",
       "      <td>1</td>\n",
       "      <td>1</td>\n",
       "      <td>0</td>\n",
       "      <td>1</td>\n",
       "      <td>0</td>\n",
       "      <td>0</td>\n",
       "      <td>0</td>\n",
       "      <td>1</td>\n",
       "      <td>0</td>\n",
       "      <td>...</td>\n",
       "      <td>0</td>\n",
       "      <td>0</td>\n",
       "      <td>1</td>\n",
       "      <td>0</td>\n",
       "      <td>0</td>\n",
       "      <td>0</td>\n",
       "      <td>0</td>\n",
       "      <td>0</td>\n",
       "      <td>0</td>\n",
       "      <td>0.321667</td>\n",
       "    </tr>\n",
       "    <tr>\n",
       "      <th>1</th>\n",
       "      <td>0</td>\n",
       "      <td>1</td>\n",
       "      <td>1</td>\n",
       "      <td>1</td>\n",
       "      <td>1</td>\n",
       "      <td>0</td>\n",
       "      <td>0</td>\n",
       "      <td>0</td>\n",
       "      <td>0</td>\n",
       "      <td>0</td>\n",
       "      <td>...</td>\n",
       "      <td>1</td>\n",
       "      <td>0</td>\n",
       "      <td>0</td>\n",
       "      <td>0</td>\n",
       "      <td>0</td>\n",
       "      <td>0</td>\n",
       "      <td>0</td>\n",
       "      <td>0</td>\n",
       "      <td>0</td>\n",
       "      <td>0.709214</td>\n",
       "    </tr>\n",
       "    <tr>\n",
       "      <th>2</th>\n",
       "      <td>0</td>\n",
       "      <td>0</td>\n",
       "      <td>0</td>\n",
       "      <td>0</td>\n",
       "      <td>1</td>\n",
       "      <td>1</td>\n",
       "      <td>0</td>\n",
       "      <td>0</td>\n",
       "      <td>0</td>\n",
       "      <td>0</td>\n",
       "      <td>...</td>\n",
       "      <td>0</td>\n",
       "      <td>0</td>\n",
       "      <td>0</td>\n",
       "      <td>1</td>\n",
       "      <td>0</td>\n",
       "      <td>0</td>\n",
       "      <td>0</td>\n",
       "      <td>0</td>\n",
       "      <td>0</td>\n",
       "      <td>0.077662</td>\n",
       "    </tr>\n",
       "    <tr>\n",
       "      <th>3</th>\n",
       "      <td>0</td>\n",
       "      <td>1</td>\n",
       "      <td>1</td>\n",
       "      <td>1</td>\n",
       "      <td>1</td>\n",
       "      <td>0</td>\n",
       "      <td>0</td>\n",
       "      <td>1</td>\n",
       "      <td>0</td>\n",
       "      <td>0</td>\n",
       "      <td>...</td>\n",
       "      <td>1</td>\n",
       "      <td>0</td>\n",
       "      <td>0</td>\n",
       "      <td>0</td>\n",
       "      <td>1</td>\n",
       "      <td>0</td>\n",
       "      <td>0</td>\n",
       "      <td>0</td>\n",
       "      <td>0</td>\n",
       "      <td>0.712465</td>\n",
       "    </tr>\n",
       "    <tr>\n",
       "      <th>4</th>\n",
       "      <td>0</td>\n",
       "      <td>1</td>\n",
       "      <td>1</td>\n",
       "      <td>1</td>\n",
       "      <td>1</td>\n",
       "      <td>0</td>\n",
       "      <td>0</td>\n",
       "      <td>0</td>\n",
       "      <td>0</td>\n",
       "      <td>0</td>\n",
       "      <td>...</td>\n",
       "      <td>1</td>\n",
       "      <td>0</td>\n",
       "      <td>0</td>\n",
       "      <td>0</td>\n",
       "      <td>1</td>\n",
       "      <td>0</td>\n",
       "      <td>0</td>\n",
       "      <td>0</td>\n",
       "      <td>1</td>\n",
       "      <td>0.875654</td>\n",
       "    </tr>\n",
       "  </tbody>\n",
       "</table>\n",
       "<p>5 rows × 31 columns</p>\n",
       "</div>"
      ],
      "text/plain": [
       "   highspanli  useinternet  electronic_selfhealthinfo  regularprovider  \\\n",
       "0           0            1                          1                0   \n",
       "1           0            1                          1                1   \n",
       "2           0            0                          0                0   \n",
       "3           0            1                          1                1   \n",
       "4           0            1                          1                1   \n",
       "\n",
       "   healthinsurance  everhadcancer  freqgoprovider_2  freqgoprovider_3  \\\n",
       "0                1              0                 0                 0   \n",
       "1                1              0                 0                 0   \n",
       "2                1              1                 0                 0   \n",
       "3                1              0                 0                 1   \n",
       "4                1              0                 0                 0   \n",
       "\n",
       "   freqgoprovider_4  freqgoprovider_5  ...  qualitycare_1  qualitycare_2  \\\n",
       "0                 1                 0  ...              0              0   \n",
       "1                 0                 0  ...              1              0   \n",
       "2                 0                 0  ...              0              0   \n",
       "3                 0                 0  ...              1              0   \n",
       "4                 0                 0  ...              1              0   \n",
       "\n",
       "   maritalstatus_6  raceethn5_4  tablethealthwellnessapps_1  hhinc_1  \\\n",
       "0                1            0                           0        0   \n",
       "1                0            0                           0        0   \n",
       "2                0            1                           0        0   \n",
       "3                0            0                           1        0   \n",
       "4                0            0                           1        0   \n",
       "\n",
       "   censdiv_6  ownabilitytakecarehealth_5  tablet_discussionshcp_1         0  \n",
       "0          0                           0                        0  0.321667  \n",
       "1          0                           0                        0  0.709214  \n",
       "2          0                           0                        0  0.077662  \n",
       "3          0                           0                        0  0.712465  \n",
       "4          0                           0                        1  0.875654  \n",
       "\n",
       "[5 rows x 31 columns]"
      ]
     },
     "metadata": {},
     "output_type": "display_data"
    },
    {
     "data": {
      "text/plain": [
       "(2328, 31)"
      ]
     },
     "metadata": {},
     "output_type": "display_data"
    }
   ],
   "source": [
    "# check it\n",
    "display(X_test_ofracceith_finprobs.head())\n",
    "display(X_test_ofracceith_finprobs.shape)"
   ]
  },
  {
   "cell_type": "code",
   "execution_count": 84,
   "metadata": {},
   "outputs": [
    {
     "data": {
      "text/plain": [
       "Index(['highspanli', 'useinternet', 'electronic_selfhealthinfo',\n",
       "       'regularprovider', 'healthinsurance', 'everhadcancer',\n",
       "       'freqgoprovider_2', 'freqgoprovider_3', 'freqgoprovider_4',\n",
       "       'freqgoprovider_5', 'freqgoprovider_6', 'agegrpb_4', 'avgdrinks_cat_5',\n",
       "       'whruseinet_pubvother_1', 'whruseinet_pubvother_2', 'educa_4',\n",
       "       'healthins_pubpriv_2', 'survey_cycle_3', 'survey_cycle_4',\n",
       "       'survey_cycle_5', 'selfgender_2', 'qualitycare_1', 'qualitycare_2',\n",
       "       'maritalstatus_6', 'raceethn5_4', 'tablethealthwellnessapps_1',\n",
       "       'hhinc_1', 'censdiv_6', 'ownabilitytakecarehealth_5',\n",
       "       'tablet_discussionshcp_1', 'pred_proba'],\n",
       "      dtype='object')"
      ]
     },
     "metadata": {},
     "output_type": "display_data"
    }
   ],
   "source": [
    "# rename the probability column\n",
    "X_test_ofracceith_finprobs.rename(columns = {0:\"pred_proba\"}, inplace = True)\n",
    "display(X_test_ofracceith_finprobs.columns)"
   ]
  },
  {
   "cell_type": "code",
   "execution_count": 85,
   "metadata": {},
   "outputs": [],
   "source": [
    "# Get the top 10 categories by %age for predict probability >= 80 and <= 20\n",
    "# denominators for %age\n",
    "N_oae_80 = offeraccesseither_probs[offeraccesseither_probs >= 0.80].shape[0]\n",
    "N_oae_20 = offeraccesseither_probs[offeraccesseither_probs <= 0.20].shape[0]"
   ]
  },
  {
   "cell_type": "code",
   "execution_count": 86,
   "metadata": {},
   "outputs": [],
   "source": [
    "# list of columns\n",
    "oae_cols = list(X_test_ofracceith_finprobs.columns)\n",
    "oae_cols.remove('pred_proba')"
   ]
  },
  {
   "cell_type": "code",
   "execution_count": 87,
   "metadata": {},
   "outputs": [],
   "source": [
    "# make a df for the results\n",
    "df_oae_pcts = pd.DataFrame(index = oae_cols, columns = ['pct_ge80', 'pct_le20'])"
   ]
  },
  {
   "cell_type": "code",
   "execution_count": 88,
   "metadata": {},
   "outputs": [
    {
     "data": {
      "text/html": [
       "<div>\n",
       "<style scoped>\n",
       "    .dataframe tbody tr th:only-of-type {\n",
       "        vertical-align: middle;\n",
       "    }\n",
       "\n",
       "    .dataframe tbody tr th {\n",
       "        vertical-align: top;\n",
       "    }\n",
       "\n",
       "    .dataframe thead th {\n",
       "        text-align: right;\n",
       "    }\n",
       "</style>\n",
       "<table border=\"1\" class=\"dataframe\">\n",
       "  <thead>\n",
       "    <tr style=\"text-align: right;\">\n",
       "      <th></th>\n",
       "      <th>pct_ge80</th>\n",
       "      <th>pct_le20</th>\n",
       "    </tr>\n",
       "  </thead>\n",
       "  <tbody>\n",
       "    <tr>\n",
       "      <th>highspanli</th>\n",
       "      <td>NaN</td>\n",
       "      <td>NaN</td>\n",
       "    </tr>\n",
       "    <tr>\n",
       "      <th>useinternet</th>\n",
       "      <td>NaN</td>\n",
       "      <td>NaN</td>\n",
       "    </tr>\n",
       "    <tr>\n",
       "      <th>electronic_selfhealthinfo</th>\n",
       "      <td>NaN</td>\n",
       "      <td>NaN</td>\n",
       "    </tr>\n",
       "    <tr>\n",
       "      <th>regularprovider</th>\n",
       "      <td>NaN</td>\n",
       "      <td>NaN</td>\n",
       "    </tr>\n",
       "    <tr>\n",
       "      <th>healthinsurance</th>\n",
       "      <td>NaN</td>\n",
       "      <td>NaN</td>\n",
       "    </tr>\n",
       "  </tbody>\n",
       "</table>\n",
       "</div>"
      ],
      "text/plain": [
       "                          pct_ge80 pct_le20\n",
       "highspanli                     NaN      NaN\n",
       "useinternet                    NaN      NaN\n",
       "electronic_selfhealthinfo      NaN      NaN\n",
       "regularprovider                NaN      NaN\n",
       "healthinsurance                NaN      NaN"
      ]
     },
     "execution_count": 88,
     "metadata": {},
     "output_type": "execute_result"
    }
   ],
   "source": [
    "# check structure of df\n",
    "df_oae_pcts.head()"
   ]
  },
  {
   "cell_type": "code",
   "execution_count": 89,
   "metadata": {},
   "outputs": [],
   "source": [
    "# get the %age of each variable in the prob >= 80 and prob <= 20 groups\n",
    "for col in oae_cols:\n",
    "    df_oae_pcts.loc[col, 'pct_ge80'] = X_test_ofracceith_finprobs[col][X_test_ofracceith_finprobs['pred_proba'] >= 0.80].sum()/(0.01*N_oae_80)    \n",
    "    df_oae_pcts.loc[col, 'pct_le20'] = X_test_ofracceith_finprobs[col][X_test_ofracceith_finprobs['pred_proba'] <= 0.20].sum()/(0.01*N_oae_20)"
   ]
  },
  {
   "cell_type": "code",
   "execution_count": 90,
   "metadata": {},
   "outputs": [
    {
     "data": {
      "text/html": [
       "<div>\n",
       "<style scoped>\n",
       "    .dataframe tbody tr th:only-of-type {\n",
       "        vertical-align: middle;\n",
       "    }\n",
       "\n",
       "    .dataframe tbody tr th {\n",
       "        vertical-align: top;\n",
       "    }\n",
       "\n",
       "    .dataframe thead th {\n",
       "        text-align: right;\n",
       "    }\n",
       "</style>\n",
       "<table border=\"1\" class=\"dataframe\">\n",
       "  <thead>\n",
       "    <tr style=\"text-align: right;\">\n",
       "      <th></th>\n",
       "      <th>pct_ge80</th>\n",
       "      <th>pct_le20</th>\n",
       "    </tr>\n",
       "  </thead>\n",
       "  <tbody>\n",
       "    <tr>\n",
       "      <th>highspanli</th>\n",
       "      <td>2.430556</td>\n",
       "      <td>20.198675</td>\n",
       "    </tr>\n",
       "    <tr>\n",
       "      <th>useinternet</th>\n",
       "      <td>100.0</td>\n",
       "      <td>36.754967</td>\n",
       "    </tr>\n",
       "    <tr>\n",
       "      <th>electronic_selfhealthinfo</th>\n",
       "      <td>97.916667</td>\n",
       "      <td>28.807947</td>\n",
       "    </tr>\n",
       "    <tr>\n",
       "      <th>regularprovider</th>\n",
       "      <td>97.916667</td>\n",
       "      <td>35.430464</td>\n",
       "    </tr>\n",
       "    <tr>\n",
       "      <th>healthinsurance</th>\n",
       "      <td>100.0</td>\n",
       "      <td>78.476821</td>\n",
       "    </tr>\n",
       "  </tbody>\n",
       "</table>\n",
       "</div>"
      ],
      "text/plain": [
       "                            pct_ge80   pct_le20\n",
       "highspanli                  2.430556  20.198675\n",
       "useinternet                    100.0  36.754967\n",
       "electronic_selfhealthinfo  97.916667  28.807947\n",
       "regularprovider            97.916667  35.430464\n",
       "healthinsurance                100.0  78.476821"
      ]
     },
     "execution_count": 90,
     "metadata": {},
     "output_type": "execute_result"
    }
   ],
   "source": [
    "# check it\n",
    "df_oae_pcts.head()"
   ]
  },
  {
   "cell_type": "code",
   "execution_count": 91,
   "metadata": {},
   "outputs": [],
   "source": [
    "# get top 10 for those with >= 80% probability\n",
    "df_top80 = df_oae_pcts.sort_values(by='pct_ge80', ascending=False).head(10)"
   ]
  },
  {
   "cell_type": "code",
   "execution_count": 92,
   "metadata": {},
   "outputs": [
    {
     "data": {
      "text/html": [
       "<div>\n",
       "<style scoped>\n",
       "    .dataframe tbody tr th:only-of-type {\n",
       "        vertical-align: middle;\n",
       "    }\n",
       "\n",
       "    .dataframe tbody tr th {\n",
       "        vertical-align: top;\n",
       "    }\n",
       "\n",
       "    .dataframe thead th {\n",
       "        text-align: right;\n",
       "    }\n",
       "</style>\n",
       "<table border=\"1\" class=\"dataframe\">\n",
       "  <thead>\n",
       "    <tr style=\"text-align: right;\">\n",
       "      <th></th>\n",
       "      <th>pct_ge80</th>\n",
       "      <th>pct_le20</th>\n",
       "    </tr>\n",
       "  </thead>\n",
       "  <tbody>\n",
       "    <tr>\n",
       "      <th>healthinsurance</th>\n",
       "      <td>100.0</td>\n",
       "      <td>78.476821</td>\n",
       "    </tr>\n",
       "    <tr>\n",
       "      <th>useinternet</th>\n",
       "      <td>100.0</td>\n",
       "      <td>36.754967</td>\n",
       "    </tr>\n",
       "    <tr>\n",
       "      <th>electronic_selfhealthinfo</th>\n",
       "      <td>97.916667</td>\n",
       "      <td>28.807947</td>\n",
       "    </tr>\n",
       "    <tr>\n",
       "      <th>regularprovider</th>\n",
       "      <td>97.916667</td>\n",
       "      <td>35.430464</td>\n",
       "    </tr>\n",
       "    <tr>\n",
       "      <th>tablethealthwellnessapps_1</th>\n",
       "      <td>90.277778</td>\n",
       "      <td>7.94702</td>\n",
       "    </tr>\n",
       "    <tr>\n",
       "      <th>educa_4</th>\n",
       "      <td>85.763889</td>\n",
       "      <td>12.913907</td>\n",
       "    </tr>\n",
       "    <tr>\n",
       "      <th>selfgender_2</th>\n",
       "      <td>80.902778</td>\n",
       "      <td>34.10596</td>\n",
       "    </tr>\n",
       "    <tr>\n",
       "      <th>whruseinet_pubvother_2</th>\n",
       "      <td>80.208333</td>\n",
       "      <td>29.139073</td>\n",
       "    </tr>\n",
       "    <tr>\n",
       "      <th>tablet_discussionshcp_1</th>\n",
       "      <td>80.208333</td>\n",
       "      <td>4.304636</td>\n",
       "    </tr>\n",
       "    <tr>\n",
       "      <th>qualitycare_1</th>\n",
       "      <td>61.805556</td>\n",
       "      <td>8.940397</td>\n",
       "    </tr>\n",
       "  </tbody>\n",
       "</table>\n",
       "</div>"
      ],
      "text/plain": [
       "                             pct_ge80   pct_le20\n",
       "healthinsurance                 100.0  78.476821\n",
       "useinternet                     100.0  36.754967\n",
       "electronic_selfhealthinfo   97.916667  28.807947\n",
       "regularprovider             97.916667  35.430464\n",
       "tablethealthwellnessapps_1  90.277778    7.94702\n",
       "educa_4                     85.763889  12.913907\n",
       "selfgender_2                80.902778   34.10596\n",
       "whruseinet_pubvother_2      80.208333  29.139073\n",
       "tablet_discussionshcp_1     80.208333   4.304636\n",
       "qualitycare_1               61.805556   8.940397"
      ]
     },
     "execution_count": 92,
     "metadata": {},
     "output_type": "execute_result"
    }
   ],
   "source": [
    "df_top80"
   ]
  },
  {
   "cell_type": "code",
   "execution_count": 93,
   "metadata": {},
   "outputs": [],
   "source": [
    "# get top 10 for those with <= 20% probability\n",
    "df_top20 = df_oae_pcts.sort_values(by='pct_le20', ascending=False).head(10)"
   ]
  },
  {
   "cell_type": "code",
   "execution_count": 94,
   "metadata": {},
   "outputs": [
    {
     "data": {
      "text/html": [
       "<div>\n",
       "<style scoped>\n",
       "    .dataframe tbody tr th:only-of-type {\n",
       "        vertical-align: middle;\n",
       "    }\n",
       "\n",
       "    .dataframe tbody tr th {\n",
       "        vertical-align: top;\n",
       "    }\n",
       "\n",
       "    .dataframe thead th {\n",
       "        text-align: right;\n",
       "    }\n",
       "</style>\n",
       "<table border=\"1\" class=\"dataframe\">\n",
       "  <thead>\n",
       "    <tr style=\"text-align: right;\">\n",
       "      <th></th>\n",
       "      <th>pct_ge80</th>\n",
       "      <th>pct_le20</th>\n",
       "    </tr>\n",
       "  </thead>\n",
       "  <tbody>\n",
       "    <tr>\n",
       "      <th>healthinsurance</th>\n",
       "      <td>100.0</td>\n",
       "      <td>78.476821</td>\n",
       "    </tr>\n",
       "    <tr>\n",
       "      <th>healthins_pubpriv_2</th>\n",
       "      <td>16.319444</td>\n",
       "      <td>50.0</td>\n",
       "    </tr>\n",
       "    <tr>\n",
       "      <th>hhinc_1</th>\n",
       "      <td>1.041667</td>\n",
       "      <td>43.377483</td>\n",
       "    </tr>\n",
       "    <tr>\n",
       "      <th>survey_cycle_3</th>\n",
       "      <td>40.625</td>\n",
       "      <td>37.417219</td>\n",
       "    </tr>\n",
       "    <tr>\n",
       "      <th>useinternet</th>\n",
       "      <td>100.0</td>\n",
       "      <td>36.754967</td>\n",
       "    </tr>\n",
       "    <tr>\n",
       "      <th>regularprovider</th>\n",
       "      <td>97.916667</td>\n",
       "      <td>35.430464</td>\n",
       "    </tr>\n",
       "    <tr>\n",
       "      <th>selfgender_2</th>\n",
       "      <td>80.902778</td>\n",
       "      <td>34.10596</td>\n",
       "    </tr>\n",
       "    <tr>\n",
       "      <th>whruseinet_pubvother_2</th>\n",
       "      <td>80.208333</td>\n",
       "      <td>29.139073</td>\n",
       "    </tr>\n",
       "    <tr>\n",
       "      <th>electronic_selfhealthinfo</th>\n",
       "      <td>97.916667</td>\n",
       "      <td>28.807947</td>\n",
       "    </tr>\n",
       "    <tr>\n",
       "      <th>maritalstatus_6</th>\n",
       "      <td>5.208333</td>\n",
       "      <td>26.821192</td>\n",
       "    </tr>\n",
       "  </tbody>\n",
       "</table>\n",
       "</div>"
      ],
      "text/plain": [
       "                            pct_ge80   pct_le20\n",
       "healthinsurance                100.0  78.476821\n",
       "healthins_pubpriv_2        16.319444       50.0\n",
       "hhinc_1                     1.041667  43.377483\n",
       "survey_cycle_3                40.625  37.417219\n",
       "useinternet                    100.0  36.754967\n",
       "regularprovider            97.916667  35.430464\n",
       "selfgender_2               80.902778   34.10596\n",
       "whruseinet_pubvother_2     80.208333  29.139073\n",
       "electronic_selfhealthinfo  97.916667  28.807947\n",
       "maritalstatus_6             5.208333  26.821192"
      ]
     },
     "execution_count": 94,
     "metadata": {},
     "output_type": "execute_result"
    }
   ],
   "source": [
    "df_top20"
   ]
  },
  {
   "cell_type": "markdown",
   "metadata": {},
   "source": [
    "Based on those results, it looks like finding the variables with the largest difference between the two groups might be more useful."
   ]
  },
  {
   "cell_type": "code",
   "execution_count": 95,
   "metadata": {},
   "outputs": [],
   "source": [
    "# find difference in percentages\n",
    "df_oae_pcts['diff'] = df_oae_pcts['pct_ge80'] - df_oae_pcts['pct_le20']\n",
    "# but we'll want to sort by the absolute difference\n",
    "df_oae_pcts['absdiff'] = np.abs(df_oae_pcts['diff'])"
   ]
  },
  {
   "cell_type": "code",
   "execution_count": 96,
   "metadata": {},
   "outputs": [
    {
     "data": {
      "text/html": [
       "<div>\n",
       "<style scoped>\n",
       "    .dataframe tbody tr th:only-of-type {\n",
       "        vertical-align: middle;\n",
       "    }\n",
       "\n",
       "    .dataframe tbody tr th {\n",
       "        vertical-align: top;\n",
       "    }\n",
       "\n",
       "    .dataframe thead th {\n",
       "        text-align: right;\n",
       "    }\n",
       "</style>\n",
       "<table border=\"1\" class=\"dataframe\">\n",
       "  <thead>\n",
       "    <tr style=\"text-align: right;\">\n",
       "      <th></th>\n",
       "      <th>pct_ge80</th>\n",
       "      <th>pct_le20</th>\n",
       "      <th>diff</th>\n",
       "      <th>absdiff</th>\n",
       "    </tr>\n",
       "  </thead>\n",
       "  <tbody>\n",
       "    <tr>\n",
       "      <th>highspanli</th>\n",
       "      <td>2.430556</td>\n",
       "      <td>20.198675</td>\n",
       "      <td>-17.76812</td>\n",
       "      <td>17.76812</td>\n",
       "    </tr>\n",
       "    <tr>\n",
       "      <th>useinternet</th>\n",
       "      <td>100.0</td>\n",
       "      <td>36.754967</td>\n",
       "      <td>63.245033</td>\n",
       "      <td>63.245033</td>\n",
       "    </tr>\n",
       "    <tr>\n",
       "      <th>electronic_selfhealthinfo</th>\n",
       "      <td>97.916667</td>\n",
       "      <td>28.807947</td>\n",
       "      <td>69.10872</td>\n",
       "      <td>69.10872</td>\n",
       "    </tr>\n",
       "    <tr>\n",
       "      <th>regularprovider</th>\n",
       "      <td>97.916667</td>\n",
       "      <td>35.430464</td>\n",
       "      <td>62.486203</td>\n",
       "      <td>62.486203</td>\n",
       "    </tr>\n",
       "    <tr>\n",
       "      <th>healthinsurance</th>\n",
       "      <td>100.0</td>\n",
       "      <td>78.476821</td>\n",
       "      <td>21.523179</td>\n",
       "      <td>21.523179</td>\n",
       "    </tr>\n",
       "  </tbody>\n",
       "</table>\n",
       "</div>"
      ],
      "text/plain": [
       "                            pct_ge80   pct_le20       diff    absdiff\n",
       "highspanli                  2.430556  20.198675  -17.76812   17.76812\n",
       "useinternet                    100.0  36.754967  63.245033  63.245033\n",
       "electronic_selfhealthinfo  97.916667  28.807947   69.10872   69.10872\n",
       "regularprovider            97.916667  35.430464  62.486203  62.486203\n",
       "healthinsurance                100.0  78.476821  21.523179  21.523179"
      ]
     },
     "execution_count": 96,
     "metadata": {},
     "output_type": "execute_result"
    }
   ],
   "source": [
    "df_oae_pcts.head()"
   ]
  },
  {
   "cell_type": "code",
   "execution_count": 97,
   "metadata": {},
   "outputs": [],
   "source": [
    "df_topabs = df_oae_pcts.sort_values(by='absdiff', ascending=False).head(10)"
   ]
  },
  {
   "cell_type": "code",
   "execution_count": 98,
   "metadata": {},
   "outputs": [
    {
     "data": {
      "text/html": [
       "<div>\n",
       "<style scoped>\n",
       "    .dataframe tbody tr th:only-of-type {\n",
       "        vertical-align: middle;\n",
       "    }\n",
       "\n",
       "    .dataframe tbody tr th {\n",
       "        vertical-align: top;\n",
       "    }\n",
       "\n",
       "    .dataframe thead th {\n",
       "        text-align: right;\n",
       "    }\n",
       "</style>\n",
       "<table border=\"1\" class=\"dataframe\">\n",
       "  <thead>\n",
       "    <tr style=\"text-align: right;\">\n",
       "      <th></th>\n",
       "      <th>pct_ge80</th>\n",
       "      <th>pct_le20</th>\n",
       "      <th>diff</th>\n",
       "      <th>absdiff</th>\n",
       "    </tr>\n",
       "  </thead>\n",
       "  <tbody>\n",
       "    <tr>\n",
       "      <th>tablethealthwellnessapps_1</th>\n",
       "      <td>90.277778</td>\n",
       "      <td>7.94702</td>\n",
       "      <td>82.330758</td>\n",
       "      <td>82.330758</td>\n",
       "    </tr>\n",
       "    <tr>\n",
       "      <th>tablet_discussionshcp_1</th>\n",
       "      <td>80.208333</td>\n",
       "      <td>4.304636</td>\n",
       "      <td>75.903698</td>\n",
       "      <td>75.903698</td>\n",
       "    </tr>\n",
       "    <tr>\n",
       "      <th>educa_4</th>\n",
       "      <td>85.763889</td>\n",
       "      <td>12.913907</td>\n",
       "      <td>72.849982</td>\n",
       "      <td>72.849982</td>\n",
       "    </tr>\n",
       "    <tr>\n",
       "      <th>electronic_selfhealthinfo</th>\n",
       "      <td>97.916667</td>\n",
       "      <td>28.807947</td>\n",
       "      <td>69.10872</td>\n",
       "      <td>69.10872</td>\n",
       "    </tr>\n",
       "    <tr>\n",
       "      <th>useinternet</th>\n",
       "      <td>100.0</td>\n",
       "      <td>36.754967</td>\n",
       "      <td>63.245033</td>\n",
       "      <td>63.245033</td>\n",
       "    </tr>\n",
       "    <tr>\n",
       "      <th>regularprovider</th>\n",
       "      <td>97.916667</td>\n",
       "      <td>35.430464</td>\n",
       "      <td>62.486203</td>\n",
       "      <td>62.486203</td>\n",
       "    </tr>\n",
       "    <tr>\n",
       "      <th>qualitycare_1</th>\n",
       "      <td>61.805556</td>\n",
       "      <td>8.940397</td>\n",
       "      <td>52.865158</td>\n",
       "      <td>52.865158</td>\n",
       "    </tr>\n",
       "    <tr>\n",
       "      <th>whruseinet_pubvother_2</th>\n",
       "      <td>80.208333</td>\n",
       "      <td>29.139073</td>\n",
       "      <td>51.06926</td>\n",
       "      <td>51.06926</td>\n",
       "    </tr>\n",
       "    <tr>\n",
       "      <th>selfgender_2</th>\n",
       "      <td>80.902778</td>\n",
       "      <td>34.10596</td>\n",
       "      <td>46.796818</td>\n",
       "      <td>46.796818</td>\n",
       "    </tr>\n",
       "    <tr>\n",
       "      <th>hhinc_1</th>\n",
       "      <td>1.041667</td>\n",
       "      <td>43.377483</td>\n",
       "      <td>-42.335817</td>\n",
       "      <td>42.335817</td>\n",
       "    </tr>\n",
       "  </tbody>\n",
       "</table>\n",
       "</div>"
      ],
      "text/plain": [
       "                             pct_ge80   pct_le20       diff    absdiff\n",
       "tablethealthwellnessapps_1  90.277778    7.94702  82.330758  82.330758\n",
       "tablet_discussionshcp_1     80.208333   4.304636  75.903698  75.903698\n",
       "educa_4                     85.763889  12.913907  72.849982  72.849982\n",
       "electronic_selfhealthinfo   97.916667  28.807947   69.10872   69.10872\n",
       "useinternet                     100.0  36.754967  63.245033  63.245033\n",
       "regularprovider             97.916667  35.430464  62.486203  62.486203\n",
       "qualitycare_1               61.805556   8.940397  52.865158  52.865158\n",
       "whruseinet_pubvother_2      80.208333  29.139073   51.06926   51.06926\n",
       "selfgender_2                80.902778   34.10596  46.796818  46.796818\n",
       "hhinc_1                      1.041667  43.377483 -42.335817  42.335817"
      ]
     },
     "execution_count": 98,
     "metadata": {},
     "output_type": "execute_result"
    }
   ],
   "source": [
    "df_topabs"
   ]
  },
  {
   "cell_type": "code",
   "execution_count": 99,
   "metadata": {},
   "outputs": [
    {
     "data": {
      "image/png": "[encoded data removed]",
      "text/plain": [
       "<Figure size 864x576 with 1 Axes>"
      ]
     },
     "metadata": {
      "needs_background": "light"
     },
     "output_type": "display_data"
    }
   ],
   "source": [
    "fig, bar2 = plt.subplots(figsize = (12,8))\n",
    "y_labs = ['Has tablet with health apps', 'Uses tablet for HCP discussion', 'Education: >= college degree', \\\n",
    "          'Searches web for health info', 'Uses internet', 'Has regular HCP', 'Care rated excellent', \\\n",
    "         \"Doesn't use public internet\", 'Female', 'Household income: < $20k/yr']\n",
    "df_topabs['negpos'] = df_topabs['diff'] < 0\n",
    "bar2 = plt.barh(data=df_topabs, y=np.arange(10), width='diff', tick_label=y_labs,\\\n",
    "               color=df_topabs['negpos'].map({True:'r', False:'g'}))\n",
    "plt.title('Features with Largest Difference in % Prevalence between Patients with \\n Probability of Being Offered EMR Access >= 80% and <= 20%')\n",
    "plt.xlabel('Difference in Prevalence (%)')\n",
    "plt.ylabel('Feature')\n",
    "plt.xticks(np.arange(-50, 90, 10));"
   ]
  },
  {
   "cell_type": "markdown",
   "metadata": {},
   "source": [
    "In the above figure, the 10 features with the biggest difference in prevalence between predicted probabilities of \\>= 80% and \\<= 20% of being offered access to an EMR are shown.  \n",
    "Red bars indicate features more prevalent in patients with predicted probability \\<= 20% of being offered EMR access. The only variable in the top 10 more prevalent in this group is being in the lowest household income stratum (\\< \\$20,000/yr).  \n",
    "Green bars indicate features more prevalent in patients with predicted probability \\>= 80% of being offered EMR access. Demographically, these patients are more likely to be female and have at least a college degree. Medically, they are  more likely to have a regular HCP and to give the highest rating (excellent) to the quality of the HCP's care. The rest of the variables relate to internet access and use: they are more likely to use the internet, but less likely to do so via public access (e.g. a library). They are more likely to use the internet and a device like a tablet to look for health information, monitor their health, and have discussions with their HCP."
   ]
  },
  {
   "cell_type": "markdown",
   "metadata": {},
   "source": [
    "<a id=\"modelaor\"></a>\n",
    "### Model for `accessonlinerecord` Outcome"
   ]
  },
  {
   "cell_type": "markdown",
   "metadata": {},
   "source": [
    "This outcome variable denotes how frequently a respondent has used an EMR access in the past 12 months. The categories are \"None\" (which includes those who don't have access to an EMR), 1-2 times, 3-5 times, 6-9 times, and \\>= 10 times. Our preliminary decision was to maintain all the categories, to see if we can gain insight into differences between less and more frequent users. However, this many categories may give us trouble with accurate classification, as it did with the previous outcome variable."
   ]
  },
  {
   "cell_type": "markdown",
   "metadata": {},
   "source": [
    "Make the X and Y matrices for this outcome variable."
   ]
  },
  {
   "cell_type": "code",
   "execution_count": 100,
   "metadata": {},
   "outputs": [],
   "source": [
    "X_train_acconlrec = df_train_dums.drop(columns = ['offeredaccesseither', 'accessonlinerecord'])\n",
    "X_test_acconlrec = df_test_dums.drop(columns = ['offeredaccesseither', 'accessonlinerecord'])"
   ]
  },
  {
   "cell_type": "code",
   "execution_count": 101,
   "metadata": {},
   "outputs": [
    {
     "name": "stdout",
     "output_type": "stream",
     "text": [
      "<class 'pandas.core.frame.DataFrame'>\n",
      "RangeIndex: 5490 entries, 0 to 5489\n",
      "Data columns (total 109 columns):\n",
      " #    Column                        Dtype\n",
      "---   ------                        -----\n",
      " 0    highspanli                    int64\n",
      " 1    useinternet                   int64\n",
      " 2    electronic_selfhealthinfo     int64\n",
      " 3    intrsn_visitedsocnet          int64\n",
      " 4    intrsn_sharedsocnet           int64\n",
      " 5    intrsn_supportgroup           int64\n",
      " 6    intrsn_youtube                int64\n",
      " 7    regularprovider               int64\n",
      " 8    healthinsurance               int64\n",
      " 9    medconditions_diabetes        int64\n",
      " 10   medconditions_highbp          int64\n",
      " 11   medconditions_heartcondition  int64\n",
      " 12   medconditions_depression      int64\n",
      " 13   everhadcancer                 int64\n",
      " 14   bmi_cat_2                     uint8\n",
      " 15   bmi_cat_3                     uint8\n",
      " 16   bmi_cat_4                     uint8\n",
      " 17   freqgoprovider_1              uint8\n",
      " 18   freqgoprovider_2              uint8\n",
      " 19   freqgoprovider_3              uint8\n",
      " 20   freqgoprovider_4              uint8\n",
      " 21   freqgoprovider_5              uint8\n",
      " 22   freqgoprovider_6              uint8\n",
      " 23   agegrpb_2                     uint8\n",
      " 24   agegrpb_3                     uint8\n",
      " 25   agegrpb_4                     uint8\n",
      " 26   agegrpb_5                     uint8\n",
      " 27   avgdrinks_cat_2               uint8\n",
      " 28   avgdrinks_cat_3               uint8\n",
      " 29   avgdrinks_cat_4               uint8\n",
      " 30   avgdrinks_cat_5               uint8\n",
      " 31   tablet_makedecision_1         uint8\n",
      " 32   tablet_makedecision_2         uint8\n",
      " 33   whruseinet_pubvother_1        uint8\n",
      " 34   whruseinet_pubvother_2        uint8\n",
      " 35   educa_2                       uint8\n",
      " 36   educa_3                       uint8\n",
      " 37   educa_4                       uint8\n",
      " 38   internet_broadbnd_1           uint8\n",
      " 39   internet_broadbnd_2           uint8\n",
      " 40   tablet_achievegoal_1          uint8\n",
      " 41   tablet_achievegoal_2          uint8\n",
      " 42   nchsurcode2013_2              uint8\n",
      " 43   nchsurcode2013_3              uint8\n",
      " 44   nchsurcode2013_4              uint8\n",
      " 45   nchsurcode2013_5              uint8\n",
      " 46   nchsurcode2013_6              uint8\n",
      " 47   healthins_pubpriv_2           uint8\n",
      " 48   healthins_pubpriv_3           uint8\n",
      " 49   survey_cycle_3                uint8\n",
      " 50   survey_cycle_4                uint8\n",
      " 51   survey_cycle_5                uint8\n",
      " 52   selfgender_2                  uint8\n",
      " 53   selfgender_3                  uint8\n",
      " 54   qualitycare_1                 uint8\n",
      " 55   qualitycare_2                 uint8\n",
      " 56   qualitycare_3                 uint8\n",
      " 57   qualitycare_4                 uint8\n",
      " 58   qualitycare_5                 uint8\n",
      " 59   havedevice_cat_2              uint8\n",
      " 60   havedevice_cat_3              uint8\n",
      " 61   havedevice_cat_4              uint8\n",
      " 62   havedevice_cat_5              uint8\n",
      " 63   maritalstatus_2               uint8\n",
      " 64   maritalstatus_3               uint8\n",
      " 65   maritalstatus_4               uint8\n",
      " 66   maritalstatus_5               uint8\n",
      " 67   maritalstatus_6               uint8\n",
      " 68   smokestat_2                   uint8\n",
      " 69   smokestat_3                   uint8\n",
      " 70   generalhealth_2               uint8\n",
      " 71   generalhealth_3               uint8\n",
      " 72   generalhealth_4               uint8\n",
      " 73   generalhealth_5               uint8\n",
      " 74   raceethn5_1                   uint8\n",
      " 75   raceethn5_2                   uint8\n",
      " 76   raceethn5_3                   uint8\n",
      " 77   raceethn5_4                   uint8\n",
      " 78   raceethn5_5                   uint8\n",
      " 79   tablethealthwellnessapps_1    uint8\n",
      " 80   tablethealthwellnessapps_2    uint8\n",
      " 81   tablethealthwellnessapps_3    uint8\n",
      " 82   hhinc_1                       uint8\n",
      " 83   hhinc_2                       uint8\n",
      " 84   hhinc_3                       uint8\n",
      " 85   hhinc_4                       uint8\n",
      " 86   hhinc_5                       uint8\n",
      " 87   wkminmodex_cat_2              uint8\n",
      " 88   wkminmodex_cat_3              uint8\n",
      " 89   wkminmodex_cat_4              uint8\n",
      " 90   wkminmodex_cat_5              uint8\n",
      " 91   censdiv_2                     uint8\n",
      " 92   censdiv_3                     uint8\n",
      " 93   censdiv_4                     uint8\n",
      " 94   censdiv_5                     uint8\n",
      " 95   censdiv_6                     uint8\n",
      " 96   censdiv_7                     uint8\n",
      " 97   censdiv_8                     uint8\n",
      " 98   censdiv_9                     uint8\n",
      " 99   ownabilitytakecarehealth_2    uint8\n",
      " 100  ownabilitytakecarehealth_3    uint8\n",
      " 101  ownabilitytakecarehealth_4    uint8\n",
      " 102  ownabilitytakecarehealth_5    uint8\n",
      " 103  phq4_cat_2                    uint8\n",
      " 104  phq4_cat_3                    uint8\n",
      " 105  phq4_cat_4                    uint8\n",
      " 106  tablet_discussionshcp_1       uint8\n",
      " 107  tablet_discussionshcp_2       uint8\n",
      " 108  stratum_cd                    int64\n",
      "dtypes: int64(15), uint8(94)\n",
      "memory usage: 1.1 MB\n"
     ]
    }
   ],
   "source": [
    "# check the columns\n",
    "X_train_acconlrec.info(verbose=True)"
   ]
  },
  {
   "cell_type": "code",
   "execution_count": 102,
   "metadata": {},
   "outputs": [],
   "source": [
    "# make the Y matrices\n",
    "Y_train_acconlrec = df_train_dums['accessonlinerecord']\n",
    "Y_test_acconlrec = df_test_dums['accessonlinerecord']"
   ]
  },
  {
   "cell_type": "markdown",
   "metadata": {},
   "source": [
    "<a id=\"prelimmodelaor\"></a>\n",
    "#### Preliminary model\n",
    "\n",
    "The approach will be the same as with the other outcome variable: we'll use logistic regression, with RFECV to reduce the size of the feature set. Categories 3 and 4 are rare, so balanced class weights will again be used, as will F1 scoring."
   ]
  },
  {
   "cell_type": "code",
   "execution_count": 103,
   "metadata": {},
   "outputs": [
    {
     "name": "stdout",
     "output_type": "stream",
     "text": [
      "Fitting estimator with 109 features.\n",
      "Fitting estimator with 108 features.\n",
      "Fitting estimator with 107 features.\n",
      "Fitting estimator with 106 features.\n",
      "Fitting estimator with 105 features.\n",
      "Fitting estimator with 104 features.\n",
      "Fitting estimator with 103 features.\n",
      "Fitting estimator with 102 features.\n",
      "Fitting estimator with 101 features.\n",
      "Fitting estimator with 100 features.\n",
      "Fitting estimator with 99 features.\n",
      "Fitting estimator with 98 features.\n",
      "Fitting estimator with 97 features.\n",
      "Fitting estimator with 96 features.\n",
      "Fitting estimator with 95 features.\n",
      "Fitting estimator with 94 features.\n",
      "Fitting estimator with 93 features.\n",
      "Fitting estimator with 92 features.\n",
      "Fitting estimator with 91 features.\n",
      "Fitting estimator with 90 features.\n",
      "Fitting estimator with 89 features.\n",
      "Fitting estimator with 88 features.\n",
      "Fitting estimator with 87 features.\n",
      "Fitting estimator with 86 features.\n",
      "Fitting estimator with 85 features.\n",
      "Fitting estimator with 84 features.\n",
      "Fitting estimator with 83 features.\n",
      "training set scores: \n",
      "confusion matrix:\n",
      " [[1896  577  279  235  209]\n",
      " [ 185  394  165  129   92]\n",
      " [  77  158  239  150  139]\n",
      " [  22   37   49  129   59]\n",
      " [  14   24   30   46  156]]\n",
      "precision: 0.62668; recall: 0.51257, accuracy: 0.51257\n",
      "test set scores: \n",
      "confusion matrix:\n",
      " [[786 281 146  86  99]\n",
      " [ 81 150  68  55  55]\n",
      " [ 28  62  70  64  58]\n",
      " [ 12  20  20  40  23]\n",
      " [ 11   8  24  30  51]]\n",
      "precision: 0.60728; recall: 0.47122, accuracy: 0.47122\n"
     ]
    }
   ],
   "source": [
    "# fit the model using recursive feature elimination and logistic regression\n",
    "logreg5 = LogisticRegression(class_weight = 'balanced', multi_class = 'multinomial', C = 1, n_jobs = -1)\n",
    "model3 = RFECV(logreg5, scoring = 'f1_weighted', verbose = 2, n_jobs = -1)\n",
    "model3.fit(X_train_acconlrec, Y_train_acconlrec)\n",
    "Y_pred9 = model3.predict(X_train_acconlrec)\n",
    "print('training set scores: ')\n",
    "prec, rec, acc = get_scores(Y_train_acconlrec, Y_pred9)\n",
    "Y_pred10 = model3.predict(X_test_acconlrec)\n",
    "print('test set scores: ')\n",
    "prec, rec, acc = get_scores(Y_test_acconlrec, Y_pred10)"
   ]
  },
  {
   "cell_type": "markdown",
   "metadata": {},
   "source": [
    "RFECV reduces the size from 109 to 82 features, but the fit is very poor (recall < 0.5). There is not a major difference between training and test sets to indicate overfitting. "
   ]
  },
  {
   "cell_type": "markdown",
   "metadata": {},
   "source": [
    "<a id=\"tunemodelaor\"></a>\n",
    "#### Model Tuning\n",
    "We'll also try to tune this, though if the previous results are any indication, it is unlikely to significantly improve. Because the classes are more imbalanced here, we won't bother trying \"None\" for weighting. Instead, we'll expand the range of `C`. "
   ]
  },
  {
   "cell_type": "code",
   "execution_count": 104,
   "metadata": {},
   "outputs": [
    {
     "name": "stdout",
     "output_type": "stream",
     "text": [
      "Fitting 5 folds for each of 21 candidates, totalling 105 fits\n"
     ]
    },
    {
     "name": "stderr",
     "output_type": "stream",
     "text": [
      "/home/umahp/data_science/DSND/FinalProject/dsfinenv/lib/python3.8/site-packages/sklearn/model_selection/_search.py:922: UserWarning: One or more of the test scores are non-finite: [nan nan nan nan nan nan nan nan nan nan nan nan nan nan nan nan nan nan\n",
      " nan nan nan]\n",
      "  warnings.warn(\n"
     ]
    },
    {
     "name": "stdout",
     "output_type": "stream",
     "text": [
      "Fitting estimator with 109 features.\n",
      "Fitting estimator with 108 features.\n",
      "Fitting estimator with 107 features.\n",
      "Fitting estimator with 106 features.\n",
      "Fitting estimator with 105 features.\n",
      "Fitting estimator with 104 features.\n",
      "Fitting estimator with 103 features.\n",
      "Fitting estimator with 102 features.\n",
      "Fitting estimator with 101 features.\n",
      "Fitting estimator with 100 features.\n",
      "training set scores: \n",
      "confusion matrix:\n",
      " [[2334  402   66   69  325]\n",
      " [ 374  230   65   50  246]\n",
      " [ 220  134   73   57  279]\n",
      " [  83   30   18   38  127]\n",
      " [  53   11   11   11  184]]\n",
      "precision: 0.55399; recall: 0.52077, accuracy: 0.52077\n",
      "test set scores: \n",
      "confusion matrix:\n",
      " [[994 187  39  27 151]\n",
      " [142 103  32  22 110]\n",
      " [ 89  44  17  32 100]\n",
      " [ 33  11   8  14  49]\n",
      " [ 27   5   7  10  75]]\n",
      "precision: 0.55104; recall: 0.51675, accuracy: 0.51675\n",
      "\n",
      "Best Parameters: {'estimator__C': 1e-05, 'step': 1}\n"
     ]
    }
   ],
   "source": [
    "# tune the multinomial LR model\n",
    "# will leave class weight as balanced here since latter categories are rare\n",
    "# expand range of C to see if that makes any difference\n",
    "parameters2 = [\n",
    "    {                                \n",
    "                'estimator__C':  [1e-5, 1e-4, 1e-3, 0.01, 0.1, 1, 10], \n",
    "                'step': [1, 3, 5],\n",
    "    }]\n",
    "logreg6 = LogisticRegression(class_weight = 'balanced', multi_class = 'multinomial', n_jobs = -1)\n",
    "rfecv3 = RFECV(logreg6, scoring = 'f1_weighted', verbose = 2, n_jobs = -1)\n",
    "clf3 = GridSearchCV(rfecv3, parameters2, n_jobs = -1, verbose = 2)\n",
    "clf3.fit(X_train_acconlrec, Y_train_acconlrec)\n",
    "Y_pred11 = clf3.predict(X_train_acconlrec)\n",
    "print('training set scores: ')\n",
    "prec, rec, acc = get_scores(Y_train_acconlrec, Y_pred11)\n",
    "Y_pred12 = clf3.predict(X_test_acconlrec)\n",
    "print('test set scores: ')\n",
    "prec, rec, acc = get_scores(Y_test_acconlrec, Y_pred12)\n",
    "print(\"\\nBest Parameters:\", clf3.best_params_)"
   ]
  },
  {
   "cell_type": "markdown",
   "metadata": {},
   "source": [
    "Recall improves slightly with parameter tuning, but precision is worse, and both are still very low. There are also 17 more features. As with the previous analysis, this is likely due to trying to fit the rare classes. "
   ]
  },
  {
   "cell_type": "markdown",
   "metadata": {},
   "source": [
    "<a id=\"binmodelaor\"></a>\n",
    "#### Binarizing the Outcome  \n",
    "As we did with the previous variable, we can combine categories. Overall, the most important division is between those who never used the EMR and those who did use it. So, let's make a binary outcome variable with \"never used\" vs \"ever used\"."
   ]
  },
  {
   "cell_type": "code",
   "execution_count": 105,
   "metadata": {},
   "outputs": [
    {
     "name": "stderr",
     "output_type": "stream",
     "text": [
      "/home/umahp/data_science/DSND/FinalProject/dsfinenv/lib/python3.8/site-packages/pandas/core/indexing.py:1637: SettingWithCopyWarning: \n",
      "A value is trying to be set on a copy of a slice from a DataFrame\n",
      "\n",
      "See the caveats in the documentation: https://pandas.pydata.org/pandas-docs/stable/user_guide/indexing.html#returning-a-view-versus-a-copy\n",
      "  self._setitem_single_block(indexer, value, name)\n"
     ]
    }
   ],
   "source": [
    "# reclassify as \"never used\" (0) vs \"ever used\" (1)\n",
    "Y_train_acconlrec_bin = Y_train_acconlrec\n",
    "Y_train_acconlrec_bin.loc[Y_train_acconlrec > 1] = 1"
   ]
  },
  {
   "cell_type": "code",
   "execution_count": 106,
   "metadata": {},
   "outputs": [
    {
     "data": {
      "text/plain": [
       "0    3196\n",
       "1    2294\n",
       "Name: accessonlinerecord, dtype: int64"
      ]
     },
     "execution_count": 106,
     "metadata": {},
     "output_type": "execute_result"
    }
   ],
   "source": [
    "# check it reclassified correctly\n",
    "Y_train_acconlrec_bin.value_counts()"
   ]
  },
  {
   "cell_type": "code",
   "execution_count": 107,
   "metadata": {},
   "outputs": [
    {
     "name": "stderr",
     "output_type": "stream",
     "text": [
      "/home/umahp/data_science/DSND/FinalProject/dsfinenv/lib/python3.8/site-packages/pandas/core/indexing.py:1637: SettingWithCopyWarning: \n",
      "A value is trying to be set on a copy of a slice from a DataFrame\n",
      "\n",
      "See the caveats in the documentation: https://pandas.pydata.org/pandas-docs/stable/user_guide/indexing.html#returning-a-view-versus-a-copy\n",
      "  self._setitem_single_block(indexer, value, name)\n"
     ]
    }
   ],
   "source": [
    "# repeat for test set\n",
    "Y_test_acconlrec_bin = Y_test_acconlrec\n",
    "Y_test_acconlrec_bin.loc[Y_test_acconlrec > 1] = 1"
   ]
  },
  {
   "cell_type": "code",
   "execution_count": 108,
   "metadata": {},
   "outputs": [
    {
     "name": "stdout",
     "output_type": "stream",
     "text": [
      "Fitting estimator with 109 features.\n",
      "Fitting estimator with 108 features.\n",
      "Fitting estimator with 107 features.\n",
      "Fitting estimator with 106 features.\n",
      "Fitting estimator with 105 features.\n",
      "Fitting estimator with 104 features.\n",
      "Fitting estimator with 103 features.\n",
      "Fitting estimator with 102 features.\n",
      "Fitting estimator with 101 features.\n",
      "Fitting estimator with 100 features.\n",
      "Fitting estimator with 99 features.\n",
      "Fitting estimator with 98 features.\n",
      "Fitting estimator with 97 features.\n",
      "Fitting estimator with 96 features.\n",
      "Fitting estimator with 95 features.\n",
      "Fitting estimator with 94 features.\n",
      "Fitting estimator with 93 features.\n",
      "Fitting estimator with 92 features.\n",
      "Fitting estimator with 91 features.\n",
      "Fitting estimator with 90 features.\n",
      "Fitting estimator with 89 features.\n",
      "Fitting estimator with 88 features.\n",
      "Fitting estimator with 87 features.\n",
      "Fitting estimator with 86 features.\n",
      "Fitting estimator with 85 features.\n",
      "Fitting estimator with 84 features.\n",
      "Fitting estimator with 83 features.\n",
      "Fitting estimator with 82 features.\n",
      "Fitting estimator with 81 features.\n",
      "Fitting estimator with 80 features.\n",
      "Fitting estimator with 79 features.\n",
      "Fitting estimator with 78 features.\n",
      "Fitting estimator with 77 features.\n",
      "Fitting estimator with 76 features.\n",
      "Fitting estimator with 75 features.\n",
      "Fitting estimator with 74 features.\n",
      "Fitting estimator with 73 features.\n",
      "Fitting estimator with 72 features.\n",
      "Fitting estimator with 71 features.\n",
      "Fitting estimator with 70 features.\n",
      "Fitting estimator with 69 features.\n",
      "Fitting estimator with 68 features.\n",
      "Fitting estimator with 67 features.\n",
      "Fitting estimator with 66 features.\n",
      "Fitting estimator with 65 features.\n",
      "Fitting estimator with 64 features.\n",
      "Fitting estimator with 63 features.\n",
      "training set scores: \n",
      "confusion matrix:\n",
      " [[2272  924]\n",
      " [ 502 1792]]\n",
      "precision: 0.75250; recall: 0.74026, accuracy: 0.74026\n",
      "test set scores: \n",
      "confusion matrix:\n",
      " [[971 427]\n",
      " [216 714]]\n",
      "precision: 0.74122; recall: 0.72380, accuracy: 0.72380\n"
     ]
    }
   ],
   "source": [
    "# fit a LR model to the binary outcome variable\n",
    "logreg7 = LogisticRegression(class_weight = 'balanced', C = 1, n_jobs = -1)\n",
    "model4 = RFECV(logreg7, scoring = 'f1_weighted', verbose = 2, n_jobs = -1)\n",
    "model4.fit(X_train_acconlrec, Y_train_acconlrec_bin)\n",
    "Y_pred13 = model4.predict(X_train_acconlrec)\n",
    "print('training set scores: ')\n",
    "prec, rec, acc = get_scores(Y_train_acconlrec_bin, Y_pred13)\n",
    "Y_pred14 = model4.predict(X_test_acconlrec)\n",
    "print('test set scores: ')\n",
    "prec, rec, acc = get_scores(Y_test_acconlrec_bin, Y_pred14)"
   ]
  },
  {
   "cell_type": "markdown",
   "metadata": {},
   "source": [
    "This model has 62 features. Consolidating the outcome variable to binary results in a large improvement in precision and recall, with the fomer increasing by ~0.15 and the latter by > 0.2 from the better of the two mutliclass models.\n"
   ]
  },
  {
   "cell_type": "markdown",
   "metadata": {},
   "source": [
    "<a id=\"tunebinmodelaor\"></a>\n",
    "#### Tuning the Binary Model\n",
    "Let's see if it improves further with tuning. We'll use the same parameter grid as we used for the multinomial model. "
   ]
  },
  {
   "cell_type": "code",
   "execution_count": 109,
   "metadata": {},
   "outputs": [
    {
     "name": "stdout",
     "output_type": "stream",
     "text": [
      "Fitting 5 folds for each of 21 candidates, totalling 105 fits\n"
     ]
    },
    {
     "name": "stderr",
     "output_type": "stream",
     "text": [
      "/home/umahp/data_science/DSND/FinalProject/dsfinenv/lib/python3.8/site-packages/sklearn/model_selection/_search.py:922: UserWarning: One or more of the test scores are non-finite: [nan nan nan nan nan nan nan nan nan nan nan nan nan nan nan nan nan nan\n",
      " nan nan nan]\n",
      "  warnings.warn(\n"
     ]
    },
    {
     "name": "stdout",
     "output_type": "stream",
     "text": [
      "Fitting estimator with 109 features.\n",
      "Fitting estimator with 108 features.\n",
      "Fitting estimator with 107 features.\n",
      "Fitting estimator with 106 features.\n",
      "Fitting estimator with 105 features.\n",
      "Fitting estimator with 104 features.\n",
      "Fitting estimator with 103 features.\n",
      "Fitting estimator with 102 features.\n",
      "Fitting estimator with 101 features.\n",
      "Fitting estimator with 100 features.\n",
      "Fitting estimator with 99 features.\n",
      "Fitting estimator with 98 features.\n",
      "Fitting estimator with 97 features.\n",
      "Fitting estimator with 96 features.\n",
      "Fitting estimator with 95 features.\n",
      "Fitting estimator with 94 features.\n",
      "Fitting estimator with 93 features.\n",
      "Fitting estimator with 92 features.\n",
      "Fitting estimator with 91 features.\n",
      "Fitting estimator with 90 features.\n",
      "Fitting estimator with 89 features.\n",
      "Fitting estimator with 88 features.\n",
      "Fitting estimator with 87 features.\n",
      "Fitting estimator with 86 features.\n",
      "Fitting estimator with 85 features.\n",
      "Fitting estimator with 84 features.\n",
      "Fitting estimator with 83 features.\n",
      "Fitting estimator with 82 features.\n",
      "Fitting estimator with 81 features.\n",
      "Fitting estimator with 80 features.\n",
      "Fitting estimator with 79 features.\n",
      "Fitting estimator with 78 features.\n",
      "Fitting estimator with 77 features.\n",
      "Fitting estimator with 76 features.\n",
      "Fitting estimator with 75 features.\n",
      "Fitting estimator with 74 features.\n",
      "Fitting estimator with 73 features.\n",
      "Fitting estimator with 72 features.\n",
      "Fitting estimator with 71 features.\n",
      "Fitting estimator with 70 features.\n",
      "Fitting estimator with 69 features.\n",
      "Fitting estimator with 68 features.\n",
      "Fitting estimator with 67 features.\n",
      "Fitting estimator with 66 features.\n",
      "Fitting estimator with 65 features.\n",
      "Fitting estimator with 64 features.\n",
      "Fitting estimator with 63 features.\n",
      "Fitting estimator with 62 features.\n",
      "Fitting estimator with 61 features.\n",
      "Fitting estimator with 60 features.\n",
      "Fitting estimator with 59 features.\n",
      "Fitting estimator with 58 features.\n",
      "Fitting estimator with 57 features.\n",
      "Fitting estimator with 56 features.\n",
      "Fitting estimator with 55 features.\n",
      "training set scores: \n",
      "confusion matrix:\n",
      " [[2181 1015]\n",
      " [ 617 1677]]\n",
      "precision: 0.71408; recall: 0.70273, accuracy: 0.70273\n",
      "test set scores: \n",
      "confusion matrix:\n",
      " [[918 480]\n",
      " [244 686]]\n",
      "precision: 0.70945; recall: 0.68900, accuracy: 0.68900\n",
      "\n",
      "Best Parameters: {'estimator__C': 1e-05, 'step': 1}\n"
     ]
    }
   ],
   "source": [
    "# tune the binary LR model\n",
    "# will use same parameter grid as for multinomial.\n",
    "logreg8 = LogisticRegression(class_weight = 'balanced', n_jobs = -1)\n",
    "rfecv4 = RFECV(logreg8, scoring = 'f1_weighted', verbose = 2, n_jobs = -1)\n",
    "clf4 = GridSearchCV(rfecv4, parameters2, n_jobs = -1, verbose = 2)\n",
    "clf4.fit(X_train_acconlrec, Y_train_acconlrec_bin)\n",
    "Y_pred15 = clf4.predict(X_train_acconlrec)\n",
    "print('training set scores: ')\n",
    "prec, rec, acc = get_scores(Y_train_acconlrec_bin, Y_pred15)\n",
    "Y_pred16 = clf4.predict(X_test_acconlrec)\n",
    "print('test set scores: ')\n",
    "prec, rec, acc = get_scores(Y_test_acconlrec_bin, Y_pred16)\n",
    "print(\"\\nBest Parameters:\", clf4.best_params_)"
   ]
  },
  {
   "cell_type": "markdown",
   "metadata": {},
   "source": [
    "This tuned model has fewer features (54 vs 62), but the precision and accuracy are noticeably worse, both by ~0.04. We'll stick with the original model."
   ]
  },
  {
   "cell_type": "code",
   "execution_count": 110,
   "metadata": {},
   "outputs": [],
   "source": [
    "# make a dataframe containing only the columns identified by the initial binary model (62 features)\n",
    "X_train_acconlrec_rfe = X_train_acconlrec.loc[:, model4.support_]"
   ]
  },
  {
   "cell_type": "code",
   "execution_count": 111,
   "metadata": {},
   "outputs": [
    {
     "data": {
      "text/plain": [
       "Index(['highspanli', 'useinternet', 'electronic_selfhealthinfo',\n",
       "       'intrsn_visitedsocnet', 'intrsn_supportgroup', 'regularprovider',\n",
       "       'healthinsurance', 'medconditions_diabetes', 'everhadcancer',\n",
       "       'freqgoprovider_2', 'freqgoprovider_3', 'freqgoprovider_4',\n",
       "       'freqgoprovider_5', 'freqgoprovider_6', 'agegrpb_3', 'agegrpb_4',\n",
       "       'avgdrinks_cat_4', 'whruseinet_pubvother_1', 'whruseinet_pubvother_2',\n",
       "       'educa_2', 'educa_3', 'educa_4', 'internet_broadbnd_1',\n",
       "       'nchsurcode2013_4', 'nchsurcode2013_5', 'nchsurcode2013_6',\n",
       "       'healthins_pubpriv_2', 'healthins_pubpriv_3', 'survey_cycle_3',\n",
       "       'survey_cycle_4', 'survey_cycle_5', 'selfgender_2', 'selfgender_3',\n",
       "       'qualitycare_1', 'qualitycare_2', 'qualitycare_3', 'qualitycare_4',\n",
       "       'qualitycare_5', 'havedevice_cat_4', 'havedevice_cat_5',\n",
       "       'maritalstatus_3', 'maritalstatus_5', 'smokestat_2', 'smokestat_3',\n",
       "       'generalhealth_4', 'generalhealth_5', 'raceethn5_3', 'raceethn5_5',\n",
       "       'tablethealthwellnessapps_1', 'hhinc_1', 'hhinc_2', 'hhinc_4',\n",
       "       'hhinc_5', 'censdiv_2', 'censdiv_3', 'censdiv_6', 'censdiv_8',\n",
       "       'censdiv_9', 'ownabilitytakecarehealth_5', 'phq4_cat_4',\n",
       "       'tablet_discussionshcp_1', 'tablet_discussionshcp_2'],\n",
       "      dtype='object')"
      ]
     },
     "execution_count": 111,
     "metadata": {},
     "output_type": "execute_result"
    }
   ],
   "source": [
    "# see which columns are left\n",
    "X_train_acconlrec_rfe.columns"
   ]
  },
  {
   "cell_type": "code",
   "execution_count": 112,
   "metadata": {},
   "outputs": [],
   "source": [
    "# repeat for test set\n",
    "X_test_acconlrec_rfe = X_test_acconlrec.loc[:, model4.support_]"
   ]
  },
  {
   "cell_type": "markdown",
   "metadata": {},
   "source": [
    "<a id=\"manfeatreductaor\"></a>\n",
    "#### Manual Feature Reduction\n",
    "As with the other outcome variable, we still have a large model despite pruning with RFECV. Let's try manual RFE pruning again."
   ]
  },
  {
   "cell_type": "code",
   "execution_count": 113,
   "metadata": {},
   "outputs": [],
   "source": [
    "# make a datframe to hold the results. we already have the column names defined\n",
    "df_acconlrec_rfe = pd.DataFrame(columns = col_names)"
   ]
  },
  {
   "cell_type": "code",
   "execution_count": 114,
   "metadata": {},
   "outputs": [],
   "source": [
    "# add the baseline model\n",
    "df_acconlrec_rfe.loc[0, 'Features'] = 62\n",
    "df_acconlrec_rfe.loc[0, 'Precision'] = 0.74122\n",
    "df_acconlrec_rfe.loc[0, 'Recall'] = 0.72380"
   ]
  },
  {
   "cell_type": "code",
   "execution_count": 115,
   "metadata": {},
   "outputs": [
    {
     "name": "stdout",
     "output_type": "stream",
     "text": [
      "Fitting estimator with 62 features.\n",
      "Fitting estimator with 61 features.\n",
      "Fitting estimator with 60 features.\n",
      "Fitting estimator with 59 features.\n",
      "Fitting estimator with 58 features.\n",
      "Fitting estimator with 57 features.\n",
      "Fitting estimator with 56 features.\n",
      "Fitting estimator with 55 features.\n",
      "Fitting estimator with 54 features.\n",
      "Fitting estimator with 53 features.\n",
      "Fitting estimator with 52 features.\n",
      "Fitting estimator with 51 features.\n",
      "Fitting estimator with 50 features.\n",
      "Fitting estimator with 49 features.\n",
      "Fitting estimator with 48 features.\n",
      "Fitting estimator with 47 features.\n",
      "Fitting estimator with 46 features.\n",
      "Fitting estimator with 45 features.\n",
      "Fitting estimator with 44 features.\n",
      "Fitting estimator with 43 features.\n",
      "Fitting estimator with 42 features.\n",
      "Fitting estimator with 41 features.\n",
      "Fitting estimator with 40 features.\n",
      "Fitting estimator with 39 features.\n",
      "Fitting estimator with 38 features.\n",
      "Fitting estimator with 37 features.\n",
      "Fitting estimator with 36 features.\n",
      "Fitting estimator with 35 features.\n",
      "Fitting estimator with 34 features.\n",
      "Fitting estimator with 33 features.\n",
      "Fitting estimator with 32 features.\n",
      "Fitting estimator with 31 features.\n",
      "Fitting estimator with 30 features.\n",
      "Fitting estimator with 29 features.\n",
      "Fitting estimator with 28 features.\n",
      "Fitting estimator with 27 features.\n",
      "Fitting estimator with 26 features.\n",
      "Fitting estimator with 25 features.\n",
      "Fitting estimator with 24 features.\n",
      "Fitting estimator with 23 features.\n",
      "Fitting estimator with 22 features.\n",
      "Fitting estimator with 21 features.\n",
      "Fitting estimator with 20 features.\n",
      "Fitting estimator with 19 features.\n",
      "Fitting estimator with 18 features.\n",
      "Fitting estimator with 17 features.\n",
      "Fitting estimator with 16 features.\n",
      "Fitting estimator with 15 features.\n",
      "Fitting estimator with 14 features.\n",
      "Fitting estimator with 13 features.\n",
      "Fitting estimator with 12 features.\n",
      "Fitting estimator with 11 features.\n",
      "Fitting estimator with 10 features.\n",
      "Fitting estimator with 9 features.\n",
      "Fitting estimator with 8 features.\n",
      "Fitting estimator with 7 features.\n",
      "Fitting estimator with 6 features.\n",
      "training set scores: \n",
      "confusion matrix:\n",
      " [[2338  858]\n",
      " [ 808 1486]]\n",
      "precision: 0.69753; recall: 0.69654, accuracy: 0.69654\n",
      "test set scores: \n",
      "confusion matrix:\n",
      " [[1002  396]\n",
      " [ 337  593]]\n",
      "precision: 0.68891; recall: 0.68514, accuracy: 0.68514\n",
      "Fitting estimator with 62 features.\n",
      "Fitting estimator with 61 features.\n",
      "Fitting estimator with 60 features.\n",
      "Fitting estimator with 59 features.\n",
      "Fitting estimator with 58 features.\n",
      "Fitting estimator with 57 features.\n",
      "Fitting estimator with 56 features.\n",
      "Fitting estimator with 55 features.\n",
      "Fitting estimator with 54 features.\n",
      "Fitting estimator with 53 features.\n",
      "Fitting estimator with 52 features.\n",
      "Fitting estimator with 51 features.\n",
      "Fitting estimator with 50 features.\n",
      "Fitting estimator with 49 features.\n",
      "Fitting estimator with 48 features.\n",
      "Fitting estimator with 47 features.\n",
      "Fitting estimator with 46 features.\n",
      "Fitting estimator with 45 features.\n",
      "Fitting estimator with 44 features.\n",
      "Fitting estimator with 43 features.\n",
      "Fitting estimator with 42 features.\n",
      "Fitting estimator with 41 features.\n",
      "Fitting estimator with 40 features.\n",
      "Fitting estimator with 39 features.\n",
      "Fitting estimator with 38 features.\n",
      "Fitting estimator with 37 features.\n",
      "Fitting estimator with 36 features.\n",
      "Fitting estimator with 35 features.\n",
      "Fitting estimator with 34 features.\n",
      "Fitting estimator with 33 features.\n",
      "Fitting estimator with 32 features.\n",
      "Fitting estimator with 31 features.\n",
      "Fitting estimator with 30 features.\n",
      "Fitting estimator with 29 features.\n",
      "Fitting estimator with 28 features.\n",
      "Fitting estimator with 27 features.\n",
      "Fitting estimator with 26 features.\n",
      "Fitting estimator with 25 features.\n",
      "Fitting estimator with 24 features.\n",
      "Fitting estimator with 23 features.\n",
      "Fitting estimator with 22 features.\n",
      "Fitting estimator with 21 features.\n",
      "Fitting estimator with 20 features.\n",
      "Fitting estimator with 19 features.\n",
      "Fitting estimator with 18 features.\n",
      "Fitting estimator with 17 features.\n",
      "Fitting estimator with 16 features.\n",
      "Fitting estimator with 15 features.\n",
      "Fitting estimator with 14 features.\n",
      "Fitting estimator with 13 features.\n",
      "Fitting estimator with 12 features.\n",
      "Fitting estimator with 11 features.\n",
      "training set scores: \n",
      "confusion matrix:\n",
      " [[2209  987]\n",
      " [ 580 1714]]\n",
      "precision: 0.72625; recall: 0.71457, accuracy: 0.71457\n",
      "test set scores: \n",
      "confusion matrix:\n",
      " [[952 446]\n",
      " [245 685]]\n",
      "precision: 0.71955; recall: 0.70318, accuracy: 0.70318\n",
      "Fitting estimator with 62 features.\n",
      "Fitting estimator with 61 features.\n",
      "Fitting estimator with 60 features.\n",
      "Fitting estimator with 59 features.\n",
      "Fitting estimator with 58 features.\n",
      "Fitting estimator with 57 features.\n",
      "Fitting estimator with 56 features.\n",
      "Fitting estimator with 55 features.\n",
      "Fitting estimator with 54 features.\n",
      "Fitting estimator with 53 features.\n",
      "Fitting estimator with 52 features.\n",
      "Fitting estimator with 51 features.\n",
      "Fitting estimator with 50 features.\n",
      "Fitting estimator with 49 features.\n",
      "Fitting estimator with 48 features.\n",
      "Fitting estimator with 47 features.\n",
      "Fitting estimator with 46 features.\n",
      "Fitting estimator with 45 features.\n",
      "Fitting estimator with 44 features.\n",
      "Fitting estimator with 43 features.\n",
      "Fitting estimator with 42 features.\n",
      "Fitting estimator with 41 features.\n",
      "Fitting estimator with 40 features.\n",
      "Fitting estimator with 39 features.\n",
      "Fitting estimator with 38 features.\n",
      "Fitting estimator with 37 features.\n",
      "Fitting estimator with 36 features.\n",
      "Fitting estimator with 35 features.\n",
      "Fitting estimator with 34 features.\n",
      "Fitting estimator with 33 features.\n",
      "Fitting estimator with 32 features.\n",
      "Fitting estimator with 31 features.\n",
      "Fitting estimator with 30 features.\n",
      "Fitting estimator with 29 features.\n",
      "Fitting estimator with 28 features.\n",
      "Fitting estimator with 27 features.\n",
      "Fitting estimator with 26 features.\n",
      "Fitting estimator with 25 features.\n",
      "Fitting estimator with 24 features.\n",
      "Fitting estimator with 23 features.\n",
      "Fitting estimator with 22 features.\n",
      "Fitting estimator with 21 features.\n",
      "Fitting estimator with 20 features.\n",
      "Fitting estimator with 19 features.\n",
      "Fitting estimator with 18 features.\n",
      "Fitting estimator with 17 features.\n",
      "Fitting estimator with 16 features.\n",
      "training set scores: \n",
      "confusion matrix:\n",
      " [[2207  989]\n",
      " [ 527 1767]]\n",
      "precision: 0.73784; recall: 0.72386, accuracy: 0.72386\n",
      "test set scores: \n",
      "confusion matrix:\n",
      " [[947 451]\n",
      " [219 711]]\n",
      "precision: 0.73216; recall: 0.71220, accuracy: 0.71220\n",
      "Fitting estimator with 62 features.\n",
      "Fitting estimator with 61 features.\n",
      "Fitting estimator with 60 features.\n",
      "Fitting estimator with 59 features.\n",
      "Fitting estimator with 58 features.\n",
      "Fitting estimator with 57 features.\n",
      "Fitting estimator with 56 features.\n",
      "Fitting estimator with 55 features.\n",
      "Fitting estimator with 54 features.\n",
      "Fitting estimator with 53 features.\n",
      "Fitting estimator with 52 features.\n",
      "Fitting estimator with 51 features.\n",
      "Fitting estimator with 50 features.\n",
      "Fitting estimator with 49 features.\n",
      "Fitting estimator with 48 features.\n",
      "Fitting estimator with 47 features.\n",
      "Fitting estimator with 46 features.\n",
      "Fitting estimator with 45 features.\n",
      "Fitting estimator with 44 features.\n",
      "Fitting estimator with 43 features.\n",
      "Fitting estimator with 42 features.\n",
      "Fitting estimator with 41 features.\n",
      "Fitting estimator with 40 features.\n",
      "Fitting estimator with 39 features.\n",
      "Fitting estimator with 38 features.\n",
      "Fitting estimator with 37 features.\n",
      "Fitting estimator with 36 features.\n",
      "Fitting estimator with 35 features.\n",
      "Fitting estimator with 34 features.\n",
      "Fitting estimator with 33 features.\n",
      "Fitting estimator with 32 features.\n",
      "Fitting estimator with 31 features.\n",
      "Fitting estimator with 30 features.\n",
      "Fitting estimator with 29 features.\n",
      "Fitting estimator with 28 features.\n",
      "Fitting estimator with 27 features.\n",
      "Fitting estimator with 26 features.\n",
      "Fitting estimator with 25 features.\n",
      "Fitting estimator with 24 features.\n",
      "Fitting estimator with 23 features.\n",
      "Fitting estimator with 22 features.\n",
      "Fitting estimator with 21 features.\n",
      "training set scores: \n",
      "confusion matrix:\n",
      " [[2161 1035]\n",
      " [ 482 1812]]\n",
      "precision: 0.74193; recall: 0.72368, accuracy: 0.72368\n",
      "test set scores: \n",
      "confusion matrix:\n",
      " [[911 487]\n",
      " [212 718]]\n",
      "precision: 0.72518; recall: 0.69974, accuracy: 0.69974\n",
      "Fitting estimator with 62 features.\n",
      "Fitting estimator with 61 features.\n",
      "Fitting estimator with 60 features.\n",
      "Fitting estimator with 59 features.\n"
     ]
    },
    {
     "name": "stdout",
     "output_type": "stream",
     "text": [
      "Fitting estimator with 58 features.\n",
      "Fitting estimator with 57 features.\n",
      "Fitting estimator with 56 features.\n",
      "Fitting estimator with 55 features.\n",
      "Fitting estimator with 54 features.\n",
      "Fitting estimator with 53 features.\n",
      "Fitting estimator with 52 features.\n",
      "Fitting estimator with 51 features.\n",
      "Fitting estimator with 50 features.\n",
      "Fitting estimator with 49 features.\n",
      "Fitting estimator with 48 features.\n",
      "Fitting estimator with 47 features.\n",
      "Fitting estimator with 46 features.\n",
      "Fitting estimator with 45 features.\n",
      "Fitting estimator with 44 features.\n",
      "Fitting estimator with 43 features.\n",
      "Fitting estimator with 42 features.\n",
      "Fitting estimator with 41 features.\n",
      "Fitting estimator with 40 features.\n",
      "Fitting estimator with 39 features.\n",
      "Fitting estimator with 38 features.\n",
      "Fitting estimator with 37 features.\n",
      "Fitting estimator with 36 features.\n",
      "Fitting estimator with 35 features.\n",
      "Fitting estimator with 34 features.\n",
      "Fitting estimator with 33 features.\n",
      "Fitting estimator with 32 features.\n",
      "Fitting estimator with 31 features.\n",
      "Fitting estimator with 30 features.\n",
      "Fitting estimator with 29 features.\n",
      "Fitting estimator with 28 features.\n",
      "Fitting estimator with 27 features.\n",
      "Fitting estimator with 26 features.\n",
      "training set scores: \n",
      "confusion matrix:\n",
      " [[2216  980]\n",
      " [ 517 1777]]\n",
      "precision: 0.74135; recall: 0.72732, accuracy: 0.72732\n",
      "test set scores: \n",
      "confusion matrix:\n",
      " [[932 466]\n",
      " [227 703]]\n",
      "precision: 0.72314; recall: 0.70232, accuracy: 0.70232\n",
      "Fitting estimator with 62 features.\n",
      "Fitting estimator with 61 features.\n",
      "Fitting estimator with 60 features.\n",
      "Fitting estimator with 59 features.\n",
      "Fitting estimator with 58 features.\n",
      "Fitting estimator with 57 features.\n",
      "Fitting estimator with 56 features.\n",
      "Fitting estimator with 55 features.\n",
      "Fitting estimator with 54 features.\n",
      "Fitting estimator with 53 features.\n",
      "Fitting estimator with 52 features.\n",
      "Fitting estimator with 51 features.\n",
      "Fitting estimator with 50 features.\n",
      "Fitting estimator with 49 features.\n",
      "Fitting estimator with 48 features.\n",
      "Fitting estimator with 47 features.\n",
      "Fitting estimator with 46 features.\n",
      "Fitting estimator with 45 features.\n",
      "Fitting estimator with 44 features.\n",
      "Fitting estimator with 43 features.\n",
      "Fitting estimator with 42 features.\n",
      "Fitting estimator with 41 features.\n",
      "Fitting estimator with 40 features.\n",
      "Fitting estimator with 39 features.\n",
      "Fitting estimator with 38 features.\n",
      "Fitting estimator with 37 features.\n",
      "Fitting estimator with 36 features.\n",
      "Fitting estimator with 35 features.\n",
      "Fitting estimator with 34 features.\n",
      "Fitting estimator with 33 features.\n",
      "Fitting estimator with 32 features.\n",
      "Fitting estimator with 31 features.\n",
      "training set scores: \n",
      "confusion matrix:\n",
      " [[2218  978]\n",
      " [ 518 1776]]\n",
      "precision: 0.74140; recall: 0.72750, accuracy: 0.72750\n",
      "test set scores: \n",
      "confusion matrix:\n",
      " [[936 462]\n",
      " [221 709]]\n",
      "precision: 0.72768; recall: 0.70662, accuracy: 0.70662\n",
      "Fitting estimator with 62 features.\n",
      "Fitting estimator with 61 features.\n",
      "Fitting estimator with 60 features.\n",
      "Fitting estimator with 59 features.\n",
      "Fitting estimator with 58 features.\n",
      "Fitting estimator with 57 features.\n",
      "Fitting estimator with 56 features.\n",
      "Fitting estimator with 55 features.\n",
      "Fitting estimator with 54 features.\n",
      "Fitting estimator with 53 features.\n",
      "Fitting estimator with 52 features.\n",
      "Fitting estimator with 51 features.\n",
      "Fitting estimator with 50 features.\n",
      "Fitting estimator with 49 features.\n",
      "Fitting estimator with 48 features.\n",
      "Fitting estimator with 47 features.\n",
      "Fitting estimator with 46 features.\n",
      "Fitting estimator with 45 features.\n",
      "Fitting estimator with 44 features.\n",
      "Fitting estimator with 43 features.\n",
      "Fitting estimator with 42 features.\n",
      "Fitting estimator with 41 features.\n",
      "Fitting estimator with 40 features.\n",
      "Fitting estimator with 39 features.\n",
      "Fitting estimator with 38 features.\n",
      "Fitting estimator with 37 features.\n",
      "Fitting estimator with 36 features.\n",
      "training set scores: \n",
      "confusion matrix:\n",
      " [[2240  956]\n",
      " [ 511 1783]]\n",
      "precision: 0.74602; recall: 0.73279, accuracy: 0.73279\n",
      "test set scores: \n",
      "confusion matrix:\n",
      " [[943 455]\n",
      " [221 709]]\n",
      "precision: 0.72983; recall: 0.70962, accuracy: 0.70962\n",
      "Fitting estimator with 62 features.\n",
      "Fitting estimator with 61 features.\n",
      "Fitting estimator with 60 features.\n",
      "Fitting estimator with 59 features.\n",
      "Fitting estimator with 58 features.\n",
      "Fitting estimator with 57 features.\n",
      "Fitting estimator with 56 features.\n",
      "Fitting estimator with 55 features.\n",
      "Fitting estimator with 54 features.\n",
      "Fitting estimator with 53 features.\n",
      "Fitting estimator with 52 features.\n",
      "Fitting estimator with 51 features.\n",
      "Fitting estimator with 50 features.\n",
      "Fitting estimator with 49 features.\n",
      "Fitting estimator with 48 features.\n",
      "Fitting estimator with 47 features.\n",
      "Fitting estimator with 46 features.\n",
      "Fitting estimator with 45 features.\n",
      "Fitting estimator with 44 features.\n",
      "Fitting estimator with 43 features.\n",
      "Fitting estimator with 42 features.\n",
      "Fitting estimator with 41 features.\n",
      "training set scores: \n",
      "confusion matrix:\n",
      " [[2231  965]\n",
      " [ 502 1792]]\n",
      "precision: 0.74681; recall: 0.73279, accuracy: 0.73279\n",
      "test set scores: \n",
      "confusion matrix:\n",
      " [[963 435]\n",
      " [220 710]]\n",
      "precision: 0.73655; recall: 0.71864, accuracy: 0.71864\n",
      "Fitting estimator with 62 features.\n",
      "Fitting estimator with 61 features.\n",
      "Fitting estimator with 60 features.\n",
      "Fitting estimator with 59 features.\n",
      "Fitting estimator with 58 features.\n",
      "Fitting estimator with 57 features.\n",
      "Fitting estimator with 56 features.\n",
      "Fitting estimator with 55 features.\n",
      "Fitting estimator with 54 features.\n",
      "Fitting estimator with 53 features.\n",
      "Fitting estimator with 52 features.\n",
      "Fitting estimator with 51 features.\n",
      "Fitting estimator with 50 features.\n",
      "Fitting estimator with 49 features.\n",
      "Fitting estimator with 48 features.\n",
      "Fitting estimator with 47 features.\n",
      "Fitting estimator with 46 features.\n",
      "training set scores: \n",
      "confusion matrix:\n",
      " [[2243  953]\n",
      " [ 499 1795]]\n",
      "precision: 0.74915; recall: 0.73552, accuracy: 0.73552\n",
      "test set scores: \n",
      "confusion matrix:\n",
      " [[968 430]\n",
      " [213 717]]\n",
      "precision: 0.74193; recall: 0.72380, accuracy: 0.72380\n",
      "Fitting estimator with 62 features.\n",
      "Fitting estimator with 61 features.\n",
      "Fitting estimator with 60 features.\n",
      "Fitting estimator with 59 features.\n",
      "Fitting estimator with 58 features.\n",
      "Fitting estimator with 57 features.\n",
      "Fitting estimator with 56 features.\n",
      "Fitting estimator with 55 features.\n",
      "Fitting estimator with 54 features.\n",
      "Fitting estimator with 53 features.\n",
      "Fitting estimator with 52 features.\n",
      "Fitting estimator with 51 features.\n",
      "training set scores: \n",
      "confusion matrix:\n",
      " [[2254  942]\n",
      " [ 507 1787]]\n",
      "precision: 0.74887; recall: 0.73607, accuracy: 0.73607\n",
      "test set scores: \n",
      "confusion matrix:\n",
      " [[968 430]\n",
      " [213 717]]\n",
      "precision: 0.74193; recall: 0.72380, accuracy: 0.72380\n",
      "Fitting estimator with 62 features.\n",
      "Fitting estimator with 61 features.\n",
      "Fitting estimator with 60 features.\n",
      "Fitting estimator with 59 features.\n",
      "Fitting estimator with 58 features.\n",
      "Fitting estimator with 57 features.\n",
      "Fitting estimator with 56 features.\n",
      "training set scores: \n",
      "confusion matrix:\n",
      " [[2259  937]\n",
      " [ 510 1784]]\n",
      "precision: 0.74889; recall: 0.73643, accuracy: 0.73643\n",
      "test set scores: \n",
      "confusion matrix:\n",
      " [[965 433]\n",
      " [223 707]]\n",
      "precision: 0.73554; recall: 0.71821, accuracy: 0.71821\n",
      "Fitting estimator with 62 features.\n",
      "Fitting estimator with 61 features.\n",
      "training set scores: \n",
      "confusion matrix:\n",
      " [[2274  922]\n",
      " [ 499 1795]]\n",
      "precision: 0.75345; recall: 0.74117, accuracy: 0.74117\n",
      "test set scores: \n",
      "confusion matrix:\n",
      " [[970 428]\n",
      " [216 714]]\n",
      "precision: 0.74091; recall: 0.72337, accuracy: 0.72337\n"
     ]
    }
   ],
   "source": [
    "# do RFE with manual thresholds for number of parameters to keep\n",
    "# C = 1 and balanced class weights worked well before, so keep them\n",
    "RFE_cuts = [5, 10, 15, 20, 25, 30, 35, 40, 45, 50, 55, 60]\n",
    "for i in range(len(RFE_cuts)):\n",
    "    # use RFE to fit the model\n",
    "    logregrfe = LogisticRegression(class_weight = 'balanced', C = 1, n_jobs = -1)\n",
    "    rfe = RFE(logregrfe, n_features_to_select = RFE_cuts[i], verbose = 2)\n",
    "    # this X matrix contains only the 62 parameters identified by RFECV above\n",
    "    rfe.fit(X_train_acconlrec_rfe, Y_train_acconlrec_bin)\n",
    "    Y_predrfe1 = rfe.predict(X_train_acconlrec_rfe)\n",
    "    print('training set scores: ')\n",
    "    prec, rec, acc = get_scores(Y_train_acconlrec_bin, Y_predrfe1)\n",
    "    Y_predrfe2 = rfe.predict(X_test_acconlrec_rfe)\n",
    "    print('test set scores: ')\n",
    "    prec, rec, acc = get_scores(Y_test_acconlrec_bin, Y_predrfe2)\n",
    "    # save the parameters to plot\n",
    "    df_acconlrec_rfe.loc[i+1, 'Features'] = RFE_cuts[i]\n",
    "    df_acconlrec_rfe.loc[i+1, 'Precision'] = prec\n",
    "    df_acconlrec_rfe.loc[i+1, 'Recall'] = rec"
   ]
  },
  {
   "cell_type": "markdown",
   "metadata": {},
   "source": [
    "Plot the precision & recall results"
   ]
  },
  {
   "cell_type": "code",
   "execution_count": 116,
   "metadata": {},
   "outputs": [
    {
     "data": {
      "image/png": "[encoded data removed]",
      "text/plain": [
       "<Figure size 432x288 with 1 Axes>"
      ]
     },
     "metadata": {
      "needs_background": "light"
     },
     "output_type": "display_data"
    }
   ],
   "source": [
    "plt.scatter(data=df_acconlrec_rfe, x = 'Features', y = 'Precision', color = 'red', label = 'Precision')\n",
    "plt.scatter(data=df_acconlrec_rfe, x = 'Features', y = 'Recall', color = 'green', label = 'Recall')\n",
    "plt.legend()\n",
    "plt.ylabel('Precision or Recall')\n",
    "plt.xlabel('Number of Features')\n",
    "plt.title('Precision and Recall by Number of Features via RFE\\n Model for EMR Use');"
   ]
  },
  {
   "cell_type": "markdown",
   "metadata": {},
   "source": [
    "For this model, the best results are at 45 and 50 features (slightly better than 60 and the RFECV-defined 62). We'll keep the most parsimonious model with 45 features."
   ]
  },
  {
   "cell_type": "markdown",
   "metadata": {},
   "source": [
    "Re-run the model with 45 features, then get the reduced datasets, coefficients, and probabilities."
   ]
  },
  {
   "cell_type": "code",
   "execution_count": 117,
   "metadata": {},
   "outputs": [
    {
     "name": "stdout",
     "output_type": "stream",
     "text": [
      "Fitting estimator with 62 features.\n",
      "Fitting estimator with 61 features.\n",
      "Fitting estimator with 60 features.\n",
      "Fitting estimator with 59 features.\n",
      "Fitting estimator with 58 features.\n",
      "Fitting estimator with 57 features.\n",
      "Fitting estimator with 56 features.\n",
      "Fitting estimator with 55 features.\n",
      "Fitting estimator with 54 features.\n",
      "Fitting estimator with 53 features.\n",
      "Fitting estimator with 52 features.\n",
      "Fitting estimator with 51 features.\n",
      "Fitting estimator with 50 features.\n",
      "Fitting estimator with 49 features.\n",
      "Fitting estimator with 48 features.\n",
      "Fitting estimator with 47 features.\n",
      "Fitting estimator with 46 features.\n",
      "training set scores: \n",
      "confusion matrix:\n",
      " [[2243  953]\n",
      " [ 499 1795]]\n",
      "precision: 0.74915; recall: 0.73552, accuracy: 0.73552\n",
      "test set scores: \n",
      "confusion matrix:\n",
      " [[968 430]\n",
      " [213 717]]\n",
      "precision: 0.74193; recall: 0.72380, accuracy: 0.72380\n"
     ]
    }
   ],
   "source": [
    "# run RFE with 45 features so we can get the model coefficients etc.\n",
    "logregrfe = LogisticRegression(class_weight = 'balanced', C = 1, n_jobs = -1)\n",
    "rfe = RFE(logregrfe, n_features_to_select = 45, verbose = 2)\n",
    "# this X matrix contains only the 45 parameters identified by RFECV above\n",
    "rfe.fit(X_train_acconlrec_rfe, Y_train_acconlrec_bin)\n",
    "Y_predrfe1 = rfe.predict(X_train_acconlrec_rfe)\n",
    "print('training set scores: ')\n",
    "prec, rec, acc = get_scores(Y_train_acconlrec_bin, Y_predrfe1)\n",
    "Y_predrfe2 = rfe.predict(X_test_acconlrec_rfe)\n",
    "print('test set scores: ')\n",
    "prec, rec, acc = get_scores(Y_test_acconlrec_bin, Y_predrfe2)"
   ]
  },
  {
   "cell_type": "code",
   "execution_count": 118,
   "metadata": {},
   "outputs": [],
   "source": [
    "# make a dataframe containing only the columns identified by the RFE model (45 features)\n",
    "X_train_acconlrec_rfe_final = X_train_acconlrec_rfe.loc[:, rfe.support_]"
   ]
  },
  {
   "cell_type": "code",
   "execution_count": 119,
   "metadata": {},
   "outputs": [
    {
     "data": {
      "text/plain": [
       "Index(['highspanli', 'useinternet', 'electronic_selfhealthinfo',\n",
       "       'intrsn_visitedsocnet', 'regularprovider', 'healthinsurance',\n",
       "       'medconditions_diabetes', 'everhadcancer', 'freqgoprovider_3',\n",
       "       'freqgoprovider_4', 'freqgoprovider_5', 'freqgoprovider_6',\n",
       "       'avgdrinks_cat_4', 'whruseinet_pubvother_1', 'whruseinet_pubvother_2',\n",
       "       'educa_2', 'educa_3', 'educa_4', 'internet_broadbnd_1',\n",
       "       'nchsurcode2013_4', 'nchsurcode2013_5', 'survey_cycle_3',\n",
       "       'survey_cycle_4', 'survey_cycle_5', 'selfgender_2', 'qualitycare_1',\n",
       "       'qualitycare_2', 'qualitycare_3', 'qualitycare_4', 'qualitycare_5',\n",
       "       'havedevice_cat_5', 'maritalstatus_5', 'smokestat_2', 'smokestat_3',\n",
       "       'raceethn5_3', 'tablethealthwellnessapps_1', 'hhinc_1', 'hhinc_2',\n",
       "       'censdiv_2', 'censdiv_6', 'censdiv_8', 'censdiv_9',\n",
       "       'ownabilitytakecarehealth_5', 'phq4_cat_4', 'tablet_discussionshcp_1'],\n",
       "      dtype='object')"
      ]
     },
     "execution_count": 119,
     "metadata": {},
     "output_type": "execute_result"
    }
   ],
   "source": [
    "# see which columns are left\n",
    "X_train_acconlrec_rfe_final.columns"
   ]
  },
  {
   "cell_type": "code",
   "execution_count": 120,
   "metadata": {},
   "outputs": [],
   "source": [
    "# repeat for test set\n",
    "X_test_acconlrec_rfe_final = X_test_acconlrec_rfe.loc[:, rfe.support_]"
   ]
  },
  {
   "cell_type": "code",
   "execution_count": 121,
   "metadata": {},
   "outputs": [],
   "source": [
    "# save the model coefficients\n",
    "accessonlinerec_coefs = rfe.estimator_.coef_"
   ]
  },
  {
   "cell_type": "code",
   "execution_count": 122,
   "metadata": {},
   "outputs": [
    {
     "data": {
      "text/plain": [
       "(1, 45)"
      ]
     },
     "execution_count": 122,
     "metadata": {},
     "output_type": "execute_result"
    }
   ],
   "source": [
    "accessonlinerec_coefs.shape"
   ]
  },
  {
   "cell_type": "code",
   "execution_count": 123,
   "metadata": {},
   "outputs": [],
   "source": [
    "# and the intercept\n",
    "accessonlinerec_inters = rfe.estimator_.intercept_"
   ]
  },
  {
   "cell_type": "code",
   "execution_count": 124,
   "metadata": {},
   "outputs": [
    {
     "data": {
      "text/plain": [
       "array([0, 1])"
      ]
     },
     "execution_count": 124,
     "metadata": {},
     "output_type": "execute_result"
    }
   ],
   "source": [
    "# check the order of classes\n",
    "rfe.estimator_.classes_"
   ]
  },
  {
   "cell_type": "code",
   "execution_count": 125,
   "metadata": {},
   "outputs": [],
   "source": [
    "# get the predicted probabilities for the test set (for class 1/Yes)\n",
    "accessonlinerec_probs = rfe.estimator_.predict_proba(X_test_acconlrec_rfe_final)[:, 1]"
   ]
  },
  {
   "cell_type": "code",
   "execution_count": 126,
   "metadata": {},
   "outputs": [
    {
     "data": {
      "text/plain": [
       "array([0.36688057, 0.46907124, 0.05637257, ..., 0.66076884, 0.23319155,\n",
       "       0.7368352 ])"
      ]
     },
     "metadata": {},
     "output_type": "display_data"
    },
    {
     "data": {
      "text/plain": [
       "(2328,)"
      ]
     },
     "metadata": {},
     "output_type": "display_data"
    }
   ],
   "source": [
    "# check this; should be 1d array with 2328 entries\n",
    "display(accessonlinerec_probs)\n",
    "display(accessonlinerec_probs.shape)"
   ]
  },
  {
   "cell_type": "code",
   "execution_count": 127,
   "metadata": {},
   "outputs": [
    {
     "name": "stdout",
     "output_type": "stream",
     "text": [
      "max pred. probability: 0.9710017339140948\n"
     ]
    }
   ],
   "source": [
    "# check the spread of the predicted probabilities\n",
    "print('max pred. probability:', accessonlinerec_probs.max())"
   ]
  },
  {
   "cell_type": "code",
   "execution_count": 128,
   "metadata": {},
   "outputs": [
    {
     "name": "stdout",
     "output_type": "stream",
     "text": [
      "min pred. probability: 0.0020900136452592873\n"
     ]
    }
   ],
   "source": [
    "print('min pred. probability:', accessonlinerec_probs.min())"
   ]
  },
  {
   "cell_type": "markdown",
   "metadata": {},
   "source": [
    "There is again a wide range of predicted probabilities in the test set. This will be useful in differentiating which respondents are more and less likely to have been used an EMR."
   ]
  },
  {
   "cell_type": "markdown",
   "metadata": {},
   "source": [
    "<a id=\"sumfinvarsaor\"></a>\n",
    "#### Summary of Final Variables\n",
    "We'll summarize the 45 variables left in the final model, along with their influence as we did above. Again, the outcome is coded as N = 0, Y =1 and all the features are positive integers, so a positive coefficient implies that a respondent with the characteristic is more likely to have used an EMR, and a negative coefficient, less likely."
   ]
  },
  {
   "cell_type": "code",
   "execution_count": 129,
   "metadata": {},
   "outputs": [
    {
     "name": "stdout",
     "output_type": "stream",
     "text": [
      "Column:  highspanli  Coefficient:  -0.531423205818427\n",
      "Column:  useinternet  Coefficient:  0.5959222073509762\n",
      "Column:  electronic_selfhealthinfo  Coefficient:  0.6964149012204862\n",
      "Column:  intrsn_visitedsocnet  Coefficient:  0.2942769985853987\n",
      "Column:  regularprovider  Coefficient:  0.5968813880249698\n",
      "Column:  healthinsurance  Coefficient:  0.659759207516666\n",
      "Column:  medconditions_diabetes  Coefficient:  0.3192491976133308\n",
      "Column:  everhadcancer  Coefficient:  0.22935447833466927\n",
      "Column:  freqgoprovider_3  Coefficient:  0.28388684702828315\n",
      "Column:  freqgoprovider_4  Coefficient:  0.2795044098695676\n",
      "Column:  freqgoprovider_5  Coefficient:  0.44126198734763367\n",
      "Column:  freqgoprovider_6  Coefficient:  0.5621935741822116\n",
      "Column:  avgdrinks_cat_4  Coefficient:  -0.23956024219829986\n",
      "Column:  whruseinet_pubvother_1  Coefficient:  0.31748937633133517\n",
      "Column:  whruseinet_pubvother_2  Coefficient:  0.27843283101963956\n",
      "Column:  educa_2  Coefficient:  0.4739405968408064\n",
      "Column:  educa_3  Coefficient:  0.5735795931317962\n",
      "Column:  educa_4  Coefficient:  0.8025204123621499\n",
      "Column:  internet_broadbnd_1  Coefficient:  0.2678436165087341\n",
      "Column:  nchsurcode2013_4  Coefficient:  -0.25515176031683884\n",
      "Column:  nchsurcode2013_5  Coefficient:  -0.2582844814769422\n",
      "Column:  survey_cycle_3  Coefficient:  0.3055187314357205\n",
      "Column:  survey_cycle_4  Coefficient:  0.6426305100420422\n",
      "Column:  survey_cycle_5  Coefficient:  0.4658477595945543\n",
      "Column:  selfgender_2  Coefficient:  0.2242925194730612\n",
      "Column:  qualitycare_1  Coefficient:  0.9733329912098911\n",
      "Column:  qualitycare_2  Coefficient:  0.7765776218057594\n",
      "Column:  qualitycare_3  Coefficient:  0.6539653473699402\n",
      "Column:  qualitycare_4  Coefficient:  0.7314879067403012\n",
      "Column:  qualitycare_5  Coefficient:  0.4713966513608936\n",
      "Column:  havedevice_cat_5  Coefficient:  0.33287159356339696\n",
      "Column:  maritalstatus_5  Coefficient:  -0.45775046040484063\n",
      "Column:  smokestat_2  Coefficient:  0.3530058023591039\n",
      "Column:  smokestat_3  Coefficient:  0.38357127202121283\n",
      "Column:  raceethn5_3  Coefficient:  -0.248344352071759\n",
      "Column:  tablethealthwellnessapps_1  Coefficient:  0.591695081975543\n",
      "Column:  hhinc_1  Coefficient:  -0.3904715048263131\n",
      "Column:  hhinc_2  Coefficient:  -0.2840487919323571\n",
      "Column:  censdiv_2  Coefficient:  -0.2903835209964346\n",
      "Column:  censdiv_6  Coefficient:  -0.557688096492949\n",
      "Column:  censdiv_8  Coefficient:  -0.3621199291429272\n",
      "Column:  censdiv_9  Coefficient:  0.18514387799598012\n",
      "Column:  ownabilitytakecarehealth_5  Coefficient:  -0.43855027131099455\n",
      "Column:  phq4_cat_4  Coefficient:  -0.3429753265464434\n",
      "Column:  tablet_discussionshcp_1  Coefficient:  0.7791963959652493\n"
     ]
    }
   ],
   "source": [
    "# look at the list of variables with their logistic regression coefficients\n",
    "col_list = list(X_train_acconlrec_rfe_final.columns)\n",
    "for i in range(len(col_list)):\n",
    "    print('Column: ', col_list[i], ' Coefficient: ', accessonlinerec_coefs[0, i])"
   ]
  },
  {
   "cell_type": "markdown",
   "metadata": {},
   "source": [
    "**Variables associated with higher likelihood of having used an EMR:**  \n",
    "\n",
    "_Demographic & Temporal:_  \n",
    "- `educa_2` : High school education (vs all other levels; lowest/reference is \\< high school)\n",
    "- `educa_3` : Some college education (vs all other levels)\n",
    "- `educa_4` : College or higher education (vs all other levels)\n",
    "- `selfgender_2` : Female (vs male or no answer)\n",
    "- `censdiv_9` : Pacific census division (CA, OR, WA, AK, HI; vs all other divisions)\n",
    "- `survey_cycle_3` : 2019 (vs 2018, 2020 pre- & post-pandemic)\n",
    "- `survey_cycle_4` : 2020 pre-pandemic (vs 2018, 2019, 2020 post-pandemic)\n",
    "- `survey_cycle_5` : 2020 post-pandemic (vs 2018, 2019, 2020 pre-pandemic)\n",
    "\n",
    "_Health-Related:_  \n",
    "- `regularprovider` : Have regular HCP (vs do not)\n",
    "- `healthinsurance` : Have some form of health insurance (vs do not)\n",
    "- `medconditions_diabetes` : Ever diagnosed with diabetes (vs never)\n",
    "- `everhadcancer` : Ever diagnosed with cancer (vs never)\n",
    "- `qualitycare_1` : Rate quality of HCP's care \"excellent\" (vs. don't go, very good, good, fair, poor)\n",
    "- `qualitycare_2` : Rate quality of HCP's care \"very good\" (vs. don't go, excellent, good, fair, poor)\n",
    "- `qualitycare_3` : Rate quality of HCP's care \"good\" (vs. don't go, excellent, very good, fair, poor)\n",
    "- `qualitycare_4` : Rate quality of HCP's care \"fair\" (vs. don't go, excellent, very good, good, poor)\n",
    "- `qualitycare_5` : Rate quality of HCP's care \"poor\" (vs. don't go, excellent, very good, good, fair)\n",
    "- `freqgoprovider_3` : See HCP 3 times yearly (vs. 0, 1, 2, 4, 5-9, and >=10)\n",
    "- `freqgoprovider_4` : See HCP 4 times yearly (vs. 0, 1, 2, 3, 5-9, and >=10)\n",
    "- `freqgoprovider_5` : See HCP 5-9 times yearly (vs. 0, 1, 2, 3, 4, and >=10)\n",
    "- `freqgoprovider_6` : See HCP >= 10 times yearly (vs. 0, 1, 2, 3, 4, and 5-9)\n",
    "- `smokestat_2` : Former smoker (vs current, never)\n",
    "- `smokestat_3` : Never smoker (vs current, former)\n",
    "\n",
    "\n",
    "_Electronic Device & Internet-Related:_\n",
    "- `useinternet` : Use internet for web browsing/email (vs do not)\n",
    "- `electronic_selfhealthinfo` : Have used electronic means to search for health-related info in last 12 mos (vs haven't)\n",
    "- `intrsn_visitedsocnet` : Used internet to visit social network (vs no or don't browse)\n",
    "- `whruseinet_pubvother_1` : Use internet in public place (eg library) \"often\" or \"sometimes\" (vs never or don't use internet)\n",
    "- `whruseinet_pubvother_2` : Do not use internet in public place (eg library) (vs often/sometimes or don't use internet)\n",
    "- `tablethealthwellnessapps_1` : Have health/wellness apps on a tablet (vs no  or don't own tablet)\n",
    "- `tablet_discussionshcp_1` : Use tablet as aid for discussion with HCP (vs no  or don't own tablet)\n",
    "- `havedevice_cat_5` : Have multiple electronic devices (cell phone, regular phone, tablet; vs none or one of these)\n",
    "- `internet_broadbnd_1` : Access the internet through a broadband connection (vs. don't or no internet)"
   ]
  },
  {
   "cell_type": "markdown",
   "metadata": {},
   "source": [
    "**Variables associated with lower likelihood of having used an EMR:**  \n",
    "\n",
    "_Demographic:_\n",
    "- `highspanli` : Linguistically isolated (high prevalence less proficient English speakers)\n",
    "- `raceethn5_3` : Hispanic (vs all other racial groupings)\n",
    "- `censdiv_2`: Middle Atlantic census division (NJ, NY, PA; vs all other divisions)\n",
    "- `censdiv_6` : East South Central census divsion (KY, TN, MS, AL; vs all other divisions)\n",
    "- `censdiv_8` : Mountain census divsion (AZ, CO, ID, NM, MT, UT, NV, WY; vs all other divisions)\n",
    "- `nchsurcode2013_4` : Metropolitan: small metro urban vs rural classification (4th smallest of 6; vs all other classifications)\n",
    "- `nchsurcode2013_5` : Non-metropolitan: micropolitan urban vs rural classification (5th smallest of 6; vs all other classifications)\n",
    "- `hhinc_1` : Household income in lowest category (\\< \\$20k/yr; vs all higher categories & not reported)\n",
    "- `hhinc_2` : Household income in second-lowest category (\\$20-34.99k/yr; vs all other categories & not reported)\n",
    "- `maritalstatus_5` : Separated (vs all other categories)\n",
    "\n",
    "_Health-Related:_\n",
    "- `phq4_cat_4` : Severe psychological distress based on PHQ-4 score (vs none, mild, or moderate)\n",
    "- `avgdrinks_cat_4` : \\>= 100% to \\< 150%  of number drinks CDC classifies as heavy drinking (M: 15-22, F: 8-12; missing: 12-17; this is second-highest category; vs other categories)\n",
    "- `ownabilitytakecarehealth_5` : \"Not at all\" confident in own ability to take care of health (vs completely, very, somewhat, or a little confident)"
   ]
  },
  {
   "cell_type": "markdown",
   "metadata": {},
   "source": [
    "Plot the odds ratios."
   ]
  },
  {
   "cell_type": "code",
   "execution_count": 130,
   "metadata": {},
   "outputs": [],
   "source": [
    "# calculate odds ratios\n",
    "accessonlinerec_ORs = np.exp(accessonlinerec_coefs).reshape(45)"
   ]
  },
  {
   "cell_type": "code",
   "execution_count": 131,
   "metadata": {},
   "outputs": [
    {
     "name": "stdout",
     "output_type": "stream",
     "text": [
      "min OR:  0.5725311717909026\n",
      "max OR:  2.646751373580337\n"
     ]
    }
   ],
   "source": [
    "# check range\n",
    "print('min OR: ', np.min(accessonlinerec_ORs))\n",
    "print('max OR: ', np.max(accessonlinerec_ORs))"
   ]
  },
  {
   "cell_type": "code",
   "execution_count": 132,
   "metadata": {},
   "outputs": [],
   "source": [
    "# put the ORs and column labels in a df so it can be sorted\n",
    "df_aor_OR = pd.DataFrame(columns = ['col', 'OR'])\n",
    "df_aor_OR['col'] = col_list\n",
    "df_aor_OR['OR'] = accessonlinerec_ORs"
   ]
  },
  {
   "cell_type": "code",
   "execution_count": 133,
   "metadata": {},
   "outputs": [
    {
     "data": {
      "text/html": [
       "<div>\n",
       "<style scoped>\n",
       "    .dataframe tbody tr th:only-of-type {\n",
       "        vertical-align: middle;\n",
       "    }\n",
       "\n",
       "    .dataframe tbody tr th {\n",
       "        vertical-align: top;\n",
       "    }\n",
       "\n",
       "    .dataframe thead th {\n",
       "        text-align: right;\n",
       "    }\n",
       "</style>\n",
       "<table border=\"1\" class=\"dataframe\">\n",
       "  <thead>\n",
       "    <tr style=\"text-align: right;\">\n",
       "      <th></th>\n",
       "      <th>col</th>\n",
       "      <th>OR</th>\n",
       "    </tr>\n",
       "  </thead>\n",
       "  <tbody>\n",
       "    <tr>\n",
       "      <th>39</th>\n",
       "      <td>censdiv_6</td>\n",
       "      <td>0.572531</td>\n",
       "    </tr>\n",
       "    <tr>\n",
       "      <th>0</th>\n",
       "      <td>highspanli</td>\n",
       "      <td>0.587768</td>\n",
       "    </tr>\n",
       "    <tr>\n",
       "      <th>31</th>\n",
       "      <td>maritalstatus_5</td>\n",
       "      <td>0.632705</td>\n",
       "    </tr>\n",
       "    <tr>\n",
       "      <th>42</th>\n",
       "      <td>ownabilitytakecarehealth_5</td>\n",
       "      <td>0.644971</td>\n",
       "    </tr>\n",
       "    <tr>\n",
       "      <th>36</th>\n",
       "      <td>hhinc_1</td>\n",
       "      <td>0.676738</td>\n",
       "    </tr>\n",
       "    <tr>\n",
       "      <th>40</th>\n",
       "      <td>censdiv_8</td>\n",
       "      <td>0.696199</td>\n",
       "    </tr>\n",
       "    <tr>\n",
       "      <th>43</th>\n",
       "      <td>phq4_cat_4</td>\n",
       "      <td>0.709656</td>\n",
       "    </tr>\n",
       "    <tr>\n",
       "      <th>38</th>\n",
       "      <td>censdiv_2</td>\n",
       "      <td>0.747977</td>\n",
       "    </tr>\n",
       "    <tr>\n",
       "      <th>37</th>\n",
       "      <td>hhinc_2</td>\n",
       "      <td>0.752730</td>\n",
       "    </tr>\n",
       "    <tr>\n",
       "      <th>20</th>\n",
       "      <td>nchsurcode2013_5</td>\n",
       "      <td>0.772375</td>\n",
       "    </tr>\n",
       "  </tbody>\n",
       "</table>\n",
       "</div>"
      ],
      "text/plain": [
       "                           col        OR\n",
       "39                   censdiv_6  0.572531\n",
       "0                   highspanli  0.587768\n",
       "31             maritalstatus_5  0.632705\n",
       "42  ownabilitytakecarehealth_5  0.644971\n",
       "36                     hhinc_1  0.676738\n",
       "40                   censdiv_8  0.696199\n",
       "43                  phq4_cat_4  0.709656\n",
       "38                   censdiv_2  0.747977\n",
       "37                     hhinc_2  0.752730\n",
       "20            nchsurcode2013_5  0.772375"
      ]
     },
     "execution_count": 133,
     "metadata": {},
     "output_type": "execute_result"
    }
   ],
   "source": [
    "#sort\n",
    "df_aor_OR.sort_values(by='OR', inplace = True)\n",
    "df_aor_OR.head(10)"
   ]
  },
  {
   "cell_type": "code",
   "execution_count": 135,
   "metadata": {},
   "outputs": [
    {
     "data": {
      "image/png": "[encoded data removed]",
      "text/plain": [
       "<Figure size 864x1008 with 1 Axes>"
      ]
     },
     "metadata": {
      "needs_background": "light"
     },
     "output_type": "display_data"
    }
   ],
   "source": [
    "# plot the ORs\n",
    "fig, bar3 = plt.subplots(figsize = (12,14)) \n",
    "y_labs = ['East S Ctrl Census Div', 'Linguistic isolation', 'Separated', 'Self-care ability rated \"Not at all\"',\\\n",
    "         'Household income: < $20k/yr', 'Mountain Census Div', 'Severe psych. distress', 'Mid Atlantic Census Div',\\\n",
    "         'Household income: $20-34.99k/yr', 'Municipality: Non-metro/micropolitan', 'Municipality: Small metropolitan',  \\\n",
    "         'Hispanic', '>= 100% to < 150% CDC heavy drinker', 'Pacific Census Div', 'Female', 'History of cancer',\\\n",
    "         'Has broadband access', \"Doesn't use public internet\", 'Sees HCP 4x/yr', 'Sees HCP 3x/yr',\\\n",
    "         'Visits social network sites', 'Cycle: 2019', 'Uses public internet', 'Diabetes', 'Owns multiple e-devices',\\\n",
    "         'Former smoker', 'Never smoker', 'Sees HCP 5-9x/yr', 'Cycle: 2020 post-pandemic', 'Care rated poor',\\\n",
    "         'Education: HS graduate', 'Sees HCP >= 10x/yr', 'Education: some college', 'Tablet has health apps',\\\n",
    "         'Uses internet', 'Has regular HCP', 'Cycle: 2020 pre-pandemic', 'Care rated good', 'Has health ins.',\\\n",
    "         'Searches web for health info', 'Care rated fair', 'Care rated very good', 'Uses tablet for HCP discussion',\\\n",
    "         'Education: >= college degree', 'Care rated excellent']\n",
    "df_aor_OR['ORlt1'] = df_aor_OR['OR'] < 1.0\n",
    "bar3 = plt.barh(data=df_aor_OR, y=np.arange(45), width= 'OR', tick_label=y_labs,\\\n",
    "               color=df_aor_OR['ORlt1'].map({True:'r', False:'g'}))\n",
    "plt.title('Odds Ratios for Features Associated with EMR Use')\n",
    "plt.xlabel('Odds Ratio')\n",
    "plt.ylabel('Feature')\n",
    "plt.xticks(np.arange(0.1, 2.9, 0.1))\n",
    "plt.axvline(x=1.0, color='black', linestyle='--');"
   ]
  },
  {
   "cell_type": "markdown",
   "metadata": {},
   "source": [
    "As previously, the dividing line at 1.0 demarcates features associated with EMR use (in green) and those not associated with EMR use (in red).  \n",
    "Here, rating care \"excellent\" is most associated with having used an EMR, followed by having attained a college degree or higher level of education.  \n",
    "By contrast, residing in the East South Central census division is most associated with _not_ having used an EMR, followed by living in linguistically isolated area."
   ]
  },
  {
   "cell_type": "markdown",
   "metadata": {},
   "source": [
    "We want to compare characteristics of those more and less likely to use an EMR. Let's see what the probability distribution looks like."
   ]
  },
  {
   "cell_type": "code",
   "execution_count": 136,
   "metadata": {},
   "outputs": [
    {
     "data": {
      "image/png": "[encoded data removed]",
      "text/plain": [
       "<Figure size 432x288 with 1 Axes>"
      ]
     },
     "metadata": {
      "needs_background": "light"
     },
     "output_type": "display_data"
    }
   ],
   "source": [
    "# plot the probability of having used an EMR\n",
    "plt.hist(x=accessonlinerec_probs, bins=20)\n",
    "plt.xticks(np.arange(0.0, 1.1, step = 0.1))\n",
    "plt.xlabel('Probability')\n",
    "plt.ylabel('Count')\n",
    "plt.title('Predicted Probability of Having Used an EMR');"
   ]
  },
  {
   "cell_type": "markdown",
   "metadata": {},
   "source": [
    "This distribution has a large peak at the low end (\\< 0.10) and a smaller one around 0.85. It is relatively flat in the middle, and as with the previous variable, there are few entries \\> 0.90."
   ]
  },
  {
   "cell_type": "code",
   "execution_count": 137,
   "metadata": {},
   "outputs": [
    {
     "name": "stdout",
     "output_type": "stream",
     "text": [
      "N >= 90% probability: 67\n",
      "N <= 10% probability: 348\n"
     ]
    }
   ],
   "source": [
    "print('N >= 90% probability:', accessonlinerec_probs[accessonlinerec_probs >= 0.90].shape[0])\n",
    "print('N <= 10% probability:', accessonlinerec_probs[accessonlinerec_probs <= 0.10].shape[0])"
   ]
  },
  {
   "cell_type": "markdown",
   "metadata": {},
   "source": [
    "As the graph shows, this is very skewed toward lower probabilities. Let's try a wider range."
   ]
  },
  {
   "cell_type": "code",
   "execution_count": 138,
   "metadata": {},
   "outputs": [
    {
     "name": "stdout",
     "output_type": "stream",
     "text": [
      "N >= 80% probability: 367\n",
      "N <= 20% probability: 580\n"
     ]
    }
   ],
   "source": [
    "print('N >= 80% probability:', accessonlinerec_probs[accessonlinerec_probs >= 0.80].shape[0])\n",
    "print('N <= 20% probability:', accessonlinerec_probs[accessonlinerec_probs <= 0.20].shape[0])"
   ]
  },
  {
   "cell_type": "markdown",
   "metadata": {},
   "source": [
    "This is still skewed toward the lower end, but less so. "
   ]
  },
  {
   "cell_type": "markdown",
   "metadata": {},
   "source": [
    "Again, we want to look at characteristics of respondents in the high and low probability groups. As we did previously, we'll look at the 10 variables with the largest difference between predicted probability >= 0.80 and <= 0.20."
   ]
  },
  {
   "cell_type": "code",
   "execution_count": 139,
   "metadata": {},
   "outputs": [],
   "source": [
    "# append probabilities to the final X matrix\n",
    "X_test_acconlrec_finprobs =  pd.concat([X_test_acconlrec_rfe_final, pd.Series(accessonlinerec_probs)], axis = 1)"
   ]
  },
  {
   "cell_type": "code",
   "execution_count": 140,
   "metadata": {},
   "outputs": [
    {
     "data": {
      "text/html": [
       "<div>\n",
       "<style scoped>\n",
       "    .dataframe tbody tr th:only-of-type {\n",
       "        vertical-align: middle;\n",
       "    }\n",
       "\n",
       "    .dataframe tbody tr th {\n",
       "        vertical-align: top;\n",
       "    }\n",
       "\n",
       "    .dataframe thead th {\n",
       "        text-align: right;\n",
       "    }\n",
       "</style>\n",
       "<table border=\"1\" class=\"dataframe\">\n",
       "  <thead>\n",
       "    <tr style=\"text-align: right;\">\n",
       "      <th></th>\n",
       "      <th>highspanli</th>\n",
       "      <th>useinternet</th>\n",
       "      <th>electronic_selfhealthinfo</th>\n",
       "      <th>intrsn_visitedsocnet</th>\n",
       "      <th>regularprovider</th>\n",
       "      <th>healthinsurance</th>\n",
       "      <th>medconditions_diabetes</th>\n",
       "      <th>everhadcancer</th>\n",
       "      <th>freqgoprovider_3</th>\n",
       "      <th>freqgoprovider_4</th>\n",
       "      <th>...</th>\n",
       "      <th>hhinc_1</th>\n",
       "      <th>hhinc_2</th>\n",
       "      <th>censdiv_2</th>\n",
       "      <th>censdiv_6</th>\n",
       "      <th>censdiv_8</th>\n",
       "      <th>censdiv_9</th>\n",
       "      <th>ownabilitytakecarehealth_5</th>\n",
       "      <th>phq4_cat_4</th>\n",
       "      <th>tablet_discussionshcp_1</th>\n",
       "      <th>0</th>\n",
       "    </tr>\n",
       "  </thead>\n",
       "  <tbody>\n",
       "    <tr>\n",
       "      <th>0</th>\n",
       "      <td>0</td>\n",
       "      <td>1</td>\n",
       "      <td>1</td>\n",
       "      <td>1</td>\n",
       "      <td>0</td>\n",
       "      <td>1</td>\n",
       "      <td>0</td>\n",
       "      <td>0</td>\n",
       "      <td>0</td>\n",
       "      <td>1</td>\n",
       "      <td>...</td>\n",
       "      <td>0</td>\n",
       "      <td>0</td>\n",
       "      <td>0</td>\n",
       "      <td>0</td>\n",
       "      <td>0</td>\n",
       "      <td>1</td>\n",
       "      <td>0</td>\n",
       "      <td>0</td>\n",
       "      <td>0</td>\n",
       "      <td>0.366881</td>\n",
       "    </tr>\n",
       "    <tr>\n",
       "      <th>1</th>\n",
       "      <td>0</td>\n",
       "      <td>1</td>\n",
       "      <td>1</td>\n",
       "      <td>0</td>\n",
       "      <td>1</td>\n",
       "      <td>1</td>\n",
       "      <td>0</td>\n",
       "      <td>0</td>\n",
       "      <td>0</td>\n",
       "      <td>0</td>\n",
       "      <td>...</td>\n",
       "      <td>0</td>\n",
       "      <td>0</td>\n",
       "      <td>0</td>\n",
       "      <td>0</td>\n",
       "      <td>0</td>\n",
       "      <td>0</td>\n",
       "      <td>0</td>\n",
       "      <td>0</td>\n",
       "      <td>0</td>\n",
       "      <td>0.469071</td>\n",
       "    </tr>\n",
       "    <tr>\n",
       "      <th>2</th>\n",
       "      <td>0</td>\n",
       "      <td>0</td>\n",
       "      <td>0</td>\n",
       "      <td>1</td>\n",
       "      <td>0</td>\n",
       "      <td>1</td>\n",
       "      <td>0</td>\n",
       "      <td>1</td>\n",
       "      <td>0</td>\n",
       "      <td>0</td>\n",
       "      <td>...</td>\n",
       "      <td>0</td>\n",
       "      <td>0</td>\n",
       "      <td>0</td>\n",
       "      <td>0</td>\n",
       "      <td>0</td>\n",
       "      <td>1</td>\n",
       "      <td>0</td>\n",
       "      <td>0</td>\n",
       "      <td>0</td>\n",
       "      <td>0.056373</td>\n",
       "    </tr>\n",
       "    <tr>\n",
       "      <th>3</th>\n",
       "      <td>0</td>\n",
       "      <td>1</td>\n",
       "      <td>1</td>\n",
       "      <td>1</td>\n",
       "      <td>1</td>\n",
       "      <td>1</td>\n",
       "      <td>0</td>\n",
       "      <td>0</td>\n",
       "      <td>1</td>\n",
       "      <td>0</td>\n",
       "      <td>...</td>\n",
       "      <td>0</td>\n",
       "      <td>1</td>\n",
       "      <td>0</td>\n",
       "      <td>0</td>\n",
       "      <td>0</td>\n",
       "      <td>0</td>\n",
       "      <td>0</td>\n",
       "      <td>0</td>\n",
       "      <td>0</td>\n",
       "      <td>0.613879</td>\n",
       "    </tr>\n",
       "    <tr>\n",
       "      <th>4</th>\n",
       "      <td>0</td>\n",
       "      <td>1</td>\n",
       "      <td>1</td>\n",
       "      <td>1</td>\n",
       "      <td>1</td>\n",
       "      <td>1</td>\n",
       "      <td>0</td>\n",
       "      <td>0</td>\n",
       "      <td>0</td>\n",
       "      <td>0</td>\n",
       "      <td>...</td>\n",
       "      <td>0</td>\n",
       "      <td>0</td>\n",
       "      <td>0</td>\n",
       "      <td>0</td>\n",
       "      <td>0</td>\n",
       "      <td>0</td>\n",
       "      <td>0</td>\n",
       "      <td>0</td>\n",
       "      <td>1</td>\n",
       "      <td>0.876105</td>\n",
       "    </tr>\n",
       "  </tbody>\n",
       "</table>\n",
       "<p>5 rows × 46 columns</p>\n",
       "</div>"
      ],
      "text/plain": [
       "   highspanli  useinternet  electronic_selfhealthinfo  intrsn_visitedsocnet  \\\n",
       "0           0            1                          1                     1   \n",
       "1           0            1                          1                     0   \n",
       "2           0            0                          0                     1   \n",
       "3           0            1                          1                     1   \n",
       "4           0            1                          1                     1   \n",
       "\n",
       "   regularprovider  healthinsurance  medconditions_diabetes  everhadcancer  \\\n",
       "0                0                1                       0              0   \n",
       "1                1                1                       0              0   \n",
       "2                0                1                       0              1   \n",
       "3                1                1                       0              0   \n",
       "4                1                1                       0              0   \n",
       "\n",
       "   freqgoprovider_3  freqgoprovider_4  ...  hhinc_1  hhinc_2  censdiv_2  \\\n",
       "0                 0                 1  ...        0        0          0   \n",
       "1                 0                 0  ...        0        0          0   \n",
       "2                 0                 0  ...        0        0          0   \n",
       "3                 1                 0  ...        0        1          0   \n",
       "4                 0                 0  ...        0        0          0   \n",
       "\n",
       "   censdiv_6  censdiv_8  censdiv_9  ownabilitytakecarehealth_5  phq4_cat_4  \\\n",
       "0          0          0          1                           0           0   \n",
       "1          0          0          0                           0           0   \n",
       "2          0          0          1                           0           0   \n",
       "3          0          0          0                           0           0   \n",
       "4          0          0          0                           0           0   \n",
       "\n",
       "   tablet_discussionshcp_1         0  \n",
       "0                        0  0.366881  \n",
       "1                        0  0.469071  \n",
       "2                        0  0.056373  \n",
       "3                        0  0.613879  \n",
       "4                        1  0.876105  \n",
       "\n",
       "[5 rows x 46 columns]"
      ]
     },
     "metadata": {},
     "output_type": "display_data"
    },
    {
     "data": {
      "text/plain": [
       "(2328, 46)"
      ]
     },
     "metadata": {},
     "output_type": "display_data"
    }
   ],
   "source": [
    "# check it\n",
    "display(X_test_acconlrec_finprobs.head())\n",
    "display(X_test_acconlrec_finprobs.shape)"
   ]
  },
  {
   "cell_type": "code",
   "execution_count": 141,
   "metadata": {},
   "outputs": [
    {
     "data": {
      "text/plain": [
       "Index(['highspanli', 'useinternet', 'electronic_selfhealthinfo',\n",
       "       'intrsn_visitedsocnet', 'regularprovider', 'healthinsurance',\n",
       "       'medconditions_diabetes', 'everhadcancer', 'freqgoprovider_3',\n",
       "       'freqgoprovider_4', 'freqgoprovider_5', 'freqgoprovider_6',\n",
       "       'avgdrinks_cat_4', 'whruseinet_pubvother_1', 'whruseinet_pubvother_2',\n",
       "       'educa_2', 'educa_3', 'educa_4', 'internet_broadbnd_1',\n",
       "       'nchsurcode2013_4', 'nchsurcode2013_5', 'survey_cycle_3',\n",
       "       'survey_cycle_4', 'survey_cycle_5', 'selfgender_2', 'qualitycare_1',\n",
       "       'qualitycare_2', 'qualitycare_3', 'qualitycare_4', 'qualitycare_5',\n",
       "       'havedevice_cat_5', 'maritalstatus_5', 'smokestat_2', 'smokestat_3',\n",
       "       'raceethn5_3', 'tablethealthwellnessapps_1', 'hhinc_1', 'hhinc_2',\n",
       "       'censdiv_2', 'censdiv_6', 'censdiv_8', 'censdiv_9',\n",
       "       'ownabilitytakecarehealth_5', 'phq4_cat_4', 'tablet_discussionshcp_1',\n",
       "       'pred_proba'],\n",
       "      dtype='object')"
      ]
     },
     "metadata": {},
     "output_type": "display_data"
    }
   ],
   "source": [
    "# rename the probability column\n",
    "X_test_acconlrec_finprobs.rename(columns = {0:\"pred_proba\"}, inplace = True)\n",
    "display(X_test_acconlrec_finprobs.columns)"
   ]
  },
  {
   "cell_type": "code",
   "execution_count": 142,
   "metadata": {},
   "outputs": [],
   "source": [
    "# Get the top 10 categories by %age for predict probability >= 80 and <= 20\n",
    "# denominators for %age\n",
    "N_aor_80 = accessonlinerec_probs[accessonlinerec_probs >= 0.80].shape[0]\n",
    "N_aor_20 = accessonlinerec_probs[accessonlinerec_probs <= 0.20].shape[0]"
   ]
  },
  {
   "cell_type": "code",
   "execution_count": 143,
   "metadata": {},
   "outputs": [],
   "source": [
    "# list of columns\n",
    "aor_cols = list(X_test_acconlrec_finprobs.columns)\n",
    "aor_cols.remove('pred_proba')"
   ]
  },
  {
   "cell_type": "code",
   "execution_count": 144,
   "metadata": {},
   "outputs": [],
   "source": [
    "# make a df for the results\n",
    "df_aor_pcts = pd.DataFrame(index = aor_cols, columns = ['pct_ge80', 'pct_le20'])"
   ]
  },
  {
   "cell_type": "code",
   "execution_count": 145,
   "metadata": {},
   "outputs": [],
   "source": [
    "# get the %age of each variable in the prob >= 80 and prob <= 20 groups\n",
    "for col in aor_cols:\n",
    "    df_aor_pcts.loc[col, 'pct_ge80'] = X_test_acconlrec_finprobs[col][X_test_acconlrec_finprobs['pred_proba'] >= 0.80].sum()/(0.01*N_aor_80)    \n",
    "    df_aor_pcts.loc[col, 'pct_le20'] = X_test_acconlrec_finprobs[col][X_test_acconlrec_finprobs['pred_proba'] <= 0.20].sum()/(0.01*N_aor_20)"
   ]
  },
  {
   "cell_type": "code",
   "execution_count": 146,
   "metadata": {},
   "outputs": [],
   "source": [
    "# get the difference\n",
    "df_aor_pcts['diff'] = df_aor_pcts['pct_ge80'] - df_aor_pcts['pct_le20']\n",
    "# and absolute difference for sorting\n",
    "df_aor_pcts['absdiff'] = np.abs(df_aor_pcts['diff'])"
   ]
  },
  {
   "cell_type": "code",
   "execution_count": 147,
   "metadata": {},
   "outputs": [],
   "source": [
    "df_topabs2 = df_aor_pcts.sort_values(by='absdiff', ascending=False).head(10)"
   ]
  },
  {
   "cell_type": "code",
   "execution_count": 148,
   "metadata": {},
   "outputs": [
    {
     "data": {
      "text/html": [
       "<div>\n",
       "<style scoped>\n",
       "    .dataframe tbody tr th:only-of-type {\n",
       "        vertical-align: middle;\n",
       "    }\n",
       "\n",
       "    .dataframe tbody tr th {\n",
       "        vertical-align: top;\n",
       "    }\n",
       "\n",
       "    .dataframe thead th {\n",
       "        text-align: right;\n",
       "    }\n",
       "</style>\n",
       "<table border=\"1\" class=\"dataframe\">\n",
       "  <thead>\n",
       "    <tr style=\"text-align: right;\">\n",
       "      <th></th>\n",
       "      <th>pct_ge80</th>\n",
       "      <th>pct_le20</th>\n",
       "      <th>diff</th>\n",
       "      <th>absdiff</th>\n",
       "    </tr>\n",
       "  </thead>\n",
       "  <tbody>\n",
       "    <tr>\n",
       "      <th>tablet_discussionshcp_1</th>\n",
       "      <td>91.008174</td>\n",
       "      <td>4.482759</td>\n",
       "      <td>86.525416</td>\n",
       "      <td>86.525416</td>\n",
       "    </tr>\n",
       "    <tr>\n",
       "      <th>tablethealthwellnessapps_1</th>\n",
       "      <td>91.825613</td>\n",
       "      <td>12.241379</td>\n",
       "      <td>79.584234</td>\n",
       "      <td>79.584234</td>\n",
       "    </tr>\n",
       "    <tr>\n",
       "      <th>electronic_selfhealthinfo</th>\n",
       "      <td>99.182561</td>\n",
       "      <td>30.172414</td>\n",
       "      <td>69.010148</td>\n",
       "      <td>69.010148</td>\n",
       "    </tr>\n",
       "    <tr>\n",
       "      <th>havedevice_cat_5</th>\n",
       "      <td>84.196185</td>\n",
       "      <td>19.827586</td>\n",
       "      <td>64.368599</td>\n",
       "      <td>64.368599</td>\n",
       "    </tr>\n",
       "    <tr>\n",
       "      <th>educa_4</th>\n",
       "      <td>77.384196</td>\n",
       "      <td>17.241379</td>\n",
       "      <td>60.142817</td>\n",
       "      <td>60.142817</td>\n",
       "    </tr>\n",
       "    <tr>\n",
       "      <th>useinternet</th>\n",
       "      <td>100.0</td>\n",
       "      <td>44.827586</td>\n",
       "      <td>55.172414</td>\n",
       "      <td>55.172414</td>\n",
       "    </tr>\n",
       "    <tr>\n",
       "      <th>intrsn_visitedsocnet</th>\n",
       "      <td>91.008174</td>\n",
       "      <td>39.137931</td>\n",
       "      <td>51.870243</td>\n",
       "      <td>51.870243</td>\n",
       "    </tr>\n",
       "    <tr>\n",
       "      <th>internet_broadbnd_1</th>\n",
       "      <td>64.032698</td>\n",
       "      <td>14.482759</td>\n",
       "      <td>49.549939</td>\n",
       "      <td>49.549939</td>\n",
       "    </tr>\n",
       "    <tr>\n",
       "      <th>regularprovider</th>\n",
       "      <td>95.640327</td>\n",
       "      <td>49.655172</td>\n",
       "      <td>45.985155</td>\n",
       "      <td>45.985155</td>\n",
       "    </tr>\n",
       "    <tr>\n",
       "      <th>whruseinet_pubvother_2</th>\n",
       "      <td>81.19891</td>\n",
       "      <td>37.241379</td>\n",
       "      <td>43.957531</td>\n",
       "      <td>43.957531</td>\n",
       "    </tr>\n",
       "  </tbody>\n",
       "</table>\n",
       "</div>"
      ],
      "text/plain": [
       "                             pct_ge80   pct_le20       diff    absdiff\n",
       "tablet_discussionshcp_1     91.008174   4.482759  86.525416  86.525416\n",
       "tablethealthwellnessapps_1  91.825613  12.241379  79.584234  79.584234\n",
       "electronic_selfhealthinfo   99.182561  30.172414  69.010148  69.010148\n",
       "havedevice_cat_5            84.196185  19.827586  64.368599  64.368599\n",
       "educa_4                     77.384196  17.241379  60.142817  60.142817\n",
       "useinternet                     100.0  44.827586  55.172414  55.172414\n",
       "intrsn_visitedsocnet        91.008174  39.137931  51.870243  51.870243\n",
       "internet_broadbnd_1         64.032698  14.482759  49.549939  49.549939\n",
       "regularprovider             95.640327  49.655172  45.985155  45.985155\n",
       "whruseinet_pubvother_2       81.19891  37.241379  43.957531  43.957531"
      ]
     },
     "execution_count": 148,
     "metadata": {},
     "output_type": "execute_result"
    }
   ],
   "source": [
    "df_topabs2"
   ]
  },
  {
   "cell_type": "code",
   "execution_count": 149,
   "metadata": {},
   "outputs": [
    {
     "data": {
      "image/png": "[encoded data removed]",
      "text/plain": [
       "<Figure size 864x576 with 1 Axes>"
      ]
     },
     "metadata": {
      "needs_background": "light"
     },
     "output_type": "display_data"
    }
   ],
   "source": [
    "fig, bar4 = plt.subplots(figsize = (12,8))\n",
    "y_labs2 = ['Uses tablet for HCP discussion', 'Has tablet with health apps', 'Searches web for health info',\\\n",
    "          'Owns multiple portable e-devices', 'Education: >= college degree', 'Uses internet', \\\n",
    "          'Visits social network sites', 'Has broadband access', 'Has regular HCP', \"Doesn't use public internet\"] \n",
    "df_topabs2['negpos'] = df_topabs2['diff'] < 0\n",
    "bar4 = plt.barh(data=df_topabs2, y=np.arange(10), width='diff', tick_label=y_labs2,\\\n",
    "               color=df_topabs2['negpos'].map({True:'r', False:'g'}))\n",
    "plt.title('Features with Largest Difference in % Prevalence between Patients with \\n Probability of Using EMR >= 80% and <= 20%')\n",
    "plt.xlabel('Difference in Prevalence (%)')\n",
    "plt.ylabel('Feature')\n",
    "plt.xticks(np.arange(0, 90, 10));"
   ]
  },
  {
   "cell_type": "markdown",
   "metadata": {},
   "source": [
    "The 10 features with the biggest difference in prevalence between predicted probabilities of \\>= 0.80 and \\<= 0.20 of being having used an EMR in the past 12 months are shown above.  \n",
    "Red bars would indicate features more prevalent in patients with predicted probability \\<= 0.20 of having used an EMR. None of the features fall into this category.  \n",
    "Green bars indicate features more prevalent in patients with predicted probability \\>= 0.80 of having used an EMR. Unlike those offered access, there is no gender difference. Similarly, these patients are more likely to have at least a college degree. Medically, they are again more likely to have a regular HCP. Again similar to those offered access, the rest of the variables relate to internet access and use: they are more likely to use the internet and to have broadband internet access. They are less likely to access the internet via public resources (e.g. a library). They are more likely to use the internet to access social networking sites. They tend to have multiple portable electronic devices, to look for health information on the web, monitor their health with table apps, and use a tablet in discussions with their HCP."
   ]
  },
  {
   "cell_type": "code",
   "execution_count": 31,
   "metadata": {},
   "outputs": [],
   "source": [
    "# scoring metrics for the ML models\n",
    "def get_scores(y_test, y_pred):\n",
    "    '''\n",
    "    get scores for the fitted models\n",
    "    inputs:\n",
    "    y_test (series) = true labels\n",
    "    y_preds (series) = model predictions\n",
    "    \n",
    "    returns: \n",
    "    prec (float) : precision score\n",
    "    rec (float): recall score\n",
    "    acc (flot) : accuracy score\n",
    "    '''\n",
    "    \n",
    "    cm = confusion_matrix(y_test, y_pred)\n",
    "    prec = precision_score(y_test, y_pred, average = 'weighted')\n",
    "    rec = recall_score(y_test, y_pred, average = 'weighted')\n",
    "    acc = accuracy_score(y_test, y_pred)\n",
    "    print('confusion matrix:\\n', cm)\n",
    "    print('precision: {:.5f}; recall: {:.5f}, accuracy: {:.5f}'.format(prec, rec, acc))\n",
    "    \n",
    "    return prec, rec, acc"
   ]
  },
  {
   "cell_type": "markdown",
   "metadata": {},
   "source": [
    "<a id=\"overallsum\"></a>\n",
    "## Overall Summary"
   ]
  },
  {
   "cell_type": "markdown",
   "metadata": {},
   "source": [
    "In this analysis, three years of data from the National Cancer Institute's [HINTS](https://hints.cancer.gov/) were used to analyze patient attributes associated with access to and use of EMRs. Data were screened using the HINTS codebooks, cleaned, merged and split 70/30 into training and test datasets.  \n",
    "\n",
    "Preliminary univariate analysis of the training set was carried out using Kruskal-Wallis and chi-squared contingency table methods, with significant variables retained for a multivariate machine learning model.  \n",
    "\n",
    "After cleaning and univariate analysis, the initial set of 59 variables was reduced to 38 with a significant univariate relationship to EMR access and 41 with a significant univariate relationship to EMR use. After dealing with missing and erroneous data codes, the initial dataset of 11942 records was reduced to 7818 records: 5490 in the training set and 2328 in the test set. \n",
    "\n",
    "From these data, machine learning models were constructed using logistic regression. Expanding the categorical variables with dummy encodings resulted in 106 features for predicting access to an EMR and 109 for predicting use of an EMR. Feature reduction was accomplished with recursive feature elimination (RFE), initially with an automatic variable selection algorithm (RFECV), then using RFE with manually set feature thresholds to see further reduce the feature space. Overfitting was asssessed by looking for large discrepancies in precision, recall, and accuracy between the training and test set predictions. Adequacy of fit of the models was determined by precision and recall of predictions on the test set.\n",
    "\n",
    "The original EMR access outcome variable (`offeredaccesseither`) was multi-class with three categories (\"yes\", \"no\", \"don't know\"). Fitting an RFECV automatically-pruned logistic regression model for this outcome resulted in 64 features, with relatively poor precision (0.622) and recall (0.555). Tuning the model parameters with a grid search resulted in a model with 81 features, and minimal improvements in precision (0.630) and recall (0.567).  \n",
    "\n",
    "To potentially improve fit, the sparse \"don't know\" category was merged with \"no\", creating a binary outcome with better class balance. The binary model with default parameters and RFECV pruning had 52 features, and and improved precision (0.702) and recall (0.696). Grid-search tuning yielded a 93-feature model with essentially the same precision (0.706) and recall (0.700). Due to the increase in features and minimal improvement in fit, the latter model was discarded, and the former was taken as the starting point for manual feature reduction with RFE. From the initial 52-feature model, reduced models selected by RFE with between 5 and 50 parameters (in 5-parameter increments) were fit. Best precision (0.705) and recall (0.699) were obtained at 30 features, and this model was selected as the final one. \n",
    "\n",
    "Demographic features associated with increased predicted likelihood of EMR access were female gender, higher education, and moderately older age (65-74). There was also an effect of year (survey cycle), and the COVID-19 pandemic. Demographics associated with decreased likelihood of access were being single, low income, non-Hispanic Asian race, linguistic isolation, and residing in the East South Central census division.\n",
    "\n",
    "Health-related features associated with increased predicted EMR access were having a regular HCP whose care was more highly rated, seeing that HCP two or more times yearly, having health insurance, and a history of cancer. Features in this category associated with less likelihood of access were public insurance (Medicare and/or Medicaid) alone, very heavy drinking, and low confidence in one's ability to manage health affairs.\n",
    "\n",
    "E-device and internet-related factors predicting increased likelihood of access were internet use, increased use of e-devices and the web for health-related purposes, visiting social-networking sites, and degree of use of public internet access. No variable in this category predicted reduced access.\n",
    "\n",
    "The strength of each feature was examined via its odds ratio. The features most strongly associated with increased access were having health insurance and highly rating one's care. Those most strongly associated with decreased likelihood of access were low confidence in one's ability to manage health affairs, and non-Hispanic Asian race. \n",
    "\n",
    "Finally, features with the largest difference in prevalence between those with predicted likelihood of \\>= 80% and \\<= 20% of being offered EMR access were assessed. Of the top ten, lower income was more prevalent in the low-likelihood group, while female gender, higher education level, having a regular HCP, higher HCP rating, and several variables relating to increased internet/device use and use for health-related purposes were more prevalent in the high-likelihood group.\n",
    "\n",
    "Similar to the access variable, the EMR use variable (`accessonlinerecord`) was multiclass, except with five categories, relating to increased use frequency. The initial RFECV + logistic regression model for this outcome had 82 features and fair precision (0.607) with poor recall (0.471). Tuning the parameters with grid search gave a 99-parameter model with decreased precision (0.551) and slightly improved, but still poor, recall (0.517). \n",
    "\n",
    "As with the other outcome, the culprit was believed to be the less frequent categories causing imbalanced predictions. A binary outcome variable comparing \"none\" to \"any\" use of the EMR was therefore created. The default RFECV + logistic regression model for this outcome showed greatly improved precision (0.741) and recall (0.724) using 62 features. Grid-search tuning decreased the feature space to 54 but with lower precision (0.709) and recall (0.689).  Based on this, the 62-feature model was used as the starting point for manual RFE tuning. Models containing from 5 to 60 features (again in 5-feature increments) were created and their scores compared. Optimal precision (0.742) and recall (0.724) were obtained with both 45 and 50 features; 45 was selected as more parsimonious. \n",
    "\n",
    "Demographic features associated with increased predicted likelihood of EMR use were female gender, any education \\>= high school,  and living in the Pacific (CA, OR, WA, AK, HI) census division. There was again an effect of year (survey cycle), and the COVID-19 pandemic. Demographics associated with decreased likelihood of use were being separated, lower income, Hispanic race, linguistic isolation, residing in the Middle Atlantic, East South Central, or Mountain census divisions, and residing in a more rural area.\n",
    "\n",
    "Health-related features associated with increased predicted EMR use were having a regular HCP, see an HCP >= 3 times yearly, any care rating (aside from none/don't visit HCP), having health insurance, a history of diabetes or cancer, and being a current non-smoker. Features in this category associated with less likelihood of use were heavy drinking, severe psychological distress (highest PHQ-4 score) and low confidence in one's ability to manage health affairs.\n",
    "\n",
    "E-device and internet-related factors predicting increased likelihood of EMR use were internet use, broadband access, having multiple e-devices, increased use of the devices and the web for health-related purposes, and degree of use of public internet access. As previously, no variable in this category predicted reduced use.\n",
    "\n",
    "Examining odds ratios, an \"excellent\" HCP-care rating and >= college degree were most strongly associated with increased likelihood of EMR use.  Those most strongly associated with decreased likelihood of access were residing in the East South Central census division and in a linguistically-isolated area.  \n",
    "\n",
    "Finally, prevalence differences between those with predicted likelihood of \\>= 80% and \\<= 20% of having used an EMR were assessed. The top ten were all more common in those predicted more likely to use an EMR. With the exception of education >= college degree and having a regular HCP, all were related to increased internet and e-device access/use for both general and health-related purposes. "
   ]
  },
  {
   "cell_type": "markdown",
   "metadata": {},
   "source": [
    "<a id=\"conclusions\"></a>\n",
    "## Conclusions"
   ]
  },
  {
   "cell_type": "markdown",
   "metadata": {},
   "source": [
    "The machine learning models were able to identify features associated with EMR access and use using data from publicly-available US government datasets.\n",
    "\n",
    "Survey respondents more likely to be offered access to an EMR by their HCP or insurer tended to be better-educated, female, and to more heavily use electronic resources for health information. These characteristics could indicate some bias toward offering EMR access to those most likely to use them. This possibility should be studied further to enhance equality of access to EMRs.\n",
    "\n",
    "They also tended to visit their HCPs more frequently, possibly indicating more complex medical needs. In terms of chronic conditions, only having had cancer predicted higher likelihood of being offered access. Whether there is a need to more aggressively offer access to patients with other chronic conditions should be further explored.\n",
    "\n",
    "Finally, there was a time effect, with access increasing with survey cycle. However, the post-pandemic 2020 variable had less influence than the pre-pandemic 2020 variable, so there was not an obvious bump in EMR availability in the (admittedly limited) post-pandemic period for which data are available.\n",
    "\n",
    "Conversely, those less likely to be offered EMR access were in the lowest education and annual income tiers, were more likely to live in the East South Central census division and linguistically isolated areas, tended to be single, more likely on public health insurance, and to be heavy drinkers and to have very low confidence in their ability to manage their healthcare. Most of these variables indicate patients less likely generally to have access to resources, including healthcare. These patients may have less interaction with their HCPs, or may be pre-judged poor candidates by their HCPs. Linguistic isolation indicates they may be poor English speakers and not be able to communicate well with HCPs. They could potentially benefit from educational initiatives, preferably in their native language, promoting the value of EMRs and offering instruction on their use. HCPs could also potentially be unaware of unconscious biases regarding these patients, and could also possibly benefit from incentives to expand EMR access to underserved patients. \n",
    "\n",
    "Similarly, those more likely to use an EMR also tended to be female, more educated, more frequent visitors to their HCPs, and to be more frequent users of electronic devices and health-related information. In terms of chronic conditions, both diabetes and cancer histories predicted increased EMR use. \n",
    "\n",
    "The time effect was the same as for EMR access, with use increasing with each survey cycle, but with the post-pandemic period less influential than pre-pandemic 2020. \n",
    "\n",
    "Again, it appears more electronically- and health-literate patients tend to be more likely to use EMRs. Appropriately, those with higher HCP visit frequencies and chronic conditions are more likely to use EMRs. These patients may have complex medical histories and multiple HCPs, and should benefit from having their information be more portable in electronic form, as well as from having access to their data for discussions with HCPs or family members. \n",
    "\n",
    "Also similar to those less likely to be offered EMR access, those predicted less likely to use an EMR tend to be in the lowest income category, to reside in the East South Central census division and in linguistically isolated areas, rate their ability to manage their own care poorly, and tend to be heavier drinkers. These similarities may be due to the fact that those not offered EMR access will also not have used an EMR. \n",
    "\n",
    "Additionally, these patients tend to come from more rural areas, to be in the second-lowest income bracket, to identify as Hispanic, to meet PHQ-4 criteria for severe psychological distress. These indicators again identify a group of patients who may have less access to resources, particularly healthcare. Severe psychological distress may indicate those who need more support/assistance to manage their health affairs. As above, these patients may benefit from language-appropriate, targeted outreach and education to emphasize the availability and benefits of an EMR. "
   ]
  },
  {
   "cell_type": "markdown",
   "metadata": {},
   "source": [
    "<a id=\"limitations\"></a>\n",
    "### Limitations"
   ]
  },
  {
   "cell_type": "markdown",
   "metadata": {},
   "source": [
    "The dataset was limited to fields available from HINTS, which is not specifically designed as a survey of EMR use.\n",
    "While the HINTS survey is designed to be representative of the US population, the fields of interest for this study had a fair number of missing entries, whose deletion may have altered the composition of the sample to be less representative.  \n",
    "While data were available on patients' history of several chronic conditions, no data were available on the complexity of patients' overall medical condition or their comorbidity burden. These factors may increase the need for multiple HCP visits as well as visits to multiple different HCPs, which would increase the need for access to a usable, portable EMR.  \n",
    "Similarly, the survey does not elucidate how many different HCPs a patient sees. It also does not have data on urgent-care, emergency, or inpatient medical visits. The need for multiple of these may indicate patients who need closer follow-up, who may access multiple sources of healthcare, and who might benefit from having access to their multiple-source healthcare records.  \n",
    "Finally, since the survey is conducted between January and April of each year, the post-pandemic data for 2020 only cover a limited time period. \n",
    "\n",
    "<a id=\"improve\"></a>\n",
    "### Areas for Improvement and Future Study"
   ]
  },
  {
   "cell_type": "markdown",
   "metadata": {},
   "source": [
    "Further studies could assess in depth the barriers HCPs face to educating patients on and disseminating access to EMRs. Is there a lack of resources in HCPs' offices to discuss and educate patients on EMRs, potentially creating a bias toward offering them primarily to \"likely adopters\" who need less assistance? Similarly, could there be a lack of |interest in managing the patient-facing aspects of the EMR and its possibly increased burden on HCP staff?\n",
    "\n",
    "Another area for additional study could include examining the reasons patients with EMR access do not use them. Questions related to this are part of HINTS, but that additional analysis was beyond the scope of this project. Perhaps some patients prefer direct in-person interaction when discussion complex health matters, or perhaps they feel the data in the EMR are not useful outside the context of the actual visit. There could also be privacy concerns about accessing such sensitive data electronically.\n",
    "  \n",
    "Additionally, assessing patient and HCP perceptions of the pros and cons of the various EMRs, especially in terms of their usability, would be interesting. From the patient end, it would be useful to know whether the data available come with any patinet-friendly interpretation as (e.g.) raw diagnostic tests or lab results would be mostly uninterpretable by those with no medical background.  \n",
    "\n",
    "Although interoperability is a very specific goal of the Center for Medicare and Medicaid Services' EMR [\"Meaningful Use\" initiative](https://www.cms.gov/Regulations-and-Guidance/Legislation/EHRIncentivePrograms/Downloads/Stages_ofMeaningfulUseTablepdf.pdf), it would also be worthwhile to study how interoperable the various EMR systems actually are, especially from the perspective of the end-user. This would be especially relevant to patients with multiple providers who might use different EMR platforms. \n",
    "\n",
    "Finally, there was not a clear increase in access to or use of EMRs in the post-pandemic period. There was a time effect, with access increasing with survey cycle, but not a larger increase for the post-pandemic cycle. However, the post-pandemic period studied was relatively short and further follow-up may better elucidate whether or not this unique circumstance affected EMR access and use."
   ]
  },
  {
   "cell_type": "code",
   "execution_count": null,
   "metadata": {},
   "outputs": [],
   "source": []
  }
 ],
 "metadata": {
  "kernelspec": {
   "display_name": "dsfinenv",
   "language": "python",
   "name": "dsfinenv"
  },
  "language_info": {
   "codemirror_mode": {
    "name": "ipython",
    "version": 3
   },
   "file_extension": ".py",
   "mimetype": "text/x-python",
   "name": "python",
   "nbconvert_exporter": "python",
   "pygments_lexer": "ipython3",
   "version": "3.8.5"
  }
 },
 "nbformat": 4,
 "nbformat_minor": 4
}
